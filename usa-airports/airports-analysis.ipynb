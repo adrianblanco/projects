{
 "cells": [
  {
   "cell_type": "markdown",
   "metadata": {},
   "source": [
    "TSA Claims data\n",
    "https://www.dhs.gov/tsa-claims-data"
   ]
  },
  {
   "cell_type": "code",
   "execution_count": 1,
   "metadata": {},
   "outputs": [],
   "source": [
    "import pandas as pd\n",
    "import matplotlib.pyplot as plt\n",
    "\n",
    "%matplotlib inline"
   ]
  },
  {
   "cell_type": "markdown",
   "metadata": {},
   "source": [
    "## Read the data "
   ]
  },
  {
   "cell_type": "code",
   "execution_count": null,
   "metadata": {},
   "outputs": [],
   "source": [
    "# .csv with coordinates data of the airports\n",
    "coordinates_df = pd.read_csv('airport_data.csv')\n",
    "coordinates_df.head()"
   ]
  },
  {
   "cell_type": "code",
   "execution_count": 2,
   "metadata": {},
   "outputs": [
    {
     "data": {
      "text/html": [
       "<div>\n",
       "<style scoped>\n",
       "    .dataframe tbody tr th:only-of-type {\n",
       "        vertical-align: middle;\n",
       "    }\n",
       "\n",
       "    .dataframe tbody tr th {\n",
       "        vertical-align: top;\n",
       "    }\n",
       "\n",
       "    .dataframe thead th {\n",
       "        text-align: right;\n",
       "    }\n",
       "</style>\n",
       "<table border=\"1\" class=\"dataframe\">\n",
       "  <thead>\n",
       "    <tr style=\"text-align: right;\">\n",
       "      <th></th>\n",
       "      <th>year</th>\n",
       "      <th>month</th>\n",
       "      <th>carrier</th>\n",
       "      <th>carrier_name</th>\n",
       "      <th>airport</th>\n",
       "      <th>airport_name</th>\n",
       "      <th>arr_flights</th>\n",
       "      <th>arr_del15</th>\n",
       "      <th>carrier_ct</th>\n",
       "      <th>weather_ct</th>\n",
       "      <th>...</th>\n",
       "      <th>late_aircraft_ct</th>\n",
       "      <th>arr_cancelled</th>\n",
       "      <th>arr_diverted</th>\n",
       "      <th>arr_delay</th>\n",
       "      <th>carrier_delay</th>\n",
       "      <th>weather_delay</th>\n",
       "      <th>nas_delay</th>\n",
       "      <th>security_delay</th>\n",
       "      <th>late_aircraft_delay</th>\n",
       "      <th>Unnamed: 21</th>\n",
       "    </tr>\n",
       "  </thead>\n",
       "  <tbody>\n",
       "    <tr>\n",
       "      <th>0</th>\n",
       "      <td>2018</td>\n",
       "      <td>8</td>\n",
       "      <td>MQ</td>\n",
       "      <td>Envoy Air</td>\n",
       "      <td>RDU</td>\n",
       "      <td>Raleigh/Durham, NC: Raleigh-Durham International</td>\n",
       "      <td>237.0</td>\n",
       "      <td>66.0</td>\n",
       "      <td>12.80</td>\n",
       "      <td>1.96</td>\n",
       "      <td>...</td>\n",
       "      <td>22.51</td>\n",
       "      <td>37.0</td>\n",
       "      <td>1.0</td>\n",
       "      <td>3840.0</td>\n",
       "      <td>614.0</td>\n",
       "      <td>136.0</td>\n",
       "      <td>1685.0</td>\n",
       "      <td>0.0</td>\n",
       "      <td>1405.0</td>\n",
       "      <td>NaN</td>\n",
       "    </tr>\n",
       "    <tr>\n",
       "      <th>1</th>\n",
       "      <td>2018</td>\n",
       "      <td>8</td>\n",
       "      <td>MQ</td>\n",
       "      <td>Envoy Air</td>\n",
       "      <td>RIC</td>\n",
       "      <td>Richmond, VA: Richmond International</td>\n",
       "      <td>233.0</td>\n",
       "      <td>68.0</td>\n",
       "      <td>9.93</td>\n",
       "      <td>2.05</td>\n",
       "      <td>...</td>\n",
       "      <td>25.93</td>\n",
       "      <td>20.0</td>\n",
       "      <td>1.0</td>\n",
       "      <td>3485.0</td>\n",
       "      <td>575.0</td>\n",
       "      <td>90.0</td>\n",
       "      <td>1401.0</td>\n",
       "      <td>0.0</td>\n",
       "      <td>1419.0</td>\n",
       "      <td>NaN</td>\n",
       "    </tr>\n",
       "    <tr>\n",
       "      <th>2</th>\n",
       "      <td>2018</td>\n",
       "      <td>8</td>\n",
       "      <td>MQ</td>\n",
       "      <td>Envoy Air</td>\n",
       "      <td>ROA</td>\n",
       "      <td>Roanoke, VA: Roanoke Blacksburg Regional Woodr...</td>\n",
       "      <td>31.0</td>\n",
       "      <td>9.0</td>\n",
       "      <td>1.53</td>\n",
       "      <td>0.00</td>\n",
       "      <td>...</td>\n",
       "      <td>1.90</td>\n",
       "      <td>3.0</td>\n",
       "      <td>0.0</td>\n",
       "      <td>549.0</td>\n",
       "      <td>190.0</td>\n",
       "      <td>0.0</td>\n",
       "      <td>183.0</td>\n",
       "      <td>0.0</td>\n",
       "      <td>176.0</td>\n",
       "      <td>NaN</td>\n",
       "    </tr>\n",
       "    <tr>\n",
       "      <th>3</th>\n",
       "      <td>2018</td>\n",
       "      <td>8</td>\n",
       "      <td>MQ</td>\n",
       "      <td>Envoy Air</td>\n",
       "      <td>ROC</td>\n",
       "      <td>Rochester, NY: Greater Rochester International</td>\n",
       "      <td>174.0</td>\n",
       "      <td>34.0</td>\n",
       "      <td>5.94</td>\n",
       "      <td>1.47</td>\n",
       "      <td>...</td>\n",
       "      <td>11.16</td>\n",
       "      <td>17.0</td>\n",
       "      <td>0.0</td>\n",
       "      <td>1986.0</td>\n",
       "      <td>343.0</td>\n",
       "      <td>95.0</td>\n",
       "      <td>606.0</td>\n",
       "      <td>0.0</td>\n",
       "      <td>942.0</td>\n",
       "      <td>NaN</td>\n",
       "    </tr>\n",
       "    <tr>\n",
       "      <th>4</th>\n",
       "      <td>2018</td>\n",
       "      <td>8</td>\n",
       "      <td>MQ</td>\n",
       "      <td>Envoy Air</td>\n",
       "      <td>ROW</td>\n",
       "      <td>Roswell, NM: Roswell International Air Center</td>\n",
       "      <td>30.0</td>\n",
       "      <td>6.0</td>\n",
       "      <td>0.64</td>\n",
       "      <td>0.00</td>\n",
       "      <td>...</td>\n",
       "      <td>4.51</td>\n",
       "      <td>0.0</td>\n",
       "      <td>0.0</td>\n",
       "      <td>585.0</td>\n",
       "      <td>56.0</td>\n",
       "      <td>0.0</td>\n",
       "      <td>65.0</td>\n",
       "      <td>0.0</td>\n",
       "      <td>464.0</td>\n",
       "      <td>NaN</td>\n",
       "    </tr>\n",
       "  </tbody>\n",
       "</table>\n",
       "<p>5 rows × 22 columns</p>\n",
       "</div>"
      ],
      "text/plain": [
       "   year   month carrier carrier_name airport  \\\n",
       "0  2018       8      MQ    Envoy Air     RDU   \n",
       "1  2018       8      MQ    Envoy Air     RIC   \n",
       "2  2018       8      MQ    Envoy Air     ROA   \n",
       "3  2018       8      MQ    Envoy Air     ROC   \n",
       "4  2018       8      MQ    Envoy Air     ROW   \n",
       "\n",
       "                                        airport_name  arr_flights  arr_del15  \\\n",
       "0   Raleigh/Durham, NC: Raleigh-Durham International        237.0       66.0   \n",
       "1               Richmond, VA: Richmond International        233.0       68.0   \n",
       "2  Roanoke, VA: Roanoke Blacksburg Regional Woodr...         31.0        9.0   \n",
       "3     Rochester, NY: Greater Rochester International        174.0       34.0   \n",
       "4      Roswell, NM: Roswell International Air Center         30.0        6.0   \n",
       "\n",
       "   carrier_ct   weather_ct     ...       late_aircraft_ct  arr_cancelled  \\\n",
       "0       12.80         1.96     ...                  22.51           37.0   \n",
       "1        9.93         2.05     ...                  25.93           20.0   \n",
       "2        1.53         0.00     ...                   1.90            3.0   \n",
       "3        5.94         1.47     ...                  11.16           17.0   \n",
       "4        0.64         0.00     ...                   4.51            0.0   \n",
       "\n",
       "   arr_diverted   arr_delay   carrier_delay  weather_delay  nas_delay  \\\n",
       "0           1.0      3840.0           614.0          136.0     1685.0   \n",
       "1           1.0      3485.0           575.0           90.0     1401.0   \n",
       "2           0.0       549.0           190.0            0.0      183.0   \n",
       "3           0.0      1986.0           343.0           95.0      606.0   \n",
       "4           0.0       585.0            56.0            0.0       65.0   \n",
       "\n",
       "   security_delay  late_aircraft_delay  Unnamed: 21  \n",
       "0             0.0               1405.0          NaN  \n",
       "1             0.0               1419.0          NaN  \n",
       "2             0.0                176.0          NaN  \n",
       "3             0.0                942.0          NaN  \n",
       "4             0.0                464.0          NaN  \n",
       "\n",
       "[5 rows x 22 columns]"
      ]
     },
     "execution_count": 2,
     "metadata": {},
     "output_type": "execute_result"
    }
   ],
   "source": [
    "# Read the .csv with delays data\n",
    "delays_df = pd.read_csv('airline_delays.csv')\n",
    "delays_df.head()"
   ]
  },
  {
   "cell_type": "code",
   "execution_count": 6,
   "metadata": {},
   "outputs": [
    {
     "data": {
      "text/html": [
       "<div>\n",
       "<style scoped>\n",
       "    .dataframe tbody tr th:only-of-type {\n",
       "        vertical-align: middle;\n",
       "    }\n",
       "\n",
       "    .dataframe tbody tr th {\n",
       "        vertical-align: top;\n",
       "    }\n",
       "\n",
       "    .dataframe thead th {\n",
       "        text-align: right;\n",
       "    }\n",
       "</style>\n",
       "<table border=\"1\" class=\"dataframe\">\n",
       "  <thead>\n",
       "    <tr style=\"text-align: right;\">\n",
       "      <th></th>\n",
       "      <th>year</th>\n",
       "      <th>month</th>\n",
       "      <th>arr_flights</th>\n",
       "      <th>arr_del15</th>\n",
       "      <th>carrier_ct</th>\n",
       "      <th>weather_ct</th>\n",
       "      <th>nas_ct</th>\n",
       "      <th>security_ct</th>\n",
       "      <th>late_aircraft_ct</th>\n",
       "      <th>arr_cancelled</th>\n",
       "      <th>arr_diverted</th>\n",
       "      <th>arr_delay</th>\n",
       "      <th>carrier_delay</th>\n",
       "      <th>weather_delay</th>\n",
       "      <th>nas_delay</th>\n",
       "      <th>security_delay</th>\n",
       "      <th>late_aircraft_delay</th>\n",
       "      <th>Unnamed: 21</th>\n",
       "    </tr>\n",
       "  </thead>\n",
       "  <tbody>\n",
       "    <tr>\n",
       "      <th>count</th>\n",
       "      <td>1732.0</td>\n",
       "      <td>1732.0</td>\n",
       "      <td>1732.000000</td>\n",
       "      <td>1731.000000</td>\n",
       "      <td>1732.000000</td>\n",
       "      <td>1732.000000</td>\n",
       "      <td>1732.000000</td>\n",
       "      <td>1732.000000</td>\n",
       "      <td>1732.000000</td>\n",
       "      <td>1732.000000</td>\n",
       "      <td>1732.000000</td>\n",
       "      <td>1732.000000</td>\n",
       "      <td>1732.000000</td>\n",
       "      <td>1732.000000</td>\n",
       "      <td>1732.000000</td>\n",
       "      <td>1732.000000</td>\n",
       "      <td>1732.000000</td>\n",
       "      <td>0.0</td>\n",
       "    </tr>\n",
       "    <tr>\n",
       "      <th>mean</th>\n",
       "      <td>2018.0</td>\n",
       "      <td>8.0</td>\n",
       "      <td>372.213048</td>\n",
       "      <td>82.544194</td>\n",
       "      <td>21.618782</td>\n",
       "      <td>3.643961</td>\n",
       "      <td>26.802644</td>\n",
       "      <td>0.135658</td>\n",
       "      <td>30.295664</td>\n",
       "      <td>7.132217</td>\n",
       "      <td>1.196305</td>\n",
       "      <td>5885.850462</td>\n",
       "      <td>1624.383949</td>\n",
       "      <td>343.703233</td>\n",
       "      <td>1574.790993</td>\n",
       "      <td>6.768476</td>\n",
       "      <td>2336.203811</td>\n",
       "      <td>NaN</td>\n",
       "    </tr>\n",
       "    <tr>\n",
       "      <th>std</th>\n",
       "      <td>0.0</td>\n",
       "      <td>0.0</td>\n",
       "      <td>1046.310753</td>\n",
       "      <td>213.612175</td>\n",
       "      <td>49.482938</td>\n",
       "      <td>9.519026</td>\n",
       "      <td>83.486138</td>\n",
       "      <td>0.596404</td>\n",
       "      <td>81.349525</td>\n",
       "      <td>23.624233</td>\n",
       "      <td>4.889256</td>\n",
       "      <td>16237.543945</td>\n",
       "      <td>4102.785654</td>\n",
       "      <td>934.237366</td>\n",
       "      <td>5748.010351</td>\n",
       "      <td>30.060945</td>\n",
       "      <td>6407.422704</td>\n",
       "      <td>NaN</td>\n",
       "    </tr>\n",
       "    <tr>\n",
       "      <th>min</th>\n",
       "      <td>2018.0</td>\n",
       "      <td>8.0</td>\n",
       "      <td>1.000000</td>\n",
       "      <td>0.000000</td>\n",
       "      <td>0.000000</td>\n",
       "      <td>0.000000</td>\n",
       "      <td>0.000000</td>\n",
       "      <td>0.000000</td>\n",
       "      <td>0.000000</td>\n",
       "      <td>0.000000</td>\n",
       "      <td>0.000000</td>\n",
       "      <td>0.000000</td>\n",
       "      <td>0.000000</td>\n",
       "      <td>0.000000</td>\n",
       "      <td>0.000000</td>\n",
       "      <td>0.000000</td>\n",
       "      <td>0.000000</td>\n",
       "      <td>NaN</td>\n",
       "    </tr>\n",
       "    <tr>\n",
       "      <th>25%</th>\n",
       "      <td>2018.0</td>\n",
       "      <td>8.0</td>\n",
       "      <td>49.000000</td>\n",
       "      <td>9.000000</td>\n",
       "      <td>2.635000</td>\n",
       "      <td>0.000000</td>\n",
       "      <td>2.000000</td>\n",
       "      <td>0.000000</td>\n",
       "      <td>2.537500</td>\n",
       "      <td>0.000000</td>\n",
       "      <td>0.000000</td>\n",
       "      <td>528.750000</td>\n",
       "      <td>147.000000</td>\n",
       "      <td>0.000000</td>\n",
       "      <td>75.750000</td>\n",
       "      <td>0.000000</td>\n",
       "      <td>158.750000</td>\n",
       "      <td>NaN</td>\n",
       "    </tr>\n",
       "    <tr>\n",
       "      <th>50%</th>\n",
       "      <td>2018.0</td>\n",
       "      <td>8.0</td>\n",
       "      <td>105.500000</td>\n",
       "      <td>24.000000</td>\n",
       "      <td>7.425000</td>\n",
       "      <td>1.000000</td>\n",
       "      <td>5.605000</td>\n",
       "      <td>0.000000</td>\n",
       "      <td>8.560000</td>\n",
       "      <td>1.000000</td>\n",
       "      <td>0.000000</td>\n",
       "      <td>1624.000000</td>\n",
       "      <td>486.000000</td>\n",
       "      <td>74.500000</td>\n",
       "      <td>240.500000</td>\n",
       "      <td>0.000000</td>\n",
       "      <td>633.000000</td>\n",
       "      <td>NaN</td>\n",
       "    </tr>\n",
       "    <tr>\n",
       "      <th>75%</th>\n",
       "      <td>2018.0</td>\n",
       "      <td>8.0</td>\n",
       "      <td>252.500000</td>\n",
       "      <td>57.000000</td>\n",
       "      <td>17.805000</td>\n",
       "      <td>3.250000</td>\n",
       "      <td>15.310000</td>\n",
       "      <td>0.000000</td>\n",
       "      <td>20.982500</td>\n",
       "      <td>5.000000</td>\n",
       "      <td>1.000000</td>\n",
       "      <td>3917.000000</td>\n",
       "      <td>1331.750000</td>\n",
       "      <td>282.250000</td>\n",
       "      <td>766.500000</td>\n",
       "      <td>0.000000</td>\n",
       "      <td>1714.250000</td>\n",
       "      <td>NaN</td>\n",
       "    </tr>\n",
       "    <tr>\n",
       "      <th>max</th>\n",
       "      <td>2018.0</td>\n",
       "      <td>8.0</td>\n",
       "      <td>21931.000000</td>\n",
       "      <td>2852.000000</td>\n",
       "      <td>755.760000</td>\n",
       "      <td>162.840000</td>\n",
       "      <td>1054.380000</td>\n",
       "      <td>13.900000</td>\n",
       "      <td>1165.060000</td>\n",
       "      <td>283.000000</td>\n",
       "      <td>90.000000</td>\n",
       "      <td>213951.000000</td>\n",
       "      <td>68859.000000</td>\n",
       "      <td>13357.000000</td>\n",
       "      <td>94239.000000</td>\n",
       "      <td>441.000000</td>\n",
       "      <td>89884.000000</td>\n",
       "      <td>NaN</td>\n",
       "    </tr>\n",
       "  </tbody>\n",
       "</table>\n",
       "</div>"
      ],
      "text/plain": [
       "         year   month   arr_flights    arr_del15   carrier_ct   weather_ct  \\\n",
       "count  1732.0  1732.0   1732.000000  1731.000000  1732.000000  1732.000000   \n",
       "mean   2018.0     8.0    372.213048    82.544194    21.618782     3.643961   \n",
       "std       0.0     0.0   1046.310753   213.612175    49.482938     9.519026   \n",
       "min    2018.0     8.0      1.000000     0.000000     0.000000     0.000000   \n",
       "25%    2018.0     8.0     49.000000     9.000000     2.635000     0.000000   \n",
       "50%    2018.0     8.0    105.500000    24.000000     7.425000     1.000000   \n",
       "75%    2018.0     8.0    252.500000    57.000000    17.805000     3.250000   \n",
       "max    2018.0     8.0  21931.000000  2852.000000   755.760000   162.840000   \n",
       "\n",
       "            nas_ct  security_ct  late_aircraft_ct  arr_cancelled  \\\n",
       "count  1732.000000  1732.000000       1732.000000    1732.000000   \n",
       "mean     26.802644     0.135658         30.295664       7.132217   \n",
       "std      83.486138     0.596404         81.349525      23.624233   \n",
       "min       0.000000     0.000000          0.000000       0.000000   \n",
       "25%       2.000000     0.000000          2.537500       0.000000   \n",
       "50%       5.605000     0.000000          8.560000       1.000000   \n",
       "75%      15.310000     0.000000         20.982500       5.000000   \n",
       "max    1054.380000    13.900000       1165.060000     283.000000   \n",
       "\n",
       "       arr_diverted      arr_delay   carrier_delay  weather_delay  \\\n",
       "count   1732.000000    1732.000000     1732.000000    1732.000000   \n",
       "mean       1.196305    5885.850462     1624.383949     343.703233   \n",
       "std        4.889256   16237.543945     4102.785654     934.237366   \n",
       "min        0.000000       0.000000        0.000000       0.000000   \n",
       "25%        0.000000     528.750000      147.000000       0.000000   \n",
       "50%        0.000000    1624.000000      486.000000      74.500000   \n",
       "75%        1.000000    3917.000000     1331.750000     282.250000   \n",
       "max       90.000000  213951.000000    68859.000000   13357.000000   \n",
       "\n",
       "          nas_delay  security_delay  late_aircraft_delay  Unnamed: 21  \n",
       "count   1732.000000     1732.000000          1732.000000          0.0  \n",
       "mean    1574.790993        6.768476          2336.203811          NaN  \n",
       "std     5748.010351       30.060945          6407.422704          NaN  \n",
       "min        0.000000        0.000000             0.000000          NaN  \n",
       "25%       75.750000        0.000000           158.750000          NaN  \n",
       "50%      240.500000        0.000000           633.000000          NaN  \n",
       "75%      766.500000        0.000000          1714.250000          NaN  \n",
       "max    94239.000000      441.000000         89884.000000          NaN  "
      ]
     },
     "execution_count": 6,
     "metadata": {},
     "output_type": "execute_result"
    }
   ],
   "source": [
    "delays_df.describe()"
   ]
  },
  {
   "cell_type": "code",
   "execution_count": 9,
   "metadata": {},
   "outputs": [
    {
     "data": {
      "text/plain": [
       "year                      0\n",
       " month                    0\n",
       "carrier                   0\n",
       "carrier_name              0\n",
       "airport                   0\n",
       "airport_name              0\n",
       "arr_flights               0\n",
       "arr_del15                 1\n",
       "carrier_ct                0\n",
       " weather_ct               0\n",
       "nas_ct                    0\n",
       "security_ct               0\n",
       "late_aircraft_ct          0\n",
       "arr_cancelled             0\n",
       "arr_diverted              0\n",
       " arr_delay                0\n",
       " carrier_delay            0\n",
       "weather_delay             0\n",
       "nas_delay                 0\n",
       "security_delay            0\n",
       "late_aircraft_delay       0\n",
       "Unnamed: 21            1732\n",
       "dtype: int64"
      ]
     },
     "execution_count": 9,
     "metadata": {},
     "output_type": "execute_result"
    }
   ],
   "source": [
    "delays_df.isna().sum()"
   ]
  },
  {
   "cell_type": "code",
   "execution_count": null,
   "metadata": {},
   "outputs": [],
   "source": [
    "# .csv file with the size of each airport\n",
    "airports_size = pd.read_csv('2018_airport_size.csv')\n",
    "airports_size.head()"
   ]
  },
  {
   "cell_type": "code",
   "execution_count": null,
   "metadata": {},
   "outputs": [],
   "source": []
  },
  {
   "cell_type": "code",
   "execution_count": null,
   "metadata": {},
   "outputs": [],
   "source": [
    "# .csv with departure delays for 2018\n",
    "departure_d2018 = pd.read_csv('2018_origin_delays.csv')\n",
    "departure_d2018.head()"
   ]
  },
  {
   "cell_type": "code",
   "execution_count": null,
   "metadata": {},
   "outputs": [],
   "source": [
    "# .csv with destiantion delays for 2018\n",
    "destination_d2018 = pd.read_csv('2018_destination_delays.csv')\n",
    "destination_d2018"
   ]
  },
  {
   "cell_type": "markdown",
   "metadata": {},
   "source": [
    "## Merge and clean the dataframes"
   ]
  },
  {
   "cell_type": "code",
   "execution_count": null,
   "metadata": {},
   "outputs": [],
   "source": [
    "# Merge airline delays with coordinates\n",
    "airports_df = coordinates_df.merge(delays_df, left_on='locationID', right_on='airport')"
   ]
  },
  {
   "cell_type": "code",
   "execution_count": null,
   "metadata": {},
   "outputs": [],
   "source": [
    "# Drop duplicate airport code column\n",
    "airports_df.drop(columns=['locationID'], inplace=True)"
   ]
  },
  {
   "cell_type": "code",
   "execution_count": null,
   "metadata": {},
   "outputs": [],
   "source": [
    "# Merge airports_df with the size of each airport\n",
    "airports_df = airports_df.merge(airports_size, left_on='airport', right_on='ORIGIN')"
   ]
  },
  {
   "cell_type": "code",
   "execution_count": null,
   "metadata": {},
   "outputs": [],
   "source": [
    "# Merge departure_d2018 with coordinates for airports\n",
    "departure_locations_2018 = coordinates.merge(departure_d2018, left_on='locationID', right_on='ORIGIN')\n",
    "# Drop duplicate airport code column\n",
    "departure_locations_2018.drop(columns=['locationID'], inplace=True)\n",
    "# Rename minutes delayed column\n",
    "departure_locations_2018.rename(columns={\"Avg(DEP_DELAY_NEW)\": \"delay_minutes\"}, inplace=True)\n",
    "departure_locations_2018.sort_values(by='delay_minutes', ascending=False).head()"
   ]
  },
  {
   "cell_type": "code",
   "execution_count": null,
   "metadata": {},
   "outputs": [],
   "source": []
  },
  {
   "cell_type": "code",
   "execution_count": null,
   "metadata": {},
   "outputs": [],
   "source": []
  },
  {
   "cell_type": "code",
   "execution_count": null,
   "metadata": {},
   "outputs": [],
   "source": []
  },
  {
   "cell_type": "code",
   "execution_count": null,
   "metadata": {},
   "outputs": [],
   "source": []
  },
  {
   "cell_type": "code",
   "execution_count": null,
   "metadata": {},
   "outputs": [],
   "source": []
  },
  {
   "cell_type": "markdown",
   "metadata": {},
   "source": [
    "## Analysis"
   ]
  },
  {
   "cell_type": "code",
   "execution_count": null,
   "metadata": {},
   "outputs": [],
   "source": [
    "# weather_delay"
   ]
  },
  {
   "cell_type": "code",
   "execution_count": null,
   "metadata": {},
   "outputs": [],
   "source": [
    "delays_df.sort_values(by='weather_delay', ascending=False).head()"
   ]
  },
  {
   "cell_type": "code",
   "execution_count": null,
   "metadata": {},
   "outputs": [],
   "source": [
    "list(delays_df)"
   ]
  },
  {
   "cell_type": "markdown",
   "metadata": {},
   "source": [
    "# Carrier delays"
   ]
  },
  {
   "cell_type": "code",
   "execution_count": null,
   "metadata": {},
   "outputs": [],
   "source": [
    "delays_df.sort_values(by=' carrier_delay', ascending=False).head()"
   ]
  },
  {
   "cell_type": "code",
   "execution_count": null,
   "metadata": {},
   "outputs": [],
   "source": []
  },
  {
   "cell_type": "code",
   "execution_count": null,
   "metadata": {},
   "outputs": [],
   "source": [
    "# \n",
    "departure_delays_2018.sort_values(by='Avg(DEP_DELAY_NEW)', ascending=False).head()"
   ]
  },
  {
   "cell_type": "code",
   "execution_count": null,
   "metadata": {},
   "outputs": [],
   "source": []
  },
  {
   "cell_type": "markdown",
   "metadata": {},
   "source": [
    "# Most daleyed flights and date"
   ]
  },
  {
   "cell_type": "code",
   "execution_count": null,
   "metadata": {},
   "outputs": [],
   "source": []
  },
  {
   "cell_type": "code",
   "execution_count": null,
   "metadata": {},
   "outputs": [],
   "source": []
  },
  {
   "cell_type": "markdown",
   "metadata": {},
   "source": [
    "# US Airports with the most delays (avg)"
   ]
  },
  {
   "cell_type": "markdown",
   "metadata": {},
   "source": [
    "Reference: https://www.cbsnews.com/pictures/us-airports-with-the-most-delays/"
   ]
  },
  {
   "cell_type": "code",
   "execution_count": null,
   "metadata": {},
   "outputs": [],
   "source": []
  },
  {
   "cell_type": "code",
   "execution_count": null,
   "metadata": {},
   "outputs": [],
   "source": []
  },
  {
   "cell_type": "code",
   "execution_count": null,
   "metadata": {},
   "outputs": [],
   "source": []
  },
  {
   "cell_type": "code",
   "execution_count": null,
   "metadata": {},
   "outputs": [],
   "source": []
  },
  {
   "cell_type": "code",
   "execution_count": null,
   "metadata": {},
   "outputs": [],
   "source": []
  },
  {
   "cell_type": "code",
   "execution_count": null,
   "metadata": {},
   "outputs": [],
   "source": []
  },
  {
   "cell_type": "code",
   "execution_count": null,
   "metadata": {},
   "outputs": [],
   "source": []
  },
  {
   "cell_type": "code",
   "execution_count": null,
   "metadata": {},
   "outputs": [],
   "source": []
  },
  {
   "cell_type": "code",
   "execution_count": null,
   "metadata": {},
   "outputs": [],
   "source": []
  },
  {
   "cell_type": "code",
   "execution_count": null,
   "metadata": {},
   "outputs": [],
   "source": [
    "departure_delays_2018 = pd.read_csv('2018_origin_delays.csv')\n",
    "departure_delays_2018.sort_values(by='Avg(DEP_DELAY_NEW)', ascending=False).head()"
   ]
  },
  {
   "cell_type": "code",
   "execution_count": null,
   "metadata": {},
   "outputs": [],
   "source": []
  },
  {
   "cell_type": "code",
   "execution_count": null,
   "metadata": {},
   "outputs": [],
   "source": [
    "departure_locations_2018 = departure_locations_2018.merge(airports_size, left_on='ORIGIN', right_on='ORIGIN')\n",
    "departure_locations_2018.rename(columns={\"Sum(FLIGHTS)\": \"sum_flights\"}, inplace=True)"
   ]
  },
  {
   "cell_type": "code",
   "execution_count": null,
   "metadata": {},
   "outputs": [],
   "source": []
  },
  {
   "cell_type": "code",
   "execution_count": null,
   "metadata": {},
   "outputs": [],
   "source": [
    "departure_locations_2018.sort_values(by='delay_minutes', ascending=False)"
   ]
  },
  {
   "cell_type": "code",
   "execution_count": null,
   "metadata": {},
   "outputs": [],
   "source": [
    "\n"
   ]
  },
  {
   "cell_type": "code",
   "execution_count": null,
   "metadata": {},
   "outputs": [],
   "source": []
  },
  {
   "cell_type": "code",
   "execution_count": null,
   "metadata": {},
   "outputs": [],
   "source": []
  },
  {
   "cell_type": "code",
   "execution_count": null,
   "metadata": {},
   "outputs": [],
   "source": []
  },
  {
   "cell_type": "code",
   "execution_count": null,
   "metadata": {},
   "outputs": [],
   "source": []
  },
  {
   "cell_type": "code",
   "execution_count": null,
   "metadata": {},
   "outputs": [],
   "source": []
  },
  {
   "cell_type": "code",
   "execution_count": null,
   "metadata": {},
   "outputs": [],
   "source": []
  }
 ],
 "metadata": {
  "kernelspec": {
   "display_name": "Python 3",
   "language": "python",
   "name": "python3"
  },
  "language_info": {
   "codemirror_mode": {
    "name": "ipython",
    "version": 3
   },
   "file_extension": ".py",
   "mimetype": "text/x-python",
   "name": "python",
   "nbconvert_exporter": "python",
   "pygments_lexer": "ipython3",
   "version": "3.6.5"
  }
 },
 "nbformat": 4,
 "nbformat_minor": 2
}
