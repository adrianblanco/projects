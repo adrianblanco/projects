{
  "nbformat": 4,
  "nbformat_minor": 0,
  "metadata": {
    "colab": {
      "name": "project-proposal.ipynb",
      "version": "0.3.2",
      "provenance": [],
      "collapsed_sections": []
    },
    "kernelspec": {
      "name": "python3",
      "display_name": "Python 3"
    }
  },
  "cells": [
    {
      "cell_type": "markdown",
      "metadata": {
        "id": "_1AYKudEmWgC",
        "colab_type": "text"
      },
      "source": [
        "# DarkMoney2020\n",
        "\n",
        "Isaac Schultz and Adrián Blanco\n",
        "\n",
        "### Project Description\n",
        "\n",
        "In recent years, grass-roots giving has become an increasingly popular way of funding political campaigns. The model is self-promoting, as candidates who fundraise independent from political action committee (PAC) spending are considered more transparent. In races like the 2016 presidential election and the 2018 Texas senate election, the immense funds raised by Bernie Sanders (D-Vermont) and Beto O’Rourke (D-Texas) became fundamental aspects of their respective campaigns.\n",
        "\n",
        "In the run-up to the 2020 election, the question of where presidential candidates get their money from has already become a talking point in media coverage. Our idea is to compile a running list of political action committee (PAC) donations from regularly updated databases, and create a bot that will draw from this data to answer questions for regular people who can’t be bothered to trace any one candidate’s previous donations.\n",
        "\n",
        "### The Process\n",
        "\n",
        "* Compile databases to use and create a spreadsheet to pull from.\n",
        "* Clean data.\n",
        "* Create a list of addressable queries.\n",
        "* Probe bot by candidate\n",
        "* Probe bot by PAC type\n",
        "* Business\n",
        "* Labor\n",
        "* Ideological\n",
        "* Probe bot by industry\n",
        "* Probe bot by total funding\n",
        "* “Sort” functionality\n",
        "* Code the bot.\n",
        "* Add a chrome extension via consultation \n",
        "\n",
        "### Sources\n",
        "\n",
        "* OpenSecrets https://www.followthemoney.org/\n",
        "* Top recipients https://www.opensecrets.org/political-action-committees-pacs/top-recipients\n",
        "* 2020 Presidential race: https://www.opensecrets.org/2020-presidential-race\n",
        "\n",
        "* Follow The Money https://www.followthemoney.org/\n",
        "\n",
        "* FEC Search: https://www.fec.gov/data/search/\n",
        "\n",
        "* FEC API: https://api.open.fec.gov/developers/ -- Live info, check what's going on in there\n",
        "  * Example: https://github.com/shmcminn/fec-api-totals-sen/blob/master/api_pull_cands.ipynb"
      ]
    },
    {
      "cell_type": "markdown",
      "metadata": {
        "id": "4s-9N63sHp6D",
        "colab_type": "text"
      },
      "source": [
        "Inspiration\n",
        "* Election DataBot: https://projects.propublica.org/electionbot/\n",
        "* FEC Itemizer: https://projects.propublica.org/itemizer/\n",
        "* nyt-campfinbot: https://github.com/newsdev/nyt-campfinbot"
      ]
    },
    {
      "cell_type": "markdown",
      "metadata": {
        "id": "ntcqyh9BJrS0",
        "colab_type": "text"
      },
      "source": [
        "### Week 1 (April 8)\n",
        "\n",
        "* Pulling the data\n",
        "* What kind of information can we get from the API?\n",
        "* What kind of information can we get from the bulk downloads?\n",
        "* Figure it out which variables, data we are interested in\n",
        "  * Q of money\n",
        "  * Dates\n",
        "  * Name of the candidate\n",
        "  * Name of the PAC\n",
        "  * ... TBD\n",
        "\n",
        "### Week 2  (April 15)\n",
        "\n",
        "* Structure the data\n",
        "* Cleaning the data\n",
        "* First analysis\n",
        "* April 15, release of new data -> Presidential campaign\n",
        "* Interface: Bot, Browser extension, graphics and analysis...\n",
        "\n",
        "### Week 3  (April 22)\n",
        "\n",
        "* Define the questions we want to ask and answer\n",
        "  * Look for sth unique that nobody is covering\n",
        "\n",
        "### Week 4  (April 29)\n",
        "\n",
        "* Finalize the presentation\n",
        "  * Notebook and slides\n",
        "\n",
        "### Week 5  (May 6)\n",
        "\n",
        "* TBD\n",
        "\n",
        "* Presentation\n",
        "\n",
        "### Week 6  (May 13)\n",
        "\n",
        "* Review\n",
        "\n",
        "\n",
        "\n",
        "\n",
        "\n",
        "\n",
        "\n",
        "\n",
        "\n",
        "\n",
        "\n",
        "\n",
        "\n",
        "\n"
      ]
    },
    {
      "cell_type": "code",
      "metadata": {
        "id": "hv5eCOUIJcWX",
        "colab_type": "code",
        "colab": {}
      },
      "source": [
        "# Code"
      ],
      "execution_count": 0,
      "outputs": []
    },
    {
      "cell_type": "markdown",
      "metadata": {
        "id": "8zpXuKQP-nF-",
        "colab_type": "text"
      },
      "source": [
        "We're going to need a bunch of libraries to work with the FEC API."
      ]
    },
    {
      "cell_type": "code",
      "metadata": {
        "id": "lfQ_ZQ8pmaSm",
        "colab_type": "code",
        "colab": {}
      },
      "source": [
        "# Import libraries\n",
        "\n",
        "import csv\n",
        "import json\n",
        "\n",
        "import requests\n",
        "import pandas as pd\n",
        "    \n",
        "    "
      ],
      "execution_count": 0,
      "outputs": []
    },
    {
      "cell_type": "markdown",
      "metadata": {
        "id": "_pjeyo8D-sTn",
        "colab_type": "text"
      },
      "source": [
        "Then, we set out API key to connect to the API."
      ]
    },
    {
      "cell_type": "code",
      "metadata": {
        "id": "Hw1y3siNmdNv",
        "colab_type": "code",
        "colab": {}
      },
      "source": [
        "api_key = \"gfVilw4g272QwuDabu3NQqlcdqUFXqa403VQEHHx\"\n",
        "api_key_2 = \"Ejtozq1xEpe3TnAqV536RJUTn5pYUfPdlxbVpMPl\"\n",
        "\n"
      ],
      "execution_count": 0,
      "outputs": []
    },
    {
      "cell_type": "code",
      "metadata": {
        "id": "QtAU5GIIXJyt",
        "colab_type": "code",
        "colab": {}
      },
      "source": [
        "# https://api.open.fec.gov/developers/\n",
        "# https://www.fec.gov/help-candidates-and-committees/trainings/"
      ],
      "execution_count": 0,
      "outputs": []
    },
    {
      "cell_type": "code",
      "metadata": {
        "id": "S-EsVVPKX4rA",
        "colab_type": "code",
        "outputId": "1cf91d2c-5bf9-47c2-cbe4-6918d66f30b8",
        "colab": {
          "base_uri": "https://localhost:8080/",
          "height": 136
        }
      },
      "source": [
        "cand_dicts = [{'member': \"Beto O'Rourke, D-TX\", 'term': '3rd term', 'age': '45', 'name': \"Beto O'Rourke\", 'party': 'D', 'state': 'TX', 'last_name': \"O'Rourke\"}]\n",
        "cand_dicts\n",
        "\n",
        "cand_dicts"
      ],
      "execution_count": 0,
      "outputs": [
        {
          "output_type": "execute_result",
          "data": {
            "text/plain": [
              "[{'age': '45',\n",
              "  'last_name': \"O'Rourke\",\n",
              "  'member': \"Beto O'Rourke, D-TX\",\n",
              "  'name': \"Beto O'Rourke\",\n",
              "  'party': 'D',\n",
              "  'state': 'TX',\n",
              "  'term': '3rd term'}]"
            ]
          },
          "metadata": {
            "tags": []
          },
          "execution_count": 5
        }
      ]
    },
    {
      "cell_type": "code",
      "metadata": {
        "id": "J3smbCM_X6wN",
        "colab_type": "code",
        "colab": {}
      },
      "source": [
        "search_url = \"https://api.open.fec.gov/v1/candidates/search/\"\n",
        "search_params = {\"election_year\": \"2018\",\n",
        "                 \"api_key\": api_key,\n",
        "                 \"party\": \"\",\n",
        "                 \"state\": \"\",\n",
        "                 \"office\": \"S\",\n",
        "                 \"name\": \"\",\n",
        "                 \"sort\": \"name\"}\n",
        "\n",
        "candidate_ids = []\n",
        "\n",
        "for cand in cand_dicts:\n",
        "    if cand[\"party\"] == \"R\":\n",
        "        search_params[\"party\"] = \"REP\"\n",
        "    else:\n",
        "        search_params[\"party\"] = \"DEM\"\n",
        "    search_params[\"state\"] = cand[\"state\"]\n",
        "    search_params[\"name\"] = cand[\"last_name\"]\n",
        "    resp = requests.get(search_url, params=search_params)\n",
        "    d = {}\n",
        "    d[\"candidate_name\"] = json.loads(resp.text)[\"results\"][0][\"name\"]\n",
        "    d[\"candidate_id\"] = json.loads(resp.text)[\"results\"][0][\"candidate_id\"]\n",
        "    candidate_ids.append(d)"
      ],
      "execution_count": 0,
      "outputs": []
    },
    {
      "cell_type": "code",
      "metadata": {
        "id": "1Frjdw75aJpn",
        "colab_type": "code",
        "outputId": "a18cce3b-8bff-4997-e1ca-63bfa1eba10a",
        "colab": {
          "base_uri": "https://localhost:8080/",
          "height": 34
        }
      },
      "source": [
        "print(resp)"
      ],
      "execution_count": 0,
      "outputs": [
        {
          "output_type": "stream",
          "text": [
            "<Response [200]>\n"
          ],
          "name": "stdout"
        }
      ]
    },
    {
      "cell_type": "code",
      "metadata": {
        "id": "65WjrMhna19m",
        "colab_type": "code",
        "colab": {}
      },
      "source": [
        "cand_totals = []\n",
        "\n",
        "filings_params = {\"cycle\": \"2018\",\n",
        "    \"api_key\": api_key,\n",
        "    \"office\": \"S\",\n",
        "    \"per_page\": \"60\",\n",
        "    \"full_election\": \"true\"\n",
        "}\n",
        "\n",
        "for cand in candidate_ids:\n",
        "    cand_id = cand[\"candidate_id\"]\n",
        "    filings_url = \"https://api.open.fec.gov/v1/candidate/\" + cand_id + \"/totals/\"\n",
        "    \n",
        "    resp = requests.get(filings_url, params = filings_params)\n",
        "    \n",
        "    total = json.loads(resp.text.replace(\"null\", '\"\"'))\n",
        "    total[\"name\"] = cand[\"candidate_name\"]\n",
        "    total[\"candidate_id\"] = cand_id\n",
        "    \n",
        "    cand_totals.append(total)"
      ],
      "execution_count": 0,
      "outputs": []
    },
    {
      "cell_type": "code",
      "metadata": {
        "id": "IL46Xr-A--Rm",
        "colab_type": "code",
        "outputId": "ec4df1c0-bdfd-4ceb-92f0-2e20d0b4580e",
        "colab": {
          "base_uri": "https://localhost:8080/",
          "height": 54
        }
      },
      "source": [
        "print(cand_totals)"
      ],
      "execution_count": 0,
      "outputs": [
        {
          "output_type": "stream",
          "text": [
            "[{'api_version': '1.0', 'pagination': {'count': 1, 'page': 1, 'pages': 1, 'per_page': 60}, 'results': [{'last_beginning_image_number': '201901319145392670', 'other_political_committee_contributions': 83441.3, 'cycle': 2018, 'coverage_end_date': '2018-12-31T00:00:00+00:00', 'other_disbursements': 4616755.58, 'refunded_political_party_committee_contributions': 0.0, 'political_party_committee_contributions': 0.0, 'last_report_type_full': 'YEAR-END', 'offsets_to_fundraising_expenditures': '', 'coverage_start_date': '2017-01-01T00:00:00+00:00', 'last_cash_on_hand_end_period': 286531.29, 'candidate_contribution': 0.0, 'disbursements': 80450312.61, 'operating_expenditures': 74564426.11, 'contributions': 80166657.11, 'loan_repayments_candidate_loans': 0.0, 'last_report_year': 2018, 'individual_contributions': 80083215.81, 'all_other_loans': 0.0, 'fundraising_disbursements': '', 'last_debts_owed_to_committee': 0.0, 'transfers_from_other_authorized_committee': 53666.26, 'refunded_other_political_committee_contributions': 5117.0, 'net_operating_expenditures': 74475136.68, 'refunded_individual_contributions': 1264011.92, 'federal_funds': '', 'individual_unitemized_contributions': 36861722.22, 'other_receipts': 28529.56, 'individual_itemized_contributions': 43221490.59, 'loans_made_by_candidate': 0.0, 'candidate_id': 'S8TX00285', 'net_contributions': 78897526.19, 'loan_repayments_other_loans': 0.0, 'offsets_to_operating_expenditures': 89289.43, 'last_net_operating_expenditures': 208198.13, 'loans': 0.0, 'offsets_to_legal_accounting': '', 'receipts': 80338144.36, 'total_offsets_to_operating_expenditures': '', 'full_election': True, 'last_net_contributions': -3053.1, 'exempt_legal_accounting_disbursement': '', 'transfers_to_other_authorized_committee': 0.0, 'transaction_coverage_date': '2018-12-31T00:00:00+00:00', 'contribution_refunds': 1269128.92, 'loan_repayments': 0.0, 'last_debts_owed_by_committee': 0.0}], 'name': \"O'ROURKE, ROBERT (BETO)\", 'candidate_id': 'S8TX00285'}]\n"
          ],
          "name": "stdout"
        }
      ]
    },
    {
      "cell_type": "code",
      "metadata": {
        "id": "T0BP5OfifCwY",
        "colab_type": "code",
        "colab": {}
      },
      "source": [
        "cands_data = []\n",
        "\n",
        "for total in cand_totals:\n",
        "    if len(total[\"results\"]) > 1:\n",
        "        print(\"too many results for \" + total[\"name\"])\n",
        "    if len(total[\"results\"]) == 0:\n",
        "        print(\"no results for \" + total[\"name\"])\n",
        "        continue\n",
        "    d = {}\n",
        "    d[\"name\"] = total[\"name\"]\n",
        "    for item in total[\"results\"][0]:\n",
        "        d[item] = total[\"results\"][0][item]  \n",
        "        \n",
        "    cands_data.append(d)"
      ],
      "execution_count": 0,
      "outputs": []
    },
    {
      "cell_type": "code",
      "metadata": {
        "id": "n_B-FXgjfI_j",
        "colab_type": "code",
        "outputId": "c42789e2-c063-4e72-9c79-27586b70a3c6",
        "colab": {
          "base_uri": "https://localhost:8080/",
          "height": 54
        }
      },
      "source": [
        "print(cands_data)"
      ],
      "execution_count": 0,
      "outputs": [
        {
          "output_type": "stream",
          "text": [
            "[{'name': \"O'ROURKE, ROBERT (BETO)\", 'refunded_individual_contributions': 1264011.92, 'loans': 0.0, 'candidate_contribution': 0.0, 'federal_funds': '', 'candidate_id': 'S8TX00285', 'other_disbursements': 4616755.58, 'offsets_to_operating_expenditures': 89289.43, 'last_beginning_image_number': '201901319145392670', 'transfers_to_other_authorized_committee': 0.0, 'loan_repayments_other_loans': 0.0, 'last_cash_on_hand_end_period': 286531.29, 'disbursements': 80450312.61, 'all_other_loans': 0.0, 'net_contributions': 78897526.19, 'refunded_other_political_committee_contributions': 5117.0, 'offsets_to_legal_accounting': '', 'last_debts_owed_by_committee': 0.0, 'individual_contributions': 80083215.81, 'full_election': True, 'net_operating_expenditures': 74475136.68, 'other_receipts': 28529.56, 'coverage_end_date': '2018-12-31T00:00:00+00:00', 'total_offsets_to_operating_expenditures': '', 'cycle': 2018, 'operating_expenditures': 74564426.11, 'contribution_refunds': 1269128.92, 'individual_itemized_contributions': 43221490.59, 'last_report_type_full': 'YEAR-END', 'refunded_political_party_committee_contributions': 0.0, 'other_political_committee_contributions': 83441.3, 'exempt_legal_accounting_disbursement': '', 'fundraising_disbursements': '', 'transfers_from_other_authorized_committee': 53666.26, 'offsets_to_fundraising_expenditures': '', 'transaction_coverage_date': '2018-12-31T00:00:00+00:00', 'political_party_committee_contributions': 0.0, 'individual_unitemized_contributions': 36861722.22, 'contributions': 80166657.11, 'last_net_contributions': -3053.1, 'loans_made_by_candidate': 0.0, 'coverage_start_date': '2017-01-01T00:00:00+00:00', 'last_report_year': 2018, 'loan_repayments': 0.0, 'last_debts_owed_to_committee': 0.0, 'receipts': 80338144.36, 'last_net_operating_expenditures': 208198.13, 'loan_repayments_candidate_loans': 0.0}]\n"
          ],
          "name": "stdout"
        }
      ]
    },
    {
      "cell_type": "code",
      "metadata": {
        "id": "c4748nO6zyPv",
        "colab_type": "code",
        "outputId": "adf94529-7890-47da-d8c5-ee0cae6ad8d9",
        "colab": {
          "base_uri": "https://localhost:8080/",
          "height": 34
        }
      },
      "source": [
        "for candidate in cands_data:\n",
        "  print(candidate[\"name\"], candidate[\"refunded_individual_contributions\"])"
      ],
      "execution_count": 0,
      "outputs": [
        {
          "output_type": "stream",
          "text": [
            "O'ROURKE, ROBERT (BETO) 1264011.92\n"
          ],
          "name": "stdout"
        }
      ]
    },
    {
      "cell_type": "code",
      "metadata": {
        "id": "SdwJsotnfL3a",
        "colab_type": "code",
        "colab": {}
      },
      "source": [
        ""
      ],
      "execution_count": 0,
      "outputs": []
    },
    {
      "cell_type": "code",
      "metadata": {
        "id": "xOx8o865-GZV",
        "colab_type": "code",
        "colab": {}
      },
      "source": [
        "search_url = \"https://api.open.fec.gov/v1/candidates/search/\"\n",
        "search_params = {\"election_year\": \"2018\",\n",
        "                 \"api_key\": api_key,\n",
        "                 \"party\": \"\",\n",
        "                 \"state\": \"\",\n",
        "                 \"office\": \"S\",\n",
        "                 \"name\": \"\",\n",
        "                 \"sort\": \"name\"}"
      ],
      "execution_count": 0,
      "outputs": []
    },
    {
      "cell_type": "code",
      "metadata": {
        "id": "4JIEhAnP-GhJ",
        "colab_type": "code",
        "outputId": "c25fb0ff-9c85-4026-974d-5a9282696561",
        "colab": {
          "base_uri": "https://localhost:8080/",
          "height": 150
        }
      },
      "source": [
        "\n",
        "\n",
        "\n",
        "\n",
        "\n",
        "url = \"https://api.open.fec.gov/v1/committee/C00504530/reports/?page=1&sort=-coverage_end_date&sort_nulls_last=false&per_page=20&type=&sort_null_only=false&sort_hide_null=false&api_key=DEMO_KEY&cycle=2018"
      ],
      "execution_count": 0,
      "outputs": [
        {
          "output_type": "error",
          "ename": "SyntaxError",
          "evalue": "ignored",
          "traceback": [
            "\u001b[0;36m  File \u001b[0;32m\"<ipython-input-20-959c362bb8a8>\"\u001b[0;36m, line \u001b[0;32m6\u001b[0m\n\u001b[0;31m    url = \"https://api.open.fec.gov/v1/committee/C00504530/reports/?page=1&sort=-coverage_end_date&sort_nulls_last=false&per_page=20&type=&sort_null_only=false&sort_hide_null=false&api_key=DEMO_KEY&cycle=2018\u001b[0m\n\u001b[0m                                                                                                                                                                                                                ^\u001b[0m\n\u001b[0;31mSyntaxError\u001b[0m\u001b[0;31m:\u001b[0m EOL while scanning string literal\n"
          ]
        }
      ]
    },
    {
      "cell_type": "code",
      "metadata": {
        "id": "qPwwdesw-Gmi",
        "colab_type": "code",
        "colab": {}
      },
      "source": [
        "url = \"https://api.open.fec.gov/v1/committee/C00504530/reports/?page=1&sort=-coverage_end_date&sort_nulls_last=false&per_page=20&type=&sort_null_only=false&sort_hide_null=false&api_key=DEMO_KEY&cycle=2018\"\n",
        "\n",
        "resp = requests.get(url)\n",
        "\n"
      ],
      "execution_count": 0,
      "outputs": []
    },
    {
      "cell_type": "code",
      "metadata": {
        "id": "nIsjh5wA-GkW",
        "colab_type": "code",
        "outputId": "bb99744c-e828-4c38-d29d-90285fc28933",
        "colab": {
          "base_uri": "https://localhost:8080/",
          "height": 34
        }
      },
      "source": [
        "print(resp)"
      ],
      "execution_count": 0,
      "outputs": [
        {
          "output_type": "stream",
          "text": [
            "<Response [200]>\n"
          ],
          "name": "stdout"
        }
      ]
    },
    {
      "cell_type": "code",
      "metadata": {
        "id": "IJ-0_bfa-Gep",
        "colab_type": "code",
        "outputId": "c1fb234b-a6be-439a-f199-a2c414507c00",
        "colab": {
          "base_uri": "https://localhost:8080/",
          "height": 54
        }
      },
      "source": [
        "data = resp.json()\n",
        "print(data)"
      ],
      "execution_count": 0,
      "outputs": [
        {
          "output_type": "stream",
          "text": [
            "{'api_version': '1.0', 'pagination': {'page': 1, 'count': 17, 'pages': 1, 'per_page': 20}, 'results': [{'shared_fed_activity_nonfed_ytd': 0.0, 'amendment_indicator_full': 'NEW', 'total_fed_receipts_ytd': 130890564.62, 'transfers_to_affilitated_committees_ytd': 0.0, 'individual_itemized_contributions_ytd': 127789207.99, 'total_operating_expenditures_ytd': 14942036.75, 'loans_made_period': 0.0, 'cash_on_hand_close_ytd': 590831.52, 'independent_expenditures_period': 0.0, 'individual_unitemized_contributions_ytd': 22836.66, 'most_recent_file_number': 1312692.0, 'other_disbursements_ytd': 0.0, 'total_fed_operating_expenditures_period': 329262.92, 'refunded_individual_contributions_period': 0.0, 'cash_on_hand_beginning_period': 701117.02, 'other_political_committee_contributions_ytd': 1745200.0, 'transfers_from_nonfed_levin_ytd': 0.0, 'net_operating_expenditures_ytd': 13608916.78, 'shared_nonfed_operating_expenditures_ytd': 0.0, 'independent_expenditures_ytd': 129212673.38, 'coverage_end_date': '2018-12-31T00:00:00+00:00', 'total_individual_contributions_period': 56602.0, 'other_disbursements_period': 0.0, 'other_political_committee_contributions_period': 0.0, 'fed_candidate_committee_contribution_refunds_ytd': 0.0, 'total_fed_disbursements_period': 329262.92, 'other_fed_receipts_ytd': 0.0, 'total_operating_expenditures_period': 329262.92, 'coverage_start_date': '2018-11-27T00:00:00+00:00', 'political_party_committee_contributions_ytd': 200.0, 'committee_name': 'CONGRESSIONAL LEADERSHIP FUND', 'amendment_indicator': 'N', 'committee_id': 'C00504530', 'previous_file_number': 1312692.0, 'transfers_from_nonfed_account_ytd': 0.0, 'fed_candidate_contribution_refunds_period': 0.0, 'total_receipts_ytd': 130890564.62, 'loans_made_ytd': 0.0, 'is_amended': False, 'shared_fed_operating_expenditures_period': 0.0, 'all_loans_received_period': 0.0, 'coordinated_expenditures_by_party_committee_period': 0.0, 'net_contributions_period': 56602.0, 'total_contribution_refunds_ytd': 0.0, 'non_allocated_fed_election_activity_period': 0.0, 'other_fed_receipts_period': 0.0, 'total_disbursements_ytd': 145516710.13, 'shared_fed_activity_ytd': 0.0, 'refunded_political_party_committee_contributions_period': 0.0, 'report_form': 'Form 3X', 'cash_on_hand_end_period': 590831.52, 'cash_on_hand_beginning_calendar_ytd': 15216977.03, 'fed_candidate_committee_contributions_ytd': 1362000.0, 'non_allocated_fed_election_activity_ytd': 0.0, 'refunded_other_political_committee_contributions_period': 0.0, 'transfers_to_affiliated_committee_period': 0.0, 'loan_repayments_made_ytd': 0.0, 'report_type_full': 'YEAR-END', 'transfers_from_affiliated_party_period': 0.0, 'total_fed_election_activity_period': 0.0, 'calendar_ytd': 2018, 'cycle': 2018, 'refunded_individual_contributions_ytd': 0.0, 'offsets_to_operating_expenditures_ytd': 1333119.97, 'loan_repayments_made_period': 0.0, 'csv_url': 'http://docquery.fec.gov/csv/692/1312692.csv', 'fec_file_id': 'FEC-1312692', 'committee_type': 'O', 'shared_nonfed_operating_expenditures_period': 0.0, 'total_contribution_refunds_period': 0.0, 'net_contributions_ytd': 129557444.65, 'nonfed_share_allocated_disbursements_period': 0.0, 'loan_repayments_received_ytd': 0.0, 'shared_fed_operating_expenditures_ytd': 0.0, 'beginning_image_number': '201901319145373677', 'end_image_number': '201901319145373742', 'subtotal_summary_page_period': 920094.44, 'total_fed_operating_expenditures_ytd': 14942036.75, 'political_party_committee_contributions_period': 0.0, 'net_operating_expenditures_period': 166887.5, 'fed_candidate_committee_contributions_period': 0.0, 'allocated_federal_election_levin_share_period': 0.0, 'report_type': 'YE', 'document_description': 'YEAR-END 2018', 'total_fed_election_activity_ytd': 0.0, 'amendment_chain': [1312692.0], 'receipt_date': '2019-01-31T00:00:00', 'most_recent': True, 'coordinated_expenditures_by_party_committee_ytd': 0.0, 'transfers_from_nonfed_levin_period': 0.0, 'debts_owed_to_committee': 0.0, 'file_number': 1312692, 'total_nonfed_transfers_period': 0.0, 'total_disbursements_period': 329262.92, 'pdf_url': 'http://docquery.fec.gov/pdf/677/201901319145373677/201901319145373677.pdf', 'loan_repayments_received_period': 0.0, 'individual_itemized_contributions_period': 56577.0, 'other_fed_operating_expenditures_ytd': 14942036.75, 'shared_fed_activity_period': 0.0, 'total_nonfed_transfers_ytd': 0.0, 'total_contributions_ytd': 129557444.65, 'individual_unitemized_contributions_period': 25.0, 'subtotal_summary_ytd': 146107541.65, 'total_fed_receipts_period': 218977.42, 'transfers_from_nonfed_account_period': 0.0, 'total_receipts_period': 218977.42, 'transfers_from_affiliated_party_ytd': 0.0, 'debts_owed_by_committee': 0.0, 'total_contributions_period': 56602.0, 'report_year': 2018, 'html_url': 'http://docquery.fec.gov/cgi-bin/forms/C00504530/1312692/', 'offsets_to_operating_expenditures_period': 162375.42, 'means_filed': 'e-file', 'other_fed_operating_expenditures_period': 329262.92, 'total_fed_disbursements_ytd': 145516710.13, 'all_loans_received_ytd': 0.0, 'refunded_political_party_committee_contributions_ytd': 0.0, 'total_individual_contributions_ytd': 127812044.65, 'refunded_other_political_committee_contributions_ytd': 0.0, 'fec_url': 'http://docquery.fec.gov/dcdev/posted/1312692.fec'}, {'shared_fed_activity_nonfed_ytd': 0.0, 'amendment_indicator_full': 'NEW', 'total_fed_receipts_ytd': 130671587.2, 'transfers_to_affilitated_committees_ytd': 0.0, 'individual_itemized_contributions_ytd': 127732630.99, 'total_operating_expenditures_ytd': 14612773.83, 'loans_made_period': 0.0, 'cash_on_hand_close_ytd': 701117.02, 'independent_expenditures_period': 36518897.96, 'individual_unitemized_contributions_ytd': 22811.66, 'most_recent_file_number': 1299806.0, 'other_disbursements_ytd': 0.0, 'total_fed_operating_expenditures_period': 660627.34, 'refunded_individual_contributions_period': 0.0, 'cash_on_hand_beginning_period': 23855428.16, 'other_political_committee_contributions_ytd': 1745200.0, 'transfers_from_nonfed_levin_ytd': 0.0, 'net_operating_expenditures_ytd': 13442029.28, 'shared_nonfed_operating_expenditures_ytd': 0.0, 'independent_expenditures_ytd': 129212673.38, 'coverage_end_date': '2018-11-26T00:00:00+00:00', 'total_individual_contributions_period': 13538265.0, 'other_disbursements_period': 0.0, 'other_political_committee_contributions_period': 160000.0, 'fed_candidate_committee_contribution_refunds_ytd': 0.0, 'total_fed_disbursements_period': 37179525.3, 'other_fed_receipts_ytd': 0.0, 'total_operating_expenditures_period': 660627.34, 'coverage_start_date': '2018-10-18T00:00:00+00:00', 'political_party_committee_contributions_ytd': 200.0, 'committee_name': 'CONGRESSIONAL LEADERSHIP FUND', 'amendment_indicator': 'N', 'committee_id': 'C00504530', 'previous_file_number': 1299806.0, 'transfers_from_nonfed_account_ytd': 0.0, 'fed_candidate_contribution_refunds_period': 0.0, 'total_receipts_ytd': 130671587.2, 'loans_made_ytd': 0.0, 'is_amended': False, 'shared_fed_operating_expenditures_period': 0.0, 'all_loans_received_period': 0.0, 'coordinated_expenditures_by_party_committee_period': 0.0, 'net_contributions_period': 13698265.0, 'total_contribution_refunds_ytd': 0.0, 'non_allocated_fed_election_activity_period': 0.0, 'other_fed_receipts_period': 0.0, 'total_disbursements_ytd': 145187447.21, 'shared_fed_activity_ytd': 0.0, 'refunded_political_party_committee_contributions_period': 0.0, 'report_form': 'Form 3X', 'cash_on_hand_end_period': 701117.02, 'cash_on_hand_beginning_calendar_ytd': 15216977.03, 'fed_candidate_committee_contributions_ytd': 1362000.0, 'non_allocated_fed_election_activity_ytd': 0.0, 'refunded_other_political_committee_contributions_period': 0.0, 'transfers_to_affiliated_committee_period': 0.0, 'loan_repayments_made_ytd': 0.0, 'report_type_full': 'POST-GENERAL', 'transfers_from_affiliated_party_period': 0.0, 'total_fed_election_activity_period': 0.0, 'calendar_ytd': 2018, 'cycle': 2018, 'refunded_individual_contributions_ytd': 0.0, 'offsets_to_operating_expenditures_ytd': 1170744.55, 'loan_repayments_made_period': 0.0, 'csv_url': 'http://docquery.fec.gov/csv/806/1299806.csv', 'fec_file_id': 'FEC-1299806', 'committee_type': 'O', 'shared_nonfed_operating_expenditures_period': 0.0, 'total_contribution_refunds_period': 0.0, 'net_contributions_ytd': 129500842.65, 'nonfed_share_allocated_disbursements_period': 0.0, 'loan_repayments_received_ytd': 0.0, 'shared_fed_operating_expenditures_ytd': 0.0, 'beginning_image_number': '201812069135232954', 'end_image_number': '201812069135233295', 'subtotal_summary_page_period': 37880642.32, 'total_fed_operating_expenditures_ytd': 14612773.83, 'political_party_committee_contributions_period': 0.0, 'net_operating_expenditures_period': 333678.18, 'fed_candidate_committee_contributions_period': 0.0, 'allocated_federal_election_levin_share_period': 0.0, 'report_type': '30G', 'document_description': 'POST-GENERAL 2018', 'total_fed_election_activity_ytd': 0.0, 'amendment_chain': [1299806.0], 'receipt_date': '2018-12-06T00:00:00', 'most_recent': True, 'coordinated_expenditures_by_party_committee_ytd': 0.0, 'transfers_from_nonfed_levin_period': 0.0, 'debts_owed_to_committee': 0.0, 'file_number': 1299806, 'total_nonfed_transfers_period': 0.0, 'total_disbursements_period': 37179525.3, 'pdf_url': 'http://docquery.fec.gov/pdf/954/201812069135232954/201812069135232954.pdf', 'loan_repayments_received_period': 0.0, 'individual_itemized_contributions_period': 13533837.0, 'other_fed_operating_expenditures_ytd': 14612773.83, 'shared_fed_activity_period': 0.0, 'total_nonfed_transfers_ytd': 0.0, 'total_contributions_ytd': 129500842.65, 'individual_unitemized_contributions_period': 4428.0, 'subtotal_summary_ytd': 145888564.23, 'total_fed_receipts_period': 14025214.16, 'transfers_from_nonfed_account_period': 0.0, 'total_receipts_period': 14025214.16, 'transfers_from_affiliated_party_ytd': 0.0, 'debts_owed_by_committee': 0.0, 'total_contributions_period': 13698265.0, 'report_year': 2018, 'html_url': 'http://docquery.fec.gov/cgi-bin/forms/C00504530/1299806/', 'offsets_to_operating_expenditures_period': 326949.16, 'means_filed': 'e-file', 'other_fed_operating_expenditures_period': 660627.34, 'total_fed_disbursements_ytd': 145187447.21, 'all_loans_received_ytd': 0.0, 'refunded_political_party_committee_contributions_ytd': 0.0, 'total_individual_contributions_ytd': 127755442.65, 'refunded_other_political_committee_contributions_ytd': 0.0, 'fec_url': 'http://docquery.fec.gov/dcdev/posted/1299806.fec'}, {'shared_fed_activity_nonfed_ytd': 0.0, 'amendment_indicator_full': 'NEW', 'total_fed_receipts_ytd': 116646373.04, 'transfers_to_affilitated_committees_ytd': 0.0, 'individual_itemized_contributions_ytd': 114198793.99, 'total_operating_expenditures_ytd': 13952146.49, 'loans_made_period': 0.0, 'cash_on_hand_close_ytd': 23855428.16, 'independent_expenditures_period': 38195288.55, 'individual_unitemized_contributions_ytd': 18383.66, 'most_recent_file_number': 1284419.0, 'other_disbursements_ytd': 0.0, 'total_fed_operating_expenditures_period': -9290762.79, 'refunded_individual_contributions_period': 0.0, 'cash_on_hand_beginning_period': 35684894.33, 'other_political_committee_contributions_ytd': 1585200.0, 'transfers_from_nonfed_levin_ytd': 0.0, 'net_operating_expenditures_ytd': 13108351.1, 'shared_nonfed_operating_expenditures_ytd': 0.0, 'independent_expenditures_ytd': 92693775.42, 'coverage_end_date': '2018-10-17T00:00:00+00:00', 'total_individual_contributions_period': 15877294.95, 'other_disbursements_period': 0.0, 'other_political_committee_contributions_period': 365000.0, 'fed_candidate_committee_contribution_refunds_ytd': 0.0, 'total_fed_disbursements_period': 28904525.76, 'other_fed_receipts_ytd': 0.0, 'total_operating_expenditures_period': -9290762.79, 'coverage_start_date': '2018-10-01T00:00:00+00:00', 'political_party_committee_contributions_ytd': 200.0, 'committee_name': 'CONGRESSIONAL LEADERSHIP FUND', 'amendment_indicator': 'N', 'committee_id': 'C00504530', 'previous_file_number': 1284419.0, 'transfers_from_nonfed_account_ytd': 0.0, 'fed_candidate_contribution_refunds_period': 0.0, 'total_receipts_ytd': 116646373.04, 'loans_made_ytd': 0.0, 'is_amended': False, 'shared_fed_operating_expenditures_period': 0.0, 'all_loans_received_period': 0.0, 'coordinated_expenditures_by_party_committee_period': 0.0, 'net_contributions_period': 16242494.95, 'total_contribution_refunds_ytd': 0.0, 'non_allocated_fed_election_activity_period': 0.0, 'other_fed_receipts_period': 0.0, 'total_disbursements_ytd': 108007921.91, 'shared_fed_activity_ytd': 0.0, 'refunded_political_party_committee_contributions_period': 0.0, 'report_form': 'Form 3X', 'cash_on_hand_end_period': 23855428.16, 'cash_on_hand_beginning_calendar_ytd': 15216977.03, 'fed_candidate_committee_contributions_ytd': 1362000.0, 'non_allocated_fed_election_activity_ytd': 0.0, 'refunded_other_political_committee_contributions_period': 0.0, 'transfers_to_affiliated_committee_period': 0.0, 'loan_repayments_made_ytd': 0.0, 'report_type_full': 'PRE-GENERAL', 'transfers_from_affiliated_party_period': 0.0, 'total_fed_election_activity_period': 0.0, 'calendar_ytd': 2018, 'cycle': 2018, 'refunded_individual_contributions_ytd': 0.0, 'offsets_to_operating_expenditures_ytd': 843795.39, 'loan_repayments_made_period': 0.0, 'csv_url': 'http://docquery.fec.gov/csv/419/1284419.csv', 'fec_file_id': 'FEC-1284419', 'committee_type': 'O', 'shared_nonfed_operating_expenditures_period': 0.0, 'total_contribution_refunds_period': 0.0, 'net_contributions_ytd': 115802577.65, 'nonfed_share_allocated_disbursements_period': 0.0, 'loan_repayments_received_ytd': 0.0, 'shared_fed_operating_expenditures_ytd': 0.0, 'beginning_image_number': '201810259133495812', 'end_image_number': '201810259133496167', 'subtotal_summary_page_period': 52759953.92, 'total_fed_operating_expenditures_ytd': 13952146.49, 'political_party_committee_contributions_period': 200.0, 'net_operating_expenditures_period': -10123327.43, 'fed_candidate_committee_contributions_period': 0.0, 'allocated_federal_election_levin_share_period': 0.0, 'report_type': '12G', 'document_description': 'PRE-GENERAL 2018', 'total_fed_election_activity_ytd': 0.0, 'amendment_chain': [1284419.0], 'receipt_date': '2018-10-25T00:00:00', 'most_recent': True, 'coordinated_expenditures_by_party_committee_ytd': 0.0, 'transfers_from_nonfed_levin_period': 0.0, 'debts_owed_to_committee': 0.0, 'file_number': 1284419, 'total_nonfed_transfers_period': 0.0, 'total_disbursements_period': 28904525.76, 'pdf_url': 'http://docquery.fec.gov/pdf/812/201810259133495812/201810259133495812.pdf', 'loan_repayments_received_period': 0.0, 'individual_itemized_contributions_period': 15864434.0, 'other_fed_operating_expenditures_ytd': 13952146.49, 'shared_fed_activity_period': 0.0, 'total_nonfed_transfers_ytd': 0.0, 'total_contributions_ytd': 115802577.65, 'individual_unitemized_contributions_period': 12860.95, 'subtotal_summary_ytd': 131863350.07, 'total_fed_receipts_period': 17075059.59, 'transfers_from_nonfed_account_period': 0.0, 'total_receipts_period': 17075059.59, 'transfers_from_affiliated_party_ytd': 0.0, 'debts_owed_by_committee': 355029.83, 'total_contributions_period': 16242494.95, 'report_year': 2018, 'html_url': 'http://docquery.fec.gov/cgi-bin/forms/C00504530/1284419/', 'offsets_to_operating_expenditures_period': 832564.64, 'means_filed': 'e-file', 'other_fed_operating_expenditures_period': -9290762.79, 'total_fed_disbursements_ytd': 108007921.91, 'all_loans_received_ytd': 0.0, 'refunded_political_party_committee_contributions_ytd': 0.0, 'total_individual_contributions_ytd': 114217177.65, 'refunded_other_political_committee_contributions_ytd': 0.0, 'fec_url': 'http://docquery.fec.gov/dcdev/posted/1284419.fec'}, {'shared_fed_activity_nonfed_ytd': 0.0, 'amendment_indicator_full': 'NEW', 'total_fed_receipts_ytd': 99571313.45, 'transfers_to_affilitated_committees_ytd': 0.0, 'individual_itemized_contributions_ytd': 98334359.99, 'total_operating_expenditures_ytd': 23242909.28, 'loans_made_period': 0.0, 'cash_on_hand_close_ytd': 35684894.33, 'independent_expenditures_period': 35877489.75, 'individual_unitemized_contributions_ytd': 5522.71, 'most_recent_file_number': 1271984.0, 'other_disbursements_ytd': 0.0, 'total_fed_operating_expenditures_period': 15635334.63, 'refunded_individual_contributions_period': 0.0, 'cash_on_hand_beginning_period': 61707732.3, 'other_political_committee_contributions_ytd': 1220200.0, 'transfers_from_nonfed_levin_ytd': 0.0, 'net_operating_expenditures_ytd': 23231678.53, 'shared_nonfed_operating_expenditures_ytd': 0.0, 'independent_expenditures_ytd': 54498486.87, 'coverage_end_date': '2018-09-30T00:00:00+00:00', 'total_individual_contributions_period': 25219097.24, 'other_disbursements_period': 0.0, 'other_political_committee_contributions_period': 270000.0, 'fed_candidate_committee_contribution_refunds_ytd': 0.0, 'total_fed_disbursements_period': 51512824.38, 'other_fed_receipts_ytd': 0.0, 'total_operating_expenditures_period': 15635334.63, 'coverage_start_date': '2018-08-28T00:00:00+00:00', 'political_party_committee_contributions_ytd': 0.0, 'committee_name': 'CONGRESSIONAL LEADERSHIP FUND', 'amendment_indicator': 'N', 'committee_id': 'C00504530', 'previous_file_number': 1271984.0, 'transfers_from_nonfed_account_ytd': 0.0, 'fed_candidate_contribution_refunds_period': 0.0, 'total_receipts_ytd': 99571313.45, 'loans_made_ytd': 0.0, 'is_amended': False, 'shared_fed_operating_expenditures_period': 0.0, 'all_loans_received_period': 0.0, 'coordinated_expenditures_by_party_committee_period': 0.0, 'net_contributions_period': 25489097.24, 'total_contribution_refunds_ytd': 0.0, 'non_allocated_fed_election_activity_period': 0.0, 'other_fed_receipts_period': 0.0, 'total_disbursements_ytd': 79103396.15, 'shared_fed_activity_ytd': 0.0, 'refunded_political_party_committee_contributions_period': 0.0, 'report_form': 'Form 3X', 'cash_on_hand_end_period': 35684894.33, 'cash_on_hand_beginning_calendar_ytd': 15216977.03, 'fed_candidate_committee_contributions_ytd': 1362000.0, 'non_allocated_fed_election_activity_ytd': 0.0, 'refunded_other_political_committee_contributions_period': 0.0, 'transfers_to_affiliated_committee_period': 0.0, 'loan_repayments_made_ytd': 0.0, 'report_type_full': 'OCTOBER QUARTERLY', 'transfers_from_affiliated_party_period': 0.0, 'total_fed_election_activity_period': 0.0, 'calendar_ytd': 2018, 'cycle': 2018, 'refunded_individual_contributions_ytd': 0.0, 'offsets_to_operating_expenditures_ytd': 11230.75, 'loan_repayments_made_period': 0.0, 'csv_url': 'http://docquery.fec.gov/csv/984/1271984.csv', 'fec_file_id': 'FEC-1271984', 'committee_type': 'O', 'shared_nonfed_operating_expenditures_period': 0.0, 'total_contribution_refunds_period': 0.0, 'net_contributions_ytd': 99560082.7, 'nonfed_share_allocated_disbursements_period': 0.0, 'loan_repayments_received_ytd': 0.0, 'shared_fed_operating_expenditures_ytd': 0.0, 'beginning_image_number': '201810159125090932', 'end_image_number': '201810159125091327', 'subtotal_summary_page_period': 87197718.71, 'total_fed_operating_expenditures_ytd': 23242909.28, 'political_party_committee_contributions_period': 0.0, 'net_operating_expenditures_period': 15634445.46, 'fed_candidate_committee_contributions_period': 0.0, 'allocated_federal_election_levin_share_period': 0.0, 'report_type': 'Q3', 'document_description': 'OCTOBER QUARTERLY 2018', 'total_fed_election_activity_ytd': 0.0, 'amendment_chain': [1271984.0], 'receipt_date': '2018-10-15T00:00:00', 'most_recent': True, 'coordinated_expenditures_by_party_committee_ytd': 0.0, 'transfers_from_nonfed_levin_period': 0.0, 'debts_owed_to_committee': 0.0, 'file_number': 1271984, 'total_nonfed_transfers_period': 0.0, 'total_disbursements_period': 51512824.38, 'pdf_url': 'http://docquery.fec.gov/pdf/932/201810159125090932/201810159125090932.pdf', 'loan_repayments_received_period': 0.0, 'individual_itemized_contributions_period': 25216155.0, 'other_fed_operating_expenditures_ytd': 23242909.28, 'shared_fed_activity_period': 0.0, 'total_nonfed_transfers_ytd': 0.0, 'total_contributions_ytd': 99560082.7, 'individual_unitemized_contributions_period': 2942.24, 'subtotal_summary_ytd': 114788290.48, 'total_fed_receipts_period': 25489986.41, 'transfers_from_nonfed_account_period': 0.0, 'total_receipts_period': 25489986.41, 'transfers_from_affiliated_party_ytd': 0.0, 'debts_owed_by_committee': 17040.0, 'total_contributions_period': 25489097.24, 'report_year': 2018, 'html_url': 'http://docquery.fec.gov/cgi-bin/forms/C00504530/1271984/', 'offsets_to_operating_expenditures_period': 889.17, 'means_filed': 'e-file', 'other_fed_operating_expenditures_period': 15635334.63, 'total_fed_disbursements_ytd': 79103396.15, 'all_loans_received_ytd': 0.0, 'refunded_political_party_committee_contributions_ytd': 0.0, 'total_individual_contributions_ytd': 98339882.7, 'refunded_other_political_committee_contributions_ytd': 0.0, 'fec_url': 'http://docquery.fec.gov/dcdev/posted/1271984.fec'}, {'shared_fed_activity_nonfed_ytd': 0.0, 'amendment_indicator_full': 'NEW', 'total_fed_receipts_ytd': 74081327.04, 'transfers_to_affilitated_committees_ytd': 0.0, 'individual_itemized_contributions_ytd': 73118204.99, 'total_operating_expenditures_ytd': 7607574.65, 'loans_made_period': 0.0, 'cash_on_hand_close_ytd': 61707732.3, 'independent_expenditures_period': 13136171.32, 'individual_unitemized_contributions_ytd': 2580.47, 'most_recent_file_number': 1260337.0, 'other_disbursements_ytd': 0.0, 'total_fed_operating_expenditures_period': 2867140.09, 'refunded_individual_contributions_period': 0.0, 'cash_on_hand_beginning_period': 73313673.24, 'other_political_committee_contributions_ytd': 950200.0, 'transfers_from_nonfed_levin_ytd': 0.0, 'net_operating_expenditures_ytd': 7597233.07, 'shared_nonfed_operating_expenditures_ytd': 0.0, 'independent_expenditures_ytd': 18620997.12, 'coverage_end_date': '2018-08-27T00:00:00+00:00', 'total_individual_contributions_period': 4354870.47, 'other_disbursements_period': 0.0, 'other_political_committee_contributions_period': 42500.0, 'fed_candidate_committee_contribution_refunds_ytd': 0.0, 'total_fed_disbursements_period': 16003311.41, 'other_fed_receipts_ytd': 0.0, 'total_operating_expenditures_period': 2867140.09, 'coverage_start_date': '2018-07-19T00:00:00+00:00', 'political_party_committee_contributions_ytd': 0.0, 'committee_name': 'CONGRESSIONAL LEADERSHIP FUND', 'amendment_indicator': 'N', 'committee_id': 'C00504530', 'previous_file_number': 1260337.0, 'transfers_from_nonfed_account_ytd': 0.0, 'fed_candidate_contribution_refunds_period': 0.0, 'total_receipts_ytd': 74081327.04, 'loans_made_ytd': 0.0, 'is_amended': False, 'shared_fed_operating_expenditures_period': 0.0, 'all_loans_received_period': 0.0, 'coordinated_expenditures_by_party_committee_period': 0.0, 'net_contributions_period': 4397370.47, 'total_contribution_refunds_ytd': 0.0, 'non_allocated_fed_election_activity_period': 0.0, 'other_fed_receipts_period': 0.0, 'total_disbursements_ytd': 27590571.77, 'shared_fed_activity_ytd': 0.0, 'refunded_political_party_committee_contributions_period': 0.0, 'report_form': 'Form 3X', 'cash_on_hand_end_period': 61707732.3, 'cash_on_hand_beginning_calendar_ytd': 15216977.03, 'fed_candidate_committee_contributions_ytd': 1362000.0, 'non_allocated_fed_election_activity_ytd': 0.0, 'refunded_other_political_committee_contributions_period': 0.0, 'transfers_to_affiliated_committee_period': 0.0, 'loan_repayments_made_ytd': 0.0, 'report_type_full': 'POST-SPECIAL', 'transfers_from_affiliated_party_period': 0.0, 'total_fed_election_activity_period': 0.0, 'calendar_ytd': 2018, 'cycle': 2018, 'refunded_individual_contributions_ytd': 0.0, 'offsets_to_operating_expenditures_ytd': 10341.58, 'loan_repayments_made_period': 0.0, 'csv_url': 'http://docquery.fec.gov/csv/337/1260337.csv', 'fec_file_id': 'FEC-1260337', 'committee_type': 'O', 'shared_nonfed_operating_expenditures_period': 0.0, 'total_contribution_refunds_period': 0.0, 'net_contributions_ytd': 74070985.46, 'nonfed_share_allocated_disbursements_period': 0.0, 'loan_repayments_received_ytd': 0.0, 'shared_fed_operating_expenditures_ytd': 0.0, 'beginning_image_number': '201809069121596724', 'end_image_number': '201809069121596996', 'subtotal_summary_page_period': 77711043.71, 'total_fed_operating_expenditures_ytd': 7607574.65, 'political_party_committee_contributions_period': 0.0, 'net_operating_expenditures_period': 2867140.09, 'fed_candidate_committee_contributions_period': 0.0, 'allocated_federal_election_levin_share_period': 0.0, 'report_type': '30S', 'document_description': 'POST-SPECIAL 2018', 'total_fed_election_activity_ytd': 0.0, 'amendment_chain': [1260337.0], 'receipt_date': '2018-09-06T00:00:00', 'most_recent': True, 'coordinated_expenditures_by_party_committee_ytd': 0.0, 'transfers_from_nonfed_levin_period': 0.0, 'debts_owed_to_committee': 0.0, 'file_number': 1260337, 'total_nonfed_transfers_period': 0.0, 'total_disbursements_period': 16003311.41, 'pdf_url': 'http://docquery.fec.gov/pdf/724/201809069121596724/201809069121596724.pdf', 'loan_repayments_received_period': 0.0, 'individual_itemized_contributions_period': 4353655.0, 'other_fed_operating_expenditures_ytd': 7607574.65, 'shared_fed_activity_period': 0.0, 'total_nonfed_transfers_ytd': 0.0, 'total_contributions_ytd': 74070985.46, 'individual_unitemized_contributions_period': 1215.47, 'subtotal_summary_ytd': 89298304.07, 'total_fed_receipts_period': 4397370.47, 'transfers_from_nonfed_account_period': 0.0, 'total_receipts_period': 4397370.47, 'transfers_from_affiliated_party_ytd': 0.0, 'debts_owed_by_committee': 0.0, 'total_contributions_period': 4397370.47, 'report_year': 2018, 'html_url': 'http://docquery.fec.gov/cgi-bin/forms/C00504530/1260337/', 'offsets_to_operating_expenditures_period': 0.0, 'means_filed': 'e-file', 'other_fed_operating_expenditures_period': 2867140.09, 'total_fed_disbursements_ytd': 27590571.77, 'all_loans_received_ytd': 0.0, 'refunded_political_party_committee_contributions_ytd': 0.0, 'total_individual_contributions_ytd': 73120785.46, 'refunded_other_political_committee_contributions_ytd': 0.0, 'fec_url': 'http://docquery.fec.gov/dcdev/posted/1260337.fec'}, {'shared_fed_activity_nonfed_ytd': 0.0, 'amendment_indicator_full': 'NEW', 'total_fed_receipts_ytd': 69683956.57, 'transfers_to_affilitated_committees_ytd': 0.0, 'individual_itemized_contributions_ytd': 68764549.99, 'total_operating_expenditures_ytd': 4740434.56, 'loans_made_period': 0.0, 'cash_on_hand_close_ytd': 73313673.24, 'independent_expenditures_period': 894296.92, 'individual_unitemized_contributions_ytd': 1365.0, 'most_recent_file_number': 1253064.0, 'other_disbursements_ytd': 0.0, 'total_fed_operating_expenditures_period': 380564.22, 'refunded_individual_contributions_period': 0.0, 'cash_on_hand_beginning_period': 71445380.49, 'other_political_committee_contributions_ytd': 907700.0, 'transfers_from_nonfed_levin_ytd': 0.0, 'net_operating_expenditures_ytd': 4730092.98, 'shared_nonfed_operating_expenditures_ytd': 0.0, 'independent_expenditures_ytd': 5484825.8, 'coverage_end_date': '2018-07-18T00:00:00+00:00', 'total_individual_contributions_period': 3105348.0, 'other_disbursements_period': 0.0, 'other_political_committee_contributions_period': 32700.0, 'fed_candidate_committee_contribution_refunds_ytd': 0.0, 'total_fed_disbursements_period': 1274861.14, 'other_fed_receipts_ytd': 0.0, 'total_operating_expenditures_period': 380564.22, 'coverage_start_date': '2018-07-01T00:00:00+00:00', 'political_party_committee_contributions_ytd': 0.0, 'committee_name': 'CONGRESSIONAL LEADERSHIP FUND', 'amendment_indicator': 'N', 'committee_id': 'C00504530', 'previous_file_number': 1253064.0, 'transfers_from_nonfed_account_ytd': 0.0, 'fed_candidate_contribution_refunds_period': 0.0, 'total_receipts_ytd': 69683956.57, 'loans_made_ytd': 0.0, 'is_amended': False, 'shared_fed_operating_expenditures_period': 0.0, 'all_loans_received_period': 0.0, 'coordinated_expenditures_by_party_committee_period': 0.0, 'net_contributions_period': 3138048.0, 'total_contribution_refunds_ytd': 0.0, 'non_allocated_fed_election_activity_period': 0.0, 'other_fed_receipts_period': 0.0, 'total_disbursements_ytd': 11587260.36, 'shared_fed_activity_ytd': 0.0, 'refunded_political_party_committee_contributions_period': 0.0, 'report_form': 'Form 3X', 'cash_on_hand_end_period': 73313673.24, 'cash_on_hand_beginning_calendar_ytd': 15216977.03, 'fed_candidate_committee_contributions_ytd': 1362000.0, 'non_allocated_fed_election_activity_ytd': 0.0, 'refunded_other_political_committee_contributions_period': 0.0, 'transfers_to_affiliated_committee_period': 0.0, 'loan_repayments_made_ytd': 0.0, 'report_type_full': 'PRE-SPECIAL', 'transfers_from_affiliated_party_period': 0.0, 'total_fed_election_activity_period': 0.0, 'calendar_ytd': 2018, 'cycle': 2018, 'refunded_individual_contributions_ytd': 0.0, 'offsets_to_operating_expenditures_ytd': 10341.58, 'loan_repayments_made_period': 0.0, 'csv_url': 'http://docquery.fec.gov/csv/064/1253064.csv', 'fec_file_id': 'FEC-1253064', 'committee_type': 'O', 'shared_nonfed_operating_expenditures_period': 0.0, 'total_contribution_refunds_period': 0.0, 'net_contributions_ytd': 69673614.99, 'nonfed_share_allocated_disbursements_period': 0.0, 'loan_repayments_received_ytd': 0.0, 'shared_fed_operating_expenditures_ytd': 0.0, 'beginning_image_number': '201807269119325059', 'end_image_number': '201807269119325163', 'subtotal_summary_page_period': 74588534.38, 'total_fed_operating_expenditures_ytd': 4740434.56, 'political_party_committee_contributions_period': 0.0, 'net_operating_expenditures_period': 375458.33, 'fed_candidate_committee_contributions_period': 0.0, 'allocated_federal_election_levin_share_period': 0.0, 'report_type': '12S', 'document_description': 'PRE-SPECIAL 2018', 'total_fed_election_activity_ytd': 0.0, 'amendment_chain': [1253064.0], 'receipt_date': '2018-07-26T00:00:00', 'most_recent': True, 'coordinated_expenditures_by_party_committee_ytd': 0.0, 'transfers_from_nonfed_levin_period': 0.0, 'debts_owed_to_committee': 0.0, 'file_number': 1253064, 'total_nonfed_transfers_period': 0.0, 'total_disbursements_period': 1274861.14, 'pdf_url': 'http://docquery.fec.gov/pdf/059/201807269119325059/201807269119325059.pdf', 'loan_repayments_received_period': 0.0, 'individual_itemized_contributions_period': 3105339.0, 'other_fed_operating_expenditures_ytd': 4740434.56, 'shared_fed_activity_period': 0.0, 'total_nonfed_transfers_ytd': 0.0, 'total_contributions_ytd': 69673614.99, 'individual_unitemized_contributions_period': 9.0, 'subtotal_summary_ytd': 84900933.6, 'total_fed_receipts_period': 3143153.89, 'transfers_from_nonfed_account_period': 0.0, 'total_receipts_period': 3143153.89, 'transfers_from_affiliated_party_ytd': 0.0, 'debts_owed_by_committee': 0.0, 'total_contributions_period': 3138048.0, 'report_year': 2018, 'html_url': 'http://docquery.fec.gov/cgi-bin/forms/C00504530/1253064/', 'offsets_to_operating_expenditures_period': 5105.89, 'means_filed': 'e-file', 'other_fed_operating_expenditures_period': 380564.22, 'total_fed_disbursements_ytd': 11587260.36, 'all_loans_received_ytd': 0.0, 'refunded_political_party_committee_contributions_ytd': 0.0, 'total_individual_contributions_ytd': 68765914.99, 'refunded_other_political_committee_contributions_ytd': 0.0, 'fec_url': 'http://docquery.fec.gov/dcdev/posted/1253064.fec'}, {'shared_fed_activity_nonfed_ytd': 0.0, 'amendment_indicator_full': 'AMENDMENT', 'total_fed_receipts_ytd': 66540802.68, 'transfers_to_affilitated_committees_ytd': 0.0, 'individual_itemized_contributions_ytd': 65659210.99, 'total_operating_expenditures_ytd': 4359870.34, 'loans_made_period': 0.0, 'cash_on_hand_close_ytd': 71445380.49, 'independent_expenditures_period': 961618.18, 'individual_unitemized_contributions_ytd': 1356.0, 'most_recent_file_number': 1291367.0, 'other_disbursements_ytd': 0.0, 'total_fed_operating_expenditures_period': 2788364.87, 'refunded_individual_contributions_period': 0.0, 'cash_on_hand_beginning_period': 25144704.55, 'other_political_committee_contributions_ytd': 875000.0, 'transfers_from_nonfed_levin_ytd': 0.0, 'net_operating_expenditures_ytd': 4354634.65, 'shared_nonfed_operating_expenditures_ytd': 0.0, 'independent_expenditures_ytd': 4590528.88, 'coverage_end_date': '2018-06-30T00:00:00+00:00', 'total_individual_contributions_period': 50542658.99, 'other_disbursements_period': 0.0, 'other_political_committee_contributions_period': 870000.0, 'fed_candidate_committee_contribution_refunds_ytd': 0.0, 'total_fed_disbursements_period': 5111983.05, 'other_fed_receipts_ytd': 0.0, 'total_operating_expenditures_period': 2788364.87, 'coverage_start_date': '2018-04-05T00:00:00+00:00', 'political_party_committee_contributions_ytd': 0.0, 'committee_name': 'CONGRESSIONAL LEADERSHIP FUND', 'amendment_indicator': 'A', 'committee_id': 'C00504530', 'previous_file_number': 1248628.0, 'transfers_from_nonfed_account_ytd': 0.0, 'fed_candidate_contribution_refunds_period': 0.0, 'total_receipts_ytd': 66540802.68, 'loans_made_ytd': 0.0, 'is_amended': False, 'shared_fed_operating_expenditures_period': 0.0, 'all_loans_received_period': 0.0, 'coordinated_expenditures_by_party_committee_period': 0.0, 'net_contributions_period': 51412658.99, 'total_contribution_refunds_ytd': 0.0, 'non_allocated_fed_election_activity_period': 0.0, 'other_fed_receipts_period': 0.0, 'total_disbursements_ytd': 10312399.22, 'shared_fed_activity_ytd': 0.0, 'refunded_political_party_committee_contributions_period': 0.0, 'report_form': 'Form 3X', 'cash_on_hand_end_period': 71445380.49, 'cash_on_hand_beginning_calendar_ytd': 15216977.03, 'fed_candidate_committee_contributions_ytd': 1362000.0, 'non_allocated_fed_election_activity_ytd': 0.0, 'refunded_other_political_committee_contributions_period': 0.0, 'transfers_to_affiliated_committee_period': 0.0, 'loan_repayments_made_ytd': 0.0, 'report_type_full': 'JULY QUARTERLY', 'transfers_from_affiliated_party_period': 0.0, 'total_fed_election_activity_period': 0.0, 'calendar_ytd': 2018, 'cycle': 2018, 'refunded_individual_contributions_ytd': 0.0, 'offsets_to_operating_expenditures_ytd': 5235.69, 'loan_repayments_made_period': 0.0, 'csv_url': 'http://docquery.fec.gov/csv/367/1291367.csv', 'fec_file_id': 'FEC-1291367', 'committee_type': 'O', 'shared_nonfed_operating_expenditures_period': 0.0, 'total_contribution_refunds_period': 0.0, 'net_contributions_ytd': 66535566.99, 'nonfed_share_allocated_disbursements_period': 0.0, 'loan_repayments_received_ytd': 0.0, 'shared_fed_operating_expenditures_ytd': 0.0, 'beginning_image_number': '201811149133679635', 'end_image_number': '201811149133680003', 'subtotal_summary_page_period': 76557363.54, 'total_fed_operating_expenditures_ytd': 4359870.34, 'political_party_committee_contributions_period': 0.0, 'net_operating_expenditures_period': 2788364.87, 'fed_candidate_committee_contributions_period': 1362000.0, 'allocated_federal_election_levin_share_period': 0.0, 'report_type': 'Q2', 'document_description': 'JULY QUARTERLY 2018', 'total_fed_election_activity_ytd': 0.0, 'amendment_chain': [1248628.0, 1291367.0], 'receipt_date': '2018-11-14T00:00:00', 'most_recent': True, 'coordinated_expenditures_by_party_committee_ytd': 0.0, 'transfers_from_nonfed_levin_period': 0.0, 'debts_owed_to_committee': 0.0, 'file_number': 1291367, 'total_nonfed_transfers_period': 0.0, 'total_disbursements_period': 5111983.05, 'pdf_url': 'http://docquery.fec.gov/pdf/635/201811149133679635/201811149133679635.pdf', 'loan_repayments_received_period': 0.0, 'individual_itemized_contributions_period': 50542029.99, 'other_fed_operating_expenditures_ytd': 4359870.34, 'shared_fed_activity_period': 0.0, 'total_nonfed_transfers_ytd': 0.0, 'total_contributions_ytd': 66535566.99, 'individual_unitemized_contributions_period': 629.0, 'subtotal_summary_ytd': 81757779.71, 'total_fed_receipts_period': 51412658.99, 'transfers_from_nonfed_account_period': 0.0, 'total_receipts_period': 51412658.99, 'transfers_from_affiliated_party_ytd': 0.0, 'debts_owed_by_committee': 0.0, 'total_contributions_period': 51412658.99, 'report_year': 2018, 'html_url': 'http://docquery.fec.gov/cgi-bin/forms/C00504530/1291367/', 'offsets_to_operating_expenditures_period': 0.0, 'means_filed': 'e-file', 'other_fed_operating_expenditures_period': 2788364.87, 'total_fed_disbursements_ytd': 10312399.22, 'all_loans_received_ytd': 0.0, 'refunded_political_party_committee_contributions_ytd': 0.0, 'total_individual_contributions_ytd': 65660566.99, 'refunded_other_political_committee_contributions_ytd': 0.0, 'fec_url': 'http://docquery.fec.gov/dcdev/posted/1291367.fec'}, {'shared_fed_activity_nonfed_ytd': 0.0, 'amendment_indicator_full': 'NEW', 'total_fed_receipts_ytd': 66540802.68, 'transfers_to_affilitated_committees_ytd': 0.0, 'individual_itemized_contributions_ytd': 65659210.99, 'total_operating_expenditures_ytd': 4359870.34, 'loans_made_period': 0.0, 'cash_on_hand_close_ytd': 71445380.49, 'independent_expenditures_period': 961618.18, 'individual_unitemized_contributions_ytd': 1356.0, 'most_recent_file_number': 1291367.0, 'other_disbursements_ytd': 0.0, 'total_fed_operating_expenditures_period': 2788364.87, 'refunded_individual_contributions_period': 0.0, 'cash_on_hand_beginning_period': 25144704.55, 'other_political_committee_contributions_ytd': 875000.0, 'transfers_from_nonfed_levin_ytd': 0.0, 'net_operating_expenditures_ytd': 4354634.65, 'shared_nonfed_operating_expenditures_ytd': 0.0, 'independent_expenditures_ytd': 4590528.88, 'coverage_end_date': '2018-06-30T00:00:00+00:00', 'total_individual_contributions_period': 50542658.99, 'other_disbursements_period': 0.0, 'other_political_committee_contributions_period': 870000.0, 'fed_candidate_committee_contribution_refunds_ytd': 0.0, 'total_fed_disbursements_period': 5111983.05, 'other_fed_receipts_ytd': 0.0, 'total_operating_expenditures_period': 2788364.87, 'coverage_start_date': '2018-04-05T00:00:00+00:00', 'political_party_committee_contributions_ytd': 0.0, 'committee_name': 'CONGRESSIONAL LEADERSHIP FUND', 'amendment_indicator': 'N', 'committee_id': 'C00504530', 'previous_file_number': 1248628.0, 'transfers_from_nonfed_account_ytd': 0.0, 'fed_candidate_contribution_refunds_period': 0.0, 'total_receipts_ytd': 66540802.68, 'loans_made_ytd': 0.0, 'is_amended': True, 'shared_fed_operating_expenditures_period': 0.0, 'all_loans_received_period': 0.0, 'coordinated_expenditures_by_party_committee_period': 0.0, 'net_contributions_period': 51412658.99, 'total_contribution_refunds_ytd': 0.0, 'non_allocated_fed_election_activity_period': 0.0, 'other_fed_receipts_period': 0.0, 'total_disbursements_ytd': 10312399.22, 'shared_fed_activity_ytd': 0.0, 'refunded_political_party_committee_contributions_period': 0.0, 'report_form': 'Form 3X', 'cash_on_hand_end_period': 71445380.49, 'cash_on_hand_beginning_calendar_ytd': 15216977.03, 'fed_candidate_committee_contributions_ytd': 1362000.0, 'non_allocated_fed_election_activity_ytd': 0.0, 'refunded_other_political_committee_contributions_period': 0.0, 'transfers_to_affiliated_committee_period': 0.0, 'loan_repayments_made_ytd': 0.0, 'report_type_full': 'JULY QUARTERLY', 'transfers_from_affiliated_party_period': 0.0, 'total_fed_election_activity_period': 0.0, 'calendar_ytd': 2018, 'cycle': 2018, 'refunded_individual_contributions_ytd': 0.0, 'offsets_to_operating_expenditures_ytd': 5235.69, 'loan_repayments_made_period': 0.0, 'csv_url': 'http://docquery.fec.gov/csv/628/1248628.csv', 'fec_file_id': 'FEC-1248628', 'committee_type': 'O', 'shared_nonfed_operating_expenditures_period': 0.0, 'total_contribution_refunds_period': 0.0, 'net_contributions_ytd': 66535566.99, 'nonfed_share_allocated_disbursements_period': 0.0, 'loan_repayments_received_ytd': 0.0, 'shared_fed_operating_expenditures_ytd': 0.0, 'beginning_image_number': '201807159115670990', 'end_image_number': '201807159115671358', 'subtotal_summary_page_period': 76557363.54, 'total_fed_operating_expenditures_ytd': 4359870.34, 'political_party_committee_contributions_period': 0.0, 'net_operating_expenditures_period': 2788364.87, 'fed_candidate_committee_contributions_period': 1362000.0, 'allocated_federal_election_levin_share_period': 0.0, 'report_type': 'Q2', 'document_description': 'JULY QUARTERLY 2018', 'total_fed_election_activity_ytd': 0.0, 'amendment_chain': [1248628.0], 'receipt_date': '2018-07-15T00:00:00', 'most_recent': False, 'coordinated_expenditures_by_party_committee_ytd': 0.0, 'transfers_from_nonfed_levin_period': 0.0, 'debts_owed_to_committee': 0.0, 'file_number': 1248628, 'total_nonfed_transfers_period': 0.0, 'total_disbursements_period': 5111983.05, 'pdf_url': 'http://docquery.fec.gov/pdf/990/201807159115670990/201807159115670990.pdf', 'loan_repayments_received_period': 0.0, 'individual_itemized_contributions_period': 50542029.99, 'other_fed_operating_expenditures_ytd': 4359870.34, 'shared_fed_activity_period': 0.0, 'total_nonfed_transfers_ytd': 0.0, 'total_contributions_ytd': 66535566.99, 'individual_unitemized_contributions_period': 629.0, 'subtotal_summary_ytd': 81757779.71, 'total_fed_receipts_period': 51412658.99, 'transfers_from_nonfed_account_period': 0.0, 'total_receipts_period': 51412658.99, 'transfers_from_affiliated_party_ytd': 0.0, 'debts_owed_by_committee': 0.0, 'total_contributions_period': 51412658.99, 'report_year': 2018, 'html_url': 'http://docquery.fec.gov/cgi-bin/forms/C00504530/1248628/', 'offsets_to_operating_expenditures_period': 0.0, 'means_filed': 'e-file', 'other_fed_operating_expenditures_period': 2788364.87, 'total_fed_disbursements_ytd': 10312399.22, 'all_loans_received_ytd': 0.0, 'refunded_political_party_committee_contributions_ytd': 0.0, 'total_individual_contributions_ytd': 65660566.99, 'refunded_other_political_committee_contributions_ytd': 0.0, 'fec_url': 'http://docquery.fec.gov/dcdev/posted/1248628.fec'}, {'shared_fed_activity_nonfed_ytd': 0.0, 'amendment_indicator_full': 'NEW', 'total_fed_receipts_ytd': 15128143.69, 'transfers_to_affilitated_committees_ytd': 0.0, 'individual_itemized_contributions_ytd': 15117181.0, 'total_operating_expenditures_ytd': 1571505.47, 'loans_made_period': 0.0, 'cash_on_hand_close_ytd': 25144704.55, 'independent_expenditures_period': 1151659.7, 'individual_unitemized_contributions_ytd': 727.0, 'most_recent_file_number': 1220026.0, 'other_disbursements_ytd': 0.0, 'total_fed_operating_expenditures_period': 828216.5, 'refunded_individual_contributions_period': 0.0, 'cash_on_hand_beginning_period': 21752378.75, 'other_political_committee_contributions_ytd': 5000.0, 'transfers_from_nonfed_levin_ytd': 0.0, 'net_operating_expenditures_ytd': 1566269.78, 'shared_nonfed_operating_expenditures_ytd': 0.0, 'independent_expenditures_ytd': 3628910.7, 'coverage_end_date': '2018-04-04T00:00:00+00:00', 'total_individual_contributions_period': 5372202.0, 'other_disbursements_period': 0.0, 'other_political_committee_contributions_period': 0.0, 'fed_candidate_committee_contribution_refunds_ytd': 0.0, 'total_fed_disbursements_period': 1979876.2, 'other_fed_receipts_ytd': 0.0, 'total_operating_expenditures_period': 828216.5, 'coverage_start_date': '2018-02-22T00:00:00+00:00', 'political_party_committee_contributions_ytd': 0.0, 'committee_name': 'CONGRESSIONAL LEADERSHIP FUND', 'amendment_indicator': 'N', 'committee_id': 'C00504530', 'previous_file_number': 1220026.0, 'transfers_from_nonfed_account_ytd': 0.0, 'fed_candidate_contribution_refunds_period': 0.0, 'total_receipts_ytd': 15128143.69, 'loans_made_ytd': 0.0, 'is_amended': False, 'shared_fed_operating_expenditures_period': 0.0, 'all_loans_received_period': 0.0, 'coordinated_expenditures_by_party_committee_period': 0.0, 'net_contributions_period': 5372202.0, 'total_contribution_refunds_ytd': 0.0, 'non_allocated_fed_election_activity_period': 0.0, 'other_fed_receipts_period': 0.0, 'total_disbursements_ytd': 5200416.17, 'shared_fed_activity_ytd': 0.0, 'refunded_political_party_committee_contributions_period': 0.0, 'report_form': 'Form 3X', 'cash_on_hand_end_period': 25144704.55, 'cash_on_hand_beginning_calendar_ytd': 15216977.03, 'fed_candidate_committee_contributions_ytd': 0.0, 'non_allocated_fed_election_activity_ytd': 0.0, 'refunded_other_political_committee_contributions_period': 0.0, 'transfers_to_affiliated_committee_period': 0.0, 'loan_repayments_made_ytd': 0.0, 'report_type_full': 'PRE-SPECIAL', 'transfers_from_affiliated_party_period': 0.0, 'total_fed_election_activity_period': 0.0, 'calendar_ytd': 2018, 'cycle': 2018, 'refunded_individual_contributions_ytd': 0.0, 'offsets_to_operating_expenditures_ytd': 5235.69, 'loan_repayments_made_period': 0.0, 'csv_url': 'http://docquery.fec.gov/csv/026/1220026.csv', 'fec_file_id': 'FEC-1220026', 'committee_type': 'O', 'shared_nonfed_operating_expenditures_period': 0.0, 'total_contribution_refunds_period': 0.0, 'net_contributions_ytd': 15122908.0, 'nonfed_share_allocated_disbursements_period': 0.0, 'loan_repayments_received_ytd': 0.0, 'shared_fed_operating_expenditures_ytd': 0.0, 'beginning_image_number': '201804129108011723', 'end_image_number': '201804129108011906', 'subtotal_summary_page_period': 27124580.75, 'total_fed_operating_expenditures_ytd': 1571505.47, 'political_party_committee_contributions_period': 0.0, 'net_operating_expenditures_period': 828216.5, 'fed_candidate_committee_contributions_period': 0.0, 'allocated_federal_election_levin_share_period': 0.0, 'report_type': '12S', 'document_description': 'PRE-SPECIAL 2018', 'total_fed_election_activity_ytd': 0.0, 'amendment_chain': [1220026.0], 'receipt_date': '2018-04-12T00:00:00', 'most_recent': True, 'coordinated_expenditures_by_party_committee_ytd': 0.0, 'transfers_from_nonfed_levin_period': 0.0, 'debts_owed_to_committee': 0.0, 'file_number': 1220026, 'total_nonfed_transfers_period': 0.0, 'total_disbursements_period': 1979876.2, 'pdf_url': 'http://docquery.fec.gov/pdf/723/201804129108011723/201804129108011723.pdf', 'loan_repayments_received_period': 0.0, 'individual_itemized_contributions_period': 5372000.0, 'other_fed_operating_expenditures_ytd': 1571505.47, 'shared_fed_activity_period': 0.0, 'total_nonfed_transfers_ytd': 0.0, 'total_contributions_ytd': 15122908.0, 'individual_unitemized_contributions_period': 202.0, 'subtotal_summary_ytd': 30345120.72, 'total_fed_receipts_period': 5372202.0, 'transfers_from_nonfed_account_period': 0.0, 'total_receipts_period': 5372202.0, 'transfers_from_affiliated_party_ytd': 0.0, 'debts_owed_by_committee': 0.0, 'total_contributions_period': 5372202.0, 'report_year': 2018, 'html_url': 'http://docquery.fec.gov/cgi-bin/forms/C00504530/1220026/', 'offsets_to_operating_expenditures_period': 0.0, 'means_filed': 'e-file', 'other_fed_operating_expenditures_period': 828216.5, 'total_fed_disbursements_ytd': 5200416.17, 'all_loans_received_ytd': 0.0, 'refunded_political_party_committee_contributions_ytd': 0.0, 'total_individual_contributions_ytd': 15117908.0, 'refunded_other_political_committee_contributions_ytd': 0.0, 'fec_url': 'http://docquery.fec.gov/dcdev/posted/1220026.fec'}, {'shared_fed_activity_nonfed_ytd': 0.0, 'amendment_indicator_full': 'NEW', 'total_fed_receipts_ytd': 9755941.69, 'transfers_to_affilitated_committees_ytd': 0.0, 'individual_itemized_contributions_ytd': 9745181.0, 'total_operating_expenditures_ytd': 743288.97, 'loans_made_period': 0.0, 'cash_on_hand_close_ytd': 21752378.75, 'independent_expenditures_period': 2477251.0, 'individual_unitemized_contributions_ytd': 525.0, 'most_recent_file_number': 1212027.0, 'other_disbursements_ytd': 0.0, 'total_fed_operating_expenditures_period': 743288.97, 'refunded_individual_contributions_period': 0.0, 'cash_on_hand_beginning_period': 15216977.03, 'other_political_committee_contributions_ytd': 5000.0, 'transfers_from_nonfed_levin_ytd': 0.0, 'net_operating_expenditures_ytd': 738053.28, 'shared_nonfed_operating_expenditures_ytd': 0.0, 'independent_expenditures_ytd': 2477251.0, 'coverage_end_date': '2018-02-21T00:00:00+00:00', 'total_individual_contributions_period': 9745706.0, 'other_disbursements_period': 0.0, 'other_political_committee_contributions_period': 5000.0, 'fed_candidate_committee_contribution_refunds_ytd': 0.0, 'total_fed_disbursements_period': 3220539.97, 'other_fed_receipts_ytd': 0.0, 'total_operating_expenditures_period': 743288.97, 'coverage_start_date': '2018-01-01T00:00:00+00:00', 'political_party_committee_contributions_ytd': 0.0, 'committee_name': 'CONGRESSIONAL LEADERSHIP FUND', 'amendment_indicator': 'N', 'committee_id': 'C00504530', 'previous_file_number': 1212027.0, 'transfers_from_nonfed_account_ytd': 0.0, 'fed_candidate_contribution_refunds_period': 0.0, 'total_receipts_ytd': 9755941.69, 'loans_made_ytd': 0.0, 'is_amended': False, 'shared_fed_operating_expenditures_period': 0.0, 'all_loans_received_period': 0.0, 'coordinated_expenditures_by_party_committee_period': 0.0, 'net_contributions_period': 9750706.0, 'total_contribution_refunds_ytd': 0.0, 'non_allocated_fed_election_activity_period': 0.0, 'other_fed_receipts_period': 0.0, 'total_disbursements_ytd': 3220539.97, 'shared_fed_activity_ytd': 0.0, 'refunded_political_party_committee_contributions_period': 0.0, 'report_form': 'Form 3X', 'cash_on_hand_end_period': 21752378.75, 'cash_on_hand_beginning_calendar_ytd': 15216977.03, 'fed_candidate_committee_contributions_ytd': 0.0, 'non_allocated_fed_election_activity_ytd': 0.0, 'refunded_other_political_committee_contributions_period': 0.0, 'transfers_to_affiliated_committee_period': 0.0, 'loan_repayments_made_ytd': 0.0, 'report_type_full': 'PRE-SPECIAL', 'transfers_from_affiliated_party_period': 0.0, 'total_fed_election_activity_period': 0.0, 'calendar_ytd': 2018, 'cycle': 2018, 'refunded_individual_contributions_ytd': 0.0, 'offsets_to_operating_expenditures_ytd': 5235.69, 'loan_repayments_made_period': 0.0, 'csv_url': 'http://docquery.fec.gov/csv/027/1212027.csv', 'fec_file_id': 'FEC-1212027', 'committee_type': 'O', 'shared_nonfed_operating_expenditures_period': 0.0, 'total_contribution_refunds_period': 0.0, 'net_contributions_ytd': 9750706.0, 'nonfed_share_allocated_disbursements_period': 0.0, 'loan_repayments_received_ytd': 0.0, 'shared_fed_operating_expenditures_ytd': 0.0, 'beginning_image_number': '201803019095641784', 'end_image_number': '201803019095641937', 'subtotal_summary_page_period': 24972918.72, 'total_fed_operating_expenditures_ytd': 743288.97, 'political_party_committee_contributions_period': 0.0, 'net_operating_expenditures_period': 738053.28, 'fed_candidate_committee_contributions_period': 0.0, 'allocated_federal_election_levin_share_period': 0.0, 'report_type': '12S', 'document_description': 'PRE-SPECIAL 2018', 'total_fed_election_activity_ytd': 0.0, 'amendment_chain': [1212027.0], 'receipt_date': '2018-03-01T00:00:00', 'most_recent': True, 'coordinated_expenditures_by_party_committee_ytd': 0.0, 'transfers_from_nonfed_levin_period': 0.0, 'debts_owed_to_committee': 0.0, 'file_number': 1212027, 'total_nonfed_transfers_period': 0.0, 'total_disbursements_period': 3220539.97, 'pdf_url': 'http://docquery.fec.gov/pdf/784/201803019095641784/201803019095641784.pdf', 'loan_repayments_received_period': 0.0, 'individual_itemized_contributions_period': 9745181.0, 'other_fed_operating_expenditures_ytd': 743288.97, 'shared_fed_activity_period': 0.0, 'total_nonfed_transfers_ytd': 0.0, 'total_contributions_ytd': 9750706.0, 'individual_unitemized_contributions_period': 525.0, 'subtotal_summary_ytd': 24972918.72, 'total_fed_receipts_period': 9755941.69, 'transfers_from_nonfed_account_period': 0.0, 'total_receipts_period': 9755941.69, 'transfers_from_affiliated_party_ytd': 0.0, 'debts_owed_by_committee': 0.0, 'total_contributions_period': 9750706.0, 'report_year': 2018, 'html_url': 'http://docquery.fec.gov/cgi-bin/forms/C00504530/1212027/', 'offsets_to_operating_expenditures_period': 5235.69, 'means_filed': 'e-file', 'other_fed_operating_expenditures_period': 743288.97, 'total_fed_disbursements_ytd': 3220539.97, 'all_loans_received_ytd': 0.0, 'refunded_political_party_committee_contributions_ytd': 0.0, 'total_individual_contributions_ytd': 9745706.0, 'refunded_other_political_committee_contributions_ytd': 0.0, 'fec_url': 'http://docquery.fec.gov/dcdev/posted/1212027.fec'}, {'shared_fed_activity_nonfed_ytd': 0.0, 'amendment_indicator_full': 'NEW', 'total_fed_receipts_ytd': 26918646.97, 'transfers_to_affilitated_committees_ytd': 0.0, 'individual_itemized_contributions_ytd': 26555254.02, 'total_operating_expenditures_ytd': 4129066.14, 'loans_made_period': 0.0, 'cash_on_hand_close_ytd': 15216977.03, 'independent_expenditures_period': 0.0, 'individual_unitemized_contributions_ytd': 1516.93, 'most_recent_file_number': 1205538.0, 'other_disbursements_ytd': 0.0, 'total_fed_operating_expenditures_period': 2129380.98, 'refunded_individual_contributions_period': 0.0, 'cash_on_hand_beginning_period': 3515801.28, 'other_political_committee_contributions_ytd': 122507.3, 'transfers_from_nonfed_levin_ytd': 0.0, 'net_operating_expenditures_ytd': 3889697.42, 'shared_nonfed_operating_expenditures_ytd': 0.0, 'independent_expenditures_ytd': 9093118.8, 'coverage_end_date': '2017-12-31T00:00:00+00:00', 'total_individual_contributions_period': 13706597.0, 'other_disbursements_period': 0.0, 'other_political_committee_contributions_period': 100000.0, 'fed_candidate_committee_contribution_refunds_ytd': 0.0, 'total_fed_disbursements_period': 2129380.98, 'other_fed_receipts_ytd': 0.0, 'total_operating_expenditures_period': 2129380.98, 'coverage_start_date': '2017-07-11T00:00:00+00:00', 'political_party_committee_contributions_ytd': 0.0, 'committee_name': 'CONGRESSIONAL LEADERSHIP FUND', 'amendment_indicator': 'N', 'committee_id': 'C00504530', 'previous_file_number': 1205538.0, 'transfers_from_nonfed_account_ytd': 0.0, 'fed_candidate_contribution_refunds_period': 0.0, 'total_receipts_ytd': 26918646.97, 'loans_made_ytd': 0.0, 'is_amended': False, 'shared_fed_operating_expenditures_period': 0.0, 'all_loans_received_period': 0.0, 'coordinated_expenditures_by_party_committee_period': 0.0, 'net_contributions_period': 13806597.0, 'total_contribution_refunds_ytd': 0.0, 'non_allocated_fed_election_activity_period': 0.0, 'other_fed_receipts_period': 0.0, 'total_disbursements_ytd': 13222184.94, 'shared_fed_activity_ytd': 0.0, 'refunded_political_party_committee_contributions_period': 0.0, 'report_form': 'Form 3X', 'cash_on_hand_end_period': 15216977.03, 'cash_on_hand_beginning_calendar_ytd': 1520515.0, 'fed_candidate_committee_contributions_ytd': 0.0, 'non_allocated_fed_election_activity_ytd': 0.0, 'refunded_other_political_committee_contributions_period': 0.0, 'transfers_to_affiliated_committee_period': 0.0, 'loan_repayments_made_ytd': 0.0, 'report_type_full': 'YEAR-END', 'transfers_from_affiliated_party_period': 0.0, 'total_fed_election_activity_period': 0.0, 'calendar_ytd': 2017, 'cycle': 2018, 'refunded_individual_contributions_ytd': 0.0, 'offsets_to_operating_expenditures_ytd': 239368.72, 'loan_repayments_made_period': 0.0, 'csv_url': 'http://docquery.fec.gov/csv/538/1205538.csv', 'fec_file_id': 'FEC-1205538', 'committee_type': 'O', 'shared_nonfed_operating_expenditures_period': 0.0, 'total_contribution_refunds_period': 0.0, 'net_contributions_ytd': 26679278.25, 'nonfed_share_allocated_disbursements_period': 0.0, 'loan_repayments_received_ytd': 0.0, 'shared_fed_operating_expenditures_ytd': 0.0, 'beginning_image_number': '201801319091299020', 'end_image_number': '201801319091299441', 'subtotal_summary_page_period': 17346358.01, 'total_fed_operating_expenditures_ytd': 4129066.14, 'political_party_committee_contributions_period': 0.0, 'net_operating_expenditures_period': 2105421.25, 'fed_candidate_committee_contributions_period': 0.0, 'allocated_federal_election_levin_share_period': 0.0, 'report_type': 'YE', 'document_description': 'YEAR-END 2017', 'total_fed_election_activity_ytd': 0.0, 'amendment_chain': [1205538.0], 'receipt_date': '2018-01-31T00:00:00', 'most_recent': True, 'coordinated_expenditures_by_party_committee_ytd': 0.0, 'transfers_from_nonfed_levin_period': 0.0, 'debts_owed_to_committee': 0.0, 'file_number': 1205538, 'total_nonfed_transfers_period': 0.0, 'total_disbursements_period': 2129380.98, 'pdf_url': 'http://docquery.fec.gov/pdf/020/201801319091299020/201801319091299020.pdf', 'loan_repayments_received_period': 0.0, 'individual_itemized_contributions_period': 13706370.0, 'other_fed_operating_expenditures_ytd': 4129066.14, 'shared_fed_activity_period': 0.0, 'total_nonfed_transfers_ytd': 0.0, 'total_contributions_ytd': 26679278.25, 'individual_unitemized_contributions_period': 227.0, 'subtotal_summary_ytd': 28439161.97, 'total_fed_receipts_period': 13830556.73, 'transfers_from_nonfed_account_period': 0.0, 'total_receipts_period': 13830556.73, 'transfers_from_affiliated_party_ytd': 0.0, 'debts_owed_by_committee': 0.0, 'total_contributions_period': 13806597.0, 'report_year': 2017, 'html_url': 'http://docquery.fec.gov/cgi-bin/forms/C00504530/1205538/', 'offsets_to_operating_expenditures_period': 23959.73, 'means_filed': 'e-file', 'other_fed_operating_expenditures_period': 2129380.98, 'total_fed_disbursements_ytd': 13222184.94, 'all_loans_received_ytd': 0.0, 'refunded_political_party_committee_contributions_ytd': 0.0, 'total_individual_contributions_ytd': 26556770.95, 'refunded_other_political_committee_contributions_ytd': 0.0, 'fec_url': 'http://docquery.fec.gov/dcdev/posted/1205538.fec'}, {'shared_fed_activity_nonfed_ytd': 0.0, 'amendment_indicator_full': 'NEW', 'total_fed_receipts_ytd': 13088090.24, 'transfers_to_affilitated_committees_ytd': 0.0, 'individual_itemized_contributions_ytd': 12848884.02, 'total_operating_expenditures_ytd': 1999685.16, 'loans_made_period': 0.0, 'cash_on_hand_close_ytd': 3515801.28, 'independent_expenditures_period': 129508.19, 'individual_unitemized_contributions_ytd': 1289.93, 'most_recent_file_number': 1174444.0, 'other_disbursements_ytd': 0.0, 'total_fed_operating_expenditures_period': 336815.13, 'refunded_individual_contributions_period': 0.0, 'cash_on_hand_beginning_period': 2847548.6, 'other_political_committee_contributions_ytd': 22507.3, 'transfers_from_nonfed_levin_ytd': 0.0, 'net_operating_expenditures_ytd': 1784276.17, 'shared_nonfed_operating_expenditures_ytd': 0.0, 'independent_expenditures_ytd': 9093118.8, 'coverage_end_date': '2017-07-10T00:00:00+00:00', 'total_individual_contributions_period': 1134576.0, 'other_disbursements_period': 0.0, 'other_political_committee_contributions_period': 0.0, 'fed_candidate_committee_contribution_refunds_ytd': 0.0, 'total_fed_disbursements_period': 466323.32, 'other_fed_receipts_ytd': 0.0, 'total_operating_expenditures_period': 336815.13, 'coverage_start_date': '2017-06-15T00:00:00+00:00', 'political_party_committee_contributions_ytd': 0.0, 'committee_name': 'CONGRESSIONAL LEADERSHIP FUND', 'amendment_indicator': 'N', 'committee_id': 'C00504530', 'previous_file_number': 1174444.0, 'transfers_from_nonfed_account_ytd': 0.0, 'fed_candidate_contribution_refunds_period': 0.0, 'total_receipts_ytd': 13088090.24, 'loans_made_ytd': 0.0, 'is_amended': False, 'shared_fed_operating_expenditures_period': 0.0, 'all_loans_received_period': 0.0, 'coordinated_expenditures_by_party_committee_period': 0.0, 'net_contributions_period': 1134576.0, 'total_contribution_refunds_ytd': 0.0, 'non_allocated_fed_election_activity_period': 0.0, 'other_fed_receipts_period': 0.0, 'total_disbursements_ytd': 11092803.96, 'shared_fed_activity_ytd': 0.0, 'refunded_political_party_committee_contributions_period': 0.0, 'report_form': 'Form 3X', 'cash_on_hand_end_period': 3515801.28, 'cash_on_hand_beginning_calendar_ytd': 1520515.0, 'fed_candidate_committee_contributions_ytd': 0.0, 'non_allocated_fed_election_activity_ytd': 0.0, 'refunded_other_political_committee_contributions_period': 0.0, 'transfers_to_affiliated_committee_period': 0.0, 'loan_repayments_made_ytd': 0.0, 'report_type_full': 'POST-RUN-OFF', 'transfers_from_affiliated_party_period': 0.0, 'total_fed_election_activity_period': 0.0, 'calendar_ytd': 2017, 'cycle': 2018, 'refunded_individual_contributions_ytd': 0.0, 'offsets_to_operating_expenditures_ytd': 215408.99, 'loan_repayments_made_period': 0.0, 'csv_url': 'http://docquery.fec.gov/csv/444/1174444.csv', 'fec_file_id': 'FEC-1174444', 'committee_type': 'O', 'shared_nonfed_operating_expenditures_period': 0.0, 'total_contribution_refunds_period': 0.0, 'net_contributions_ytd': 12872681.25, 'nonfed_share_allocated_disbursements_period': 0.0, 'loan_repayments_received_ytd': 0.0, 'shared_fed_operating_expenditures_ytd': 0.0, 'beginning_image_number': '201707229068754401', 'end_image_number': '201707229068754453', 'subtotal_summary_page_period': 3982124.6, 'total_fed_operating_expenditures_ytd': 1999685.16, 'political_party_committee_contributions_period': 0.0, 'net_operating_expenditures_period': 336815.13, 'fed_candidate_committee_contributions_period': 0.0, 'allocated_federal_election_levin_share_period': 0.0, 'report_type': '30R', 'document_description': 'POST-RUN-OFF 2017', 'total_fed_election_activity_ytd': 0.0, 'amendment_chain': [1174444.0], 'receipt_date': '2017-07-22T00:00:00', 'most_recent': True, 'coordinated_expenditures_by_party_committee_ytd': 0.0, 'transfers_from_nonfed_levin_period': 0.0, 'debts_owed_to_committee': 0.0, 'file_number': 1174444, 'total_nonfed_transfers_period': 0.0, 'total_disbursements_period': 466323.32, 'pdf_url': 'http://docquery.fec.gov/pdf/401/201707229068754401/201707229068754401.pdf', 'loan_repayments_received_period': 0.0, 'individual_itemized_contributions_period': 1134476.0, 'other_fed_operating_expenditures_ytd': 1999685.16, 'shared_fed_activity_period': 0.0, 'total_nonfed_transfers_ytd': 0.0, 'total_contributions_ytd': 12872681.25, 'individual_unitemized_contributions_period': 100.0, 'subtotal_summary_ytd': 14608605.24, 'total_fed_receipts_period': 1134576.0, 'transfers_from_nonfed_account_period': 0.0, 'total_receipts_period': 1134576.0, 'transfers_from_affiliated_party_ytd': 0.0, 'debts_owed_by_committee': 0.0, 'total_contributions_period': 1134576.0, 'report_year': 2017, 'html_url': 'http://docquery.fec.gov/cgi-bin/forms/C00504530/1174444/', 'offsets_to_operating_expenditures_period': 0.0, 'means_filed': 'e-file', 'other_fed_operating_expenditures_period': 336815.13, 'total_fed_disbursements_ytd': 11092803.96, 'all_loans_received_ytd': 0.0, 'refunded_political_party_committee_contributions_ytd': 0.0, 'total_individual_contributions_ytd': 12850173.95, 'refunded_other_political_committee_contributions_ytd': 0.0, 'fec_url': 'http://docquery.fec.gov/dcdev/posted/1174444.fec'}, {'shared_fed_activity_nonfed_ytd': 0.0, 'amendment_indicator_full': 'NEW', 'total_fed_receipts_ytd': 11953514.24, 'transfers_to_affilitated_committees_ytd': 0.0, 'individual_itemized_contributions_ytd': 11714408.02, 'total_operating_expenditures_ytd': 1662870.03, 'loans_made_period': 0.0, 'cash_on_hand_close_ytd': 2847548.6, 'independent_expenditures_period': 369579.1, 'individual_unitemized_contributions_ytd': 1189.93, 'most_recent_file_number': 1167431.0, 'other_disbursements_ytd': 0.0, 'total_fed_operating_expenditures_period': 427802.83, 'refunded_individual_contributions_period': 0.0, 'cash_on_hand_beginning_period': 2132228.3, 'other_political_committee_contributions_ytd': 22507.3, 'transfers_from_nonfed_levin_ytd': 0.0, 'net_operating_expenditures_ytd': 1447461.04, 'shared_nonfed_operating_expenditures_ytd': 0.0, 'independent_expenditures_ytd': 8963610.61, 'coverage_end_date': '2017-06-14T00:00:00+00:00', 'total_individual_contributions_period': 1495194.93, 'other_disbursements_period': 0.0, 'other_political_committee_contributions_period': 17507.3, 'fed_candidate_committee_contribution_refunds_ytd': 0.0, 'total_fed_disbursements_period': 797381.93, 'other_fed_receipts_ytd': 0.0, 'total_operating_expenditures_period': 427802.83, 'coverage_start_date': '2017-06-01T00:00:00+00:00', 'political_party_committee_contributions_ytd': 0.0, 'committee_name': 'CONGRESSIONAL LEADERSHIP FUND', 'amendment_indicator': 'N', 'committee_id': 'C00504530', 'previous_file_number': 1167431.0, 'transfers_from_nonfed_account_ytd': 0.0, 'fed_candidate_contribution_refunds_period': 0.0, 'total_receipts_ytd': 11953514.24, 'loans_made_ytd': 0.0, 'is_amended': False, 'shared_fed_operating_expenditures_period': 0.0, 'all_loans_received_period': 0.0, 'coordinated_expenditures_by_party_committee_period': 0.0, 'net_contributions_period': 1512702.23, 'total_contribution_refunds_ytd': 0.0, 'non_allocated_fed_election_activity_period': 0.0, 'other_fed_receipts_period': 0.0, 'total_disbursements_ytd': 10626480.64, 'shared_fed_activity_ytd': 0.0, 'refunded_political_party_committee_contributions_period': 0.0, 'report_form': 'Form 3X', 'cash_on_hand_end_period': 2847548.6, 'cash_on_hand_beginning_calendar_ytd': 1520515.0, 'fed_candidate_committee_contributions_ytd': 0.0, 'non_allocated_fed_election_activity_ytd': 0.0, 'refunded_other_political_committee_contributions_period': 0.0, 'transfers_to_affiliated_committee_period': 0.0, 'loan_repayments_made_ytd': 0.0, 'report_type_full': 'POST-SPECIAL', 'transfers_from_affiliated_party_period': 0.0, 'total_fed_election_activity_period': 0.0, 'calendar_ytd': 2017, 'cycle': 2018, 'refunded_individual_contributions_ytd': 0.0, 'offsets_to_operating_expenditures_ytd': 215408.99, 'loan_repayments_made_period': 0.0, 'csv_url': 'http://docquery.fec.gov/csv/431/1167431.csv', 'fec_file_id': 'FEC-1167431', 'committee_type': 'O', 'shared_nonfed_operating_expenditures_period': 0.0, 'total_contribution_refunds_period': 0.0, 'net_contributions_ytd': 11738105.25, 'nonfed_share_allocated_disbursements_period': 0.0, 'loan_repayments_received_ytd': 0.0, 'shared_fed_operating_expenditures_ytd': 0.0, 'beginning_image_number': '201706249065372584', 'end_image_number': '201706249065372630', 'subtotal_summary_page_period': 3644930.53, 'total_fed_operating_expenditures_ytd': 1662870.03, 'political_party_committee_contributions_period': 0.0, 'net_operating_expenditures_period': 427802.83, 'fed_candidate_committee_contributions_period': 0.0, 'allocated_federal_election_levin_share_period': 0.0, 'report_type': '30S', 'document_description': 'POST-SPECIAL 2017', 'total_fed_election_activity_ytd': 0.0, 'amendment_chain': [1167431.0], 'receipt_date': '2017-06-24T00:00:00', 'most_recent': True, 'coordinated_expenditures_by_party_committee_ytd': 0.0, 'transfers_from_nonfed_levin_period': 0.0, 'debts_owed_to_committee': 0.0, 'file_number': 1167431, 'total_nonfed_transfers_period': 0.0, 'total_disbursements_period': 797381.93, 'pdf_url': 'http://docquery.fec.gov/pdf/584/201706249065372584/201706249065372584.pdf', 'loan_repayments_received_period': 0.0, 'individual_itemized_contributions_period': 1494784.0, 'other_fed_operating_expenditures_ytd': 1662870.03, 'shared_fed_activity_period': 0.0, 'total_nonfed_transfers_ytd': 0.0, 'total_contributions_ytd': 11738105.25, 'individual_unitemized_contributions_period': 410.93, 'subtotal_summary_ytd': 13474029.24, 'total_fed_receipts_period': 1512702.23, 'transfers_from_nonfed_account_period': 0.0, 'total_receipts_period': 1512702.23, 'transfers_from_affiliated_party_ytd': 0.0, 'debts_owed_by_committee': 1126.5, 'total_contributions_period': 1512702.23, 'report_year': 2017, 'html_url': 'http://docquery.fec.gov/cgi-bin/forms/C00504530/1167431/', 'offsets_to_operating_expenditures_period': 0.0, 'means_filed': 'e-file', 'other_fed_operating_expenditures_period': 427802.83, 'total_fed_disbursements_ytd': 10626480.64, 'all_loans_received_ytd': 0.0, 'refunded_political_party_committee_contributions_ytd': 0.0, 'total_individual_contributions_ytd': 11715597.95, 'refunded_other_political_committee_contributions_ytd': 0.0, 'fec_url': 'http://docquery.fec.gov/dcdev/posted/1167431.fec'}, {'shared_fed_activity_nonfed_ytd': 0.0, 'amendment_indicator_full': 'NEW', 'total_fed_receipts_ytd': 10440812.01, 'transfers_to_affilitated_committees_ytd': 0.0, 'individual_itemized_contributions_ytd': 10219624.02, 'total_operating_expenditures_ytd': 1235067.2, 'loans_made_period': 0.0, 'cash_on_hand_close_ytd': 2132228.3, 'independent_expenditures_period': 3505441.15, 'individual_unitemized_contributions_ytd': 779.0, 'most_recent_file_number': 1165227.0, 'other_disbursements_ytd': 0.0, 'total_fed_operating_expenditures_period': 352163.36, 'refunded_individual_contributions_period': 0.0, 'cash_on_hand_beginning_period': 3042800.52, 'other_political_committee_contributions_ytd': 5000.0, 'transfers_from_nonfed_levin_ytd': 0.0, 'net_operating_expenditures_ytd': 1019658.21, 'shared_nonfed_operating_expenditures_ytd': 0.0, 'independent_expenditures_ytd': 8594031.51, 'coverage_end_date': '2017-05-31T00:00:00+00:00', 'total_individual_contributions_period': 2736512.0, 'other_disbursements_period': 0.0, 'other_political_committee_contributions_period': 0.0, 'fed_candidate_committee_contribution_refunds_ytd': 0.0, 'total_fed_disbursements_period': 3857604.51, 'other_fed_receipts_ytd': 0.0, 'total_operating_expenditures_period': 352163.36, 'coverage_start_date': '2017-05-06T00:00:00+00:00', 'political_party_committee_contributions_ytd': 0.0, 'committee_name': 'CONGRESSIONAL LEADERSHIP FUND', 'amendment_indicator': 'N', 'committee_id': 'C00504530', 'previous_file_number': 1165227.0, 'transfers_from_nonfed_account_ytd': 0.0, 'fed_candidate_contribution_refunds_period': 0.0, 'total_receipts_ytd': 10440812.01, 'loans_made_ytd': 0.0, 'is_amended': False, 'shared_fed_operating_expenditures_period': 0.0, 'all_loans_received_period': 0.0, 'coordinated_expenditures_by_party_committee_period': 0.0, 'net_contributions_period': 2736512.0, 'total_contribution_refunds_ytd': 0.0, 'non_allocated_fed_election_activity_period': 0.0, 'other_fed_receipts_period': 0.0, 'total_disbursements_ytd': 9829098.71, 'shared_fed_activity_ytd': 0.0, 'refunded_political_party_committee_contributions_period': 0.0, 'report_form': 'Form 3X', 'cash_on_hand_end_period': 2132228.3, 'cash_on_hand_beginning_calendar_ytd': 1520515.0, 'fed_candidate_committee_contributions_ytd': 0.0, 'non_allocated_fed_election_activity_ytd': 0.0, 'refunded_other_political_committee_contributions_period': 0.0, 'transfers_to_affiliated_committee_period': 0.0, 'loan_repayments_made_ytd': 0.0, 'report_type_full': 'PRE-RUN-OFF', 'transfers_from_affiliated_party_period': 0.0, 'total_fed_election_activity_period': 0.0, 'calendar_ytd': 2017, 'cycle': 2018, 'refunded_individual_contributions_ytd': 0.0, 'offsets_to_operating_expenditures_ytd': 215408.99, 'loan_repayments_made_period': 0.0, 'csv_url': 'http://docquery.fec.gov/csv/227/1165227.csv', 'fec_file_id': 'FEC-1165227', 'committee_type': 'O', 'shared_nonfed_operating_expenditures_period': 0.0, 'total_contribution_refunds_period': 0.0, 'net_contributions_ytd': 10225403.02, 'nonfed_share_allocated_disbursements_period': 0.0, 'loan_repayments_received_ytd': 0.0, 'shared_fed_operating_expenditures_ytd': 0.0, 'beginning_image_number': '201706089056421420', 'end_image_number': '201706089056421467', 'subtotal_summary_page_period': 5989832.81, 'total_fed_operating_expenditures_ytd': 1235067.2, 'political_party_committee_contributions_period': 0.0, 'net_operating_expenditures_period': 141643.07, 'fed_candidate_committee_contributions_period': 0.0, 'allocated_federal_election_levin_share_period': 0.0, 'report_type': '12R', 'document_description': 'PRE-RUN-OFF 2017', 'total_fed_election_activity_ytd': 0.0, 'amendment_chain': [1165227.0], 'receipt_date': '2017-06-08T00:00:00', 'most_recent': True, 'coordinated_expenditures_by_party_committee_ytd': 0.0, 'transfers_from_nonfed_levin_period': 0.0, 'debts_owed_to_committee': 0.0, 'file_number': 1165227, 'total_nonfed_transfers_period': 0.0, 'total_disbursements_period': 3857604.51, 'pdf_url': 'http://docquery.fec.gov/pdf/420/201706089056421420/201706089056421420.pdf', 'loan_repayments_received_period': 0.0, 'individual_itemized_contributions_period': 2736387.0, 'other_fed_operating_expenditures_ytd': 1235067.2, 'shared_fed_activity_period': 0.0, 'total_nonfed_transfers_ytd': 0.0, 'total_contributions_ytd': 10225403.02, 'individual_unitemized_contributions_period': 125.0, 'subtotal_summary_ytd': 11961327.01, 'total_fed_receipts_period': 2947032.29, 'transfers_from_nonfed_account_period': 0.0, 'total_receipts_period': 2947032.29, 'transfers_from_affiliated_party_ytd': 0.0, 'debts_owed_by_committee': 0.0, 'total_contributions_period': 2736512.0, 'report_year': 2017, 'html_url': 'http://docquery.fec.gov/cgi-bin/forms/C00504530/1165227/', 'offsets_to_operating_expenditures_period': 210520.29, 'means_filed': 'e-file', 'other_fed_operating_expenditures_period': 352163.36, 'total_fed_disbursements_ytd': 9829098.71, 'all_loans_received_ytd': 0.0, 'refunded_political_party_committee_contributions_ytd': 0.0, 'total_individual_contributions_ytd': 10220403.02, 'refunded_other_political_committee_contributions_ytd': 0.0, 'fec_url': 'http://docquery.fec.gov/dcdev/posted/1165227.fec'}, {'shared_fed_activity_nonfed_ytd': 0.0, 'amendment_indicator_full': 'NEW', 'total_fed_receipts_ytd': 7493779.72, 'transfers_to_affilitated_committees_ytd': 0.0, 'individual_itemized_contributions_ytd': 7483237.02, 'total_operating_expenditures_ytd': 882903.84, 'loans_made_period': 0.0, 'cash_on_hand_close_ytd': 3042800.52, 'independent_expenditures_period': 52526.62, 'individual_unitemized_contributions_ytd': 654.0, 'most_recent_file_number': 1162202.0, 'other_disbursements_ytd': 0.0, 'total_fed_operating_expenditures_period': 51294.13, 'refunded_individual_contributions_period': 0.0, 'cash_on_hand_beginning_period': 3137375.27, 'other_political_committee_contributions_ytd': 5000.0, 'transfers_from_nonfed_levin_ytd': 0.0, 'net_operating_expenditures_ytd': 878015.14, 'shared_nonfed_operating_expenditures_ytd': 0.0, 'independent_expenditures_ytd': 5088590.36, 'coverage_end_date': '2017-05-05T00:00:00+00:00', 'total_individual_contributions_period': 9246.0, 'other_disbursements_period': 0.0, 'other_political_committee_contributions_period': 0.0, 'fed_candidate_committee_contribution_refunds_ytd': 0.0, 'total_fed_disbursements_period': 103820.75, 'other_fed_receipts_ytd': 0.0, 'total_operating_expenditures_period': 51294.13, 'coverage_start_date': '2017-05-02T00:00:00+00:00', 'political_party_committee_contributions_ytd': 0.0, 'committee_name': 'CONGRESSIONAL LEADERSHIP FUND', 'amendment_indicator': 'N', 'committee_id': 'C00504530', 'previous_file_number': 1162202.0, 'transfers_from_nonfed_account_ytd': 0.0, 'fed_candidate_contribution_refunds_period': 0.0, 'total_receipts_ytd': 7493779.72, 'loans_made_ytd': 0.0, 'is_amended': False, 'shared_fed_operating_expenditures_period': 0.0, 'all_loans_received_period': 0.0, 'coordinated_expenditures_by_party_committee_period': 0.0, 'net_contributions_period': 9246.0, 'total_contribution_refunds_ytd': 0.0, 'non_allocated_fed_election_activity_period': 0.0, 'other_fed_receipts_period': 0.0, 'total_disbursements_ytd': 5971494.2, 'shared_fed_activity_ytd': 0.0, 'refunded_political_party_committee_contributions_period': 0.0, 'report_form': 'Form 3X', 'cash_on_hand_end_period': 3042800.52, 'cash_on_hand_beginning_calendar_ytd': 1520515.0, 'fed_candidate_committee_contributions_ytd': 0.0, 'non_allocated_fed_election_activity_ytd': 0.0, 'refunded_other_political_committee_contributions_period': 0.0, 'transfers_to_affiliated_committee_period': 0.0, 'loan_repayments_made_ytd': 0.0, 'report_type_full': 'PRE-SPECIAL', 'transfers_from_affiliated_party_period': 0.0, 'total_fed_election_activity_period': 0.0, 'calendar_ytd': 2017, 'cycle': 2018, 'refunded_individual_contributions_ytd': 0.0, 'offsets_to_operating_expenditures_ytd': 4888.7, 'loan_repayments_made_period': 0.0, 'csv_url': 'http://docquery.fec.gov/csv/202/1162202.csv', 'fec_file_id': 'FEC-1162202', 'committee_type': 'O', 'shared_nonfed_operating_expenditures_period': 0.0, 'total_contribution_refunds_period': 0.0, 'net_contributions_ytd': 7488891.02, 'nonfed_share_allocated_disbursements_period': 0.0, 'loan_repayments_received_ytd': 0.0, 'shared_fed_operating_expenditures_ytd': 0.0, 'beginning_image_number': '201705139053740445', 'end_image_number': '201705139053740456', 'subtotal_summary_page_period': 3146621.27, 'total_fed_operating_expenditures_ytd': 882903.84, 'political_party_committee_contributions_period': 0.0, 'net_operating_expenditures_period': 51294.13, 'fed_candidate_committee_contributions_period': 0.0, 'allocated_federal_election_levin_share_period': 0.0, 'report_type': '12S', 'document_description': 'PRE-SPECIAL 2017', 'total_fed_election_activity_ytd': 0.0, 'amendment_chain': [1162202.0], 'receipt_date': '2017-05-13T00:00:00', 'most_recent': True, 'coordinated_expenditures_by_party_committee_ytd': 0.0, 'transfers_from_nonfed_levin_period': 0.0, 'debts_owed_to_committee': 0.0, 'file_number': 1162202, 'total_nonfed_transfers_period': 0.0, 'total_disbursements_period': 103820.75, 'pdf_url': 'http://docquery.fec.gov/pdf/445/201705139053740445/201705139053740445.pdf', 'loan_repayments_received_period': 0.0, 'individual_itemized_contributions_period': 9196.0, 'other_fed_operating_expenditures_ytd': 882903.84, 'shared_fed_activity_period': 0.0, 'total_nonfed_transfers_ytd': 0.0, 'total_contributions_ytd': 7488891.02, 'individual_unitemized_contributions_period': 50.0, 'subtotal_summary_ytd': 9014294.72, 'total_fed_receipts_period': 9246.0, 'transfers_from_nonfed_account_period': 0.0, 'total_receipts_period': 9246.0, 'transfers_from_affiliated_party_ytd': 0.0, 'debts_owed_by_committee': 0.0, 'total_contributions_period': 9246.0, 'report_year': 2017, 'html_url': 'http://docquery.fec.gov/cgi-bin/forms/C00504530/1162202/', 'offsets_to_operating_expenditures_period': 0.0, 'means_filed': 'e-file', 'other_fed_operating_expenditures_period': 51294.13, 'total_fed_disbursements_ytd': 5971494.2, 'all_loans_received_ytd': 0.0, 'refunded_political_party_committee_contributions_ytd': 0.0, 'total_individual_contributions_ytd': 7483891.02, 'refunded_other_political_committee_contributions_ytd': 0.0, 'fec_url': 'http://docquery.fec.gov/dcdev/posted/1162202.fec'}, {'shared_fed_activity_nonfed_ytd': 0.0, 'amendment_indicator_full': 'NEW', 'total_fed_receipts_ytd': 7484533.72, 'transfers_to_affilitated_committees_ytd': 0.0, 'individual_itemized_contributions_ytd': 7474041.02, 'total_operating_expenditures_ytd': 831609.71, 'loans_made_period': 0.0, 'cash_on_hand_close_ytd': 3137375.27, 'independent_expenditures_period': 2080608.62, 'individual_unitemized_contributions_ytd': 604.0, 'most_recent_file_number': 1162025.0, 'other_disbursements_ytd': 0.0, 'total_fed_operating_expenditures_period': 325128.51, 'refunded_individual_contributions_period': 0.0, 'cash_on_hand_beginning_period': 2555052.4, 'other_political_committee_contributions_ytd': 5000.0, 'transfers_from_nonfed_levin_ytd': 0.0, 'net_operating_expenditures_ytd': 826721.01, 'shared_nonfed_operating_expenditures_ytd': 0.0, 'independent_expenditures_ytd': 5036063.74, 'coverage_end_date': '2017-05-01T00:00:00+00:00', 'total_individual_contributions_period': 2988060.0, 'other_disbursements_period': 0.0, 'other_political_committee_contributions_period': 0.0, 'fed_candidate_committee_contribution_refunds_ytd': 0.0, 'total_fed_disbursements_period': 2405737.13, 'other_fed_receipts_ytd': 0.0, 'total_operating_expenditures_period': 325128.51, 'coverage_start_date': '2017-03-30T00:00:00+00:00', 'political_party_committee_contributions_ytd': 0.0, 'committee_name': 'CONGRESSIONAL LEADERSHIP FUND', 'amendment_indicator': 'N', 'committee_id': 'C00504530', 'previous_file_number': 1162025.0, 'transfers_from_nonfed_account_ytd': 0.0, 'fed_candidate_contribution_refunds_period': 0.0, 'total_receipts_ytd': 7484533.72, 'loans_made_ytd': 0.0, 'is_amended': False, 'shared_fed_operating_expenditures_period': 0.0, 'all_loans_received_period': 0.0, 'coordinated_expenditures_by_party_committee_period': 0.0, 'net_contributions_period': 2988060.0, 'total_contribution_refunds_ytd': 0.0, 'non_allocated_fed_election_activity_period': 0.0, 'other_fed_receipts_period': 0.0, 'total_disbursements_ytd': 5867673.45, 'shared_fed_activity_ytd': 0.0, 'refunded_political_party_committee_contributions_period': 0.0, 'report_form': 'Form 3X', 'cash_on_hand_end_period': 3137375.27, 'cash_on_hand_beginning_calendar_ytd': 1520515.0, 'fed_candidate_committee_contributions_ytd': 0.0, 'non_allocated_fed_election_activity_ytd': 0.0, 'refunded_other_political_committee_contributions_period': 0.0, 'transfers_to_affiliated_committee_period': 0.0, 'loan_repayments_made_ytd': 0.0, 'report_type_full': 'POST-SPECIAL', 'transfers_from_affiliated_party_period': 0.0, 'total_fed_election_activity_period': 0.0, 'calendar_ytd': 2017, 'cycle': 2018, 'refunded_individual_contributions_ytd': 0.0, 'offsets_to_operating_expenditures_ytd': 4888.7, 'loan_repayments_made_period': 0.0, 'csv_url': 'http://docquery.fec.gov/csv/025/1162025.csv', 'fec_file_id': 'FEC-1162025', 'committee_type': 'O', 'shared_nonfed_operating_expenditures_period': 0.0, 'total_contribution_refunds_period': 0.0, 'net_contributions_ytd': 7479645.02, 'nonfed_share_allocated_disbursements_period': 0.0, 'loan_repayments_received_ytd': 0.0, 'shared_fed_operating_expenditures_ytd': 0.0, 'beginning_image_number': '201705119053522436', 'end_image_number': '201705119053522499', 'subtotal_summary_page_period': 5543112.4, 'total_fed_operating_expenditures_ytd': 831609.71, 'political_party_committee_contributions_period': 0.0, 'net_operating_expenditures_period': 325128.51, 'fed_candidate_committee_contributions_period': 0.0, 'allocated_federal_election_levin_share_period': 0.0, 'report_type': '30S', 'document_description': 'POST-SPECIAL 2017', 'total_fed_election_activity_ytd': 0.0, 'amendment_chain': [1162025.0], 'receipt_date': '2017-05-11T00:00:00', 'most_recent': True, 'coordinated_expenditures_by_party_committee_ytd': 0.0, 'transfers_from_nonfed_levin_period': 0.0, 'debts_owed_to_committee': 0.0, 'file_number': 1162025, 'total_nonfed_transfers_period': 0.0, 'total_disbursements_period': 2405737.13, 'pdf_url': 'http://docquery.fec.gov/pdf/436/201705119053522436/201705119053522436.pdf', 'loan_repayments_received_period': 0.0, 'individual_itemized_contributions_period': 2987688.0, 'other_fed_operating_expenditures_ytd': 831609.71, 'shared_fed_activity_period': 0.0, 'total_nonfed_transfers_ytd': 0.0, 'total_contributions_ytd': 7479645.02, 'individual_unitemized_contributions_period': 372.0, 'subtotal_summary_ytd': 9005048.72, 'total_fed_receipts_period': 2988060.0, 'transfers_from_nonfed_account_period': 0.0, 'total_receipts_period': 2988060.0, 'transfers_from_affiliated_party_ytd': 0.0, 'debts_owed_by_committee': 17000.0, 'total_contributions_period': 2988060.0, 'report_year': 2017, 'html_url': 'http://docquery.fec.gov/cgi-bin/forms/C00504530/1162025/', 'offsets_to_operating_expenditures_period': 0.0, 'means_filed': 'e-file', 'other_fed_operating_expenditures_period': 325128.51, 'total_fed_disbursements_ytd': 5867673.45, 'all_loans_received_ytd': 0.0, 'refunded_political_party_committee_contributions_ytd': 0.0, 'total_individual_contributions_ytd': 7474645.02, 'refunded_other_political_committee_contributions_ytd': 0.0, 'fec_url': 'http://docquery.fec.gov/dcdev/posted/1162025.fec'}, {'shared_fed_activity_nonfed_ytd': 0.0, 'amendment_indicator_full': 'NEW', 'total_fed_receipts_ytd': 4496473.72, 'transfers_to_affilitated_committees_ytd': 0.0, 'individual_itemized_contributions_ytd': 4486353.02, 'total_operating_expenditures_ytd': 506481.2, 'loans_made_period': 0.0, 'cash_on_hand_close_ytd': 2555052.4, 'independent_expenditures_period': 2955455.12, 'individual_unitemized_contributions_ytd': 232.0, 'most_recent_file_number': 1155345.0, 'other_disbursements_ytd': 0.0, 'total_fed_operating_expenditures_period': 506481.2, 'refunded_individual_contributions_period': 0.0, 'cash_on_hand_beginning_period': 1520515.0, 'other_political_committee_contributions_ytd': 5000.0, 'transfers_from_nonfed_levin_ytd': 0.0, 'net_operating_expenditures_ytd': 501592.5, 'shared_nonfed_operating_expenditures_ytd': 0.0, 'independent_expenditures_ytd': 2955455.12, 'coverage_end_date': '2017-03-29T00:00:00+00:00', 'total_individual_contributions_period': 4486585.02, 'other_disbursements_period': 0.0, 'other_political_committee_contributions_period': 5000.0, 'fed_candidate_committee_contribution_refunds_ytd': 0.0, 'total_fed_disbursements_period': 3461936.32, 'other_fed_receipts_ytd': 0.0, 'total_operating_expenditures_period': 506481.2, 'coverage_start_date': '2017-01-01T00:00:00+00:00', 'political_party_committee_contributions_ytd': 0.0, 'committee_name': 'CONGRESSIONAL LEADERSHIP FUND', 'amendment_indicator': 'N', 'committee_id': 'C00504530', 'previous_file_number': 1155345.0, 'transfers_from_nonfed_account_ytd': 0.0, 'fed_candidate_contribution_refunds_period': 0.0, 'total_receipts_ytd': 4496473.72, 'loans_made_ytd': 0.0, 'is_amended': False, 'shared_fed_operating_expenditures_period': 0.0, 'all_loans_received_period': 0.0, 'coordinated_expenditures_by_party_committee_period': 0.0, 'net_contributions_period': 4491585.02, 'total_contribution_refunds_ytd': 0.0, 'non_allocated_fed_election_activity_period': 0.0, 'other_fed_receipts_period': 0.0, 'total_disbursements_ytd': 3461936.32, 'shared_fed_activity_ytd': 0.0, 'refunded_political_party_committee_contributions_period': 0.0, 'report_form': 'Form 3X', 'cash_on_hand_end_period': 2555052.4, 'cash_on_hand_beginning_calendar_ytd': 1520515.0, 'fed_candidate_committee_contributions_ytd': 0.0, 'non_allocated_fed_election_activity_ytd': 0.0, 'refunded_other_political_committee_contributions_period': 0.0, 'transfers_to_affiliated_committee_period': 0.0, 'loan_repayments_made_ytd': 0.0, 'report_type_full': 'PRE-SPECIAL', 'transfers_from_affiliated_party_period': 0.0, 'total_fed_election_activity_period': 0.0, 'calendar_ytd': 2017, 'cycle': 2018, 'refunded_individual_contributions_ytd': 0.0, 'offsets_to_operating_expenditures_ytd': 4888.7, 'loan_repayments_made_period': 0.0, 'csv_url': 'http://docquery.fec.gov/csv/345/1155345.csv', 'fec_file_id': 'FEC-1155345', 'committee_type': 'O', 'shared_nonfed_operating_expenditures_period': 0.0, 'total_contribution_refunds_period': 0.0, 'net_contributions_ytd': 4491585.02, 'nonfed_share_allocated_disbursements_period': 0.0, 'loan_repayments_received_ytd': 0.0, 'shared_fed_operating_expenditures_ytd': 0.0, 'beginning_image_number': '201704069052044456', 'end_image_number': '201704069052044507', 'subtotal_summary_page_period': 6016988.72, 'total_fed_operating_expenditures_ytd': 506481.2, 'political_party_committee_contributions_period': 0.0, 'net_operating_expenditures_period': 501592.5, 'fed_candidate_committee_contributions_period': 0.0, 'allocated_federal_election_levin_share_period': 0.0, 'report_type': '12S', 'document_description': 'PRE-SPECIAL 2017', 'total_fed_election_activity_ytd': 0.0, 'amendment_chain': [1155345.0], 'receipt_date': '2017-04-06T00:00:00', 'most_recent': True, 'coordinated_expenditures_by_party_committee_ytd': 0.0, 'transfers_from_nonfed_levin_period': 0.0, 'debts_owed_to_committee': 0.0, 'file_number': 1155345, 'total_nonfed_transfers_period': 0.0, 'total_disbursements_period': 3461936.32, 'pdf_url': 'http://docquery.fec.gov/pdf/456/201704069052044456/201704069052044456.pdf', 'loan_repayments_received_period': 0.0, 'individual_itemized_contributions_period': 4486353.02, 'other_fed_operating_expenditures_ytd': 506481.2, 'shared_fed_activity_period': 0.0, 'total_nonfed_transfers_ytd': 0.0, 'total_contributions_ytd': 4491585.02, 'individual_unitemized_contributions_period': 232.0, 'subtotal_summary_ytd': 6016988.72, 'total_fed_receipts_period': 4496473.72, 'transfers_from_nonfed_account_period': 0.0, 'total_receipts_period': 4496473.72, 'transfers_from_affiliated_party_ytd': 0.0, 'debts_owed_by_committee': 0.0, 'total_contributions_period': 4491585.02, 'report_year': 2017, 'html_url': 'http://docquery.fec.gov/cgi-bin/forms/C00504530/1155345/', 'offsets_to_operating_expenditures_period': 4888.7, 'means_filed': 'e-file', 'other_fed_operating_expenditures_period': 506481.2, 'total_fed_disbursements_ytd': 3461936.32, 'all_loans_received_ytd': 0.0, 'refunded_political_party_committee_contributions_ytd': 0.0, 'total_individual_contributions_ytd': 4486585.02, 'refunded_other_political_committee_contributions_ytd': 0.0, 'fec_url': 'http://docquery.fec.gov/dcdev/posted/1155345.fec'}]}\n"
          ],
          "name": "stdout"
        }
      ]
    },
    {
      "cell_type": "code",
      "metadata": {
        "id": "oXEKJHEH-GcD",
        "colab_type": "code",
        "outputId": "6e0dc14e-4ddd-4d93-e12d-15f56b88cf2b",
        "colab": {
          "base_uri": "https://localhost:8080/",
          "height": 54
        }
      },
      "source": [
        "# https://stackoverflow.com/questions/6386308/http-requests-and-json-parsing-in-python/6386366\n",
        "\n",
        "# Gather data from PACs and Super PACs\n",
        "# committees\n",
        "\n",
        "# /committees/\n",
        "\n",
        "# financial\n",
        "# /committee/{committee_id}/reports/\n",
        "# https://api.open.fec.gov/developers/#/financial/get_committee__committee_id__totals_\n",
        "# curl -X GET \"https://api.open.fec.gov/v1/committee/C00504530/reports/?page=1&sort=-coverage_end_date&sort_nulls_last=false&per_page=20&type=&sort_null_only=false&sort_hide_null=false&api_key=DEMO_KEY&cycle=2018\" -H \"accept: application/json\"\n",
        "# https://api.open.fec.gov/v1/committee/C00504530/reports/?page=1&sort=-coverage_end_date&sort_nulls_last=false&per_page=20&type=&sort_null_only=false&sort_hide_null=false&api_key=DEMO_KEY&cycle=2018\n",
        "\n",
        "\n",
        "\n",
        "import requests\n",
        "\n",
        "url = \"https://api.open.fec.gov/v1/committee/C00401224/reports/\"\n",
        "\n",
        "params = {\n",
        "    #\"page\": 1,\n",
        "    #'sort': '',\n",
        "    #'sort_nulls_last': '',\n",
        "    #'per_page': 1,\n",
        "    #'type': '',\n",
        "    #'sort_null_only': '',\n",
        "    #'sort_hide_null': '',\n",
        "    'api_key': api_key,\n",
        "    'cycle': '2018'\n",
        "}\n",
        "\n",
        "resp = requests.get(url=url, params=params)\n",
        "data = resp.json() # Check the JSON Response Content documentation below\n",
        "\n",
        "print(data)\n",
        "\n",
        "\n",
        "#for cand in candidate_ids:\n",
        "#    cand_id = cand[\"candidate_id\"]\n",
        "#    filings_url = \"https://api.open.fec.gov/v1/candidate/\" + cand_id + \"/totals/\""
      ],
      "execution_count": 0,
      "outputs": [
        {
          "output_type": "stream",
          "text": [
            "{'api_version': '1.0', 'results': [{'nonfed_share_allocated_disbursements_period': 0.0, 'cash_on_hand_end_period': 34365223.53, 'refunded_individual_contributions_period': 1499939.03, 'offsets_to_operating_expenditures_ytd': 2067257.85, 'subtotal_summary_ytd': 896936263.74, 'coverage_end_date': '2018-12-31T00:00:00+00:00', 'net_contributions_period': 18809338.22, 'committee_type': 'W', 'total_disbursements_ytd': 862571040.21, 'is_amended': False, 'total_operating_expenditures_ytd': 11169991.96, 'transfers_to_affilitated_committees_ytd': 0.0, 'total_receipts_period': 21409671.42, 'cash_on_hand_close_ytd': 34365223.53, 'fed_candidate_committee_contributions_period': 19245999.5, 'all_loans_received_period': 0.0, 'report_type': 'YE', 'fec_url': 'http://docquery.fec.gov/dcdev/posted/1312107.fec', 'most_recent': True, 'total_fed_election_activity_period': 0.0, 'fed_candidate_committee_contribution_refunds_ytd': 12147641.93, 'loan_repayments_made_period': 0.0, 'refunded_political_party_committee_contributions_ytd': 0.0, 'total_fed_operating_expenditures_ytd': 11169991.96, 'shared_fed_operating_expenditures_ytd': 0.0, 'total_receipts_ytd': 866728090.39, 'document_description': 'YEAR-END 2018', 'transfers_from_affiliated_party_ytd': 0.0, 'total_individual_contributions_ytd': 852422624.73, 'csv_url': 'http://docquery.fec.gov/csv/107/1312107.csv', 'cash_on_hand_beginning_calendar_ytd': 30208173.35, 'fed_candidate_contribution_refunds_period': 921422.19, 'total_fed_disbursements_period': 23288066.29, 'transfers_to_affiliated_committee_period': 0.0, 'coordinated_expenditures_by_party_committee_ytd': 0.0, 'refunded_political_party_committee_contributions_period': 0.0, 'file_number': 1312107, 'total_contributions_period': 20309277.25, 'transfers_from_affiliated_party_period': 0.0, 'loans_made_period': 0.0, 'total_fed_receipts_period': 21409671.42, 'end_image_number': '201901319145232322', 'shared_fed_activity_nonfed_ytd': 0.0, 'total_fed_election_activity_ytd': 0.0, 'other_disbursements_period': 67500.0, 'previous_file_number': 1312107.0, 'other_disbursements_ytd': 973828.0, 'refunded_individual_contributions_ytd': 24997251.65, 'total_nonfed_transfers_period': 0.0, 'pdf_url': 'http://docquery.fec.gov/pdf/536/201901319144482536/201901319144482536.pdf', 'loan_repayments_received_ytd': 0.0, 'cycle': 2018, 'report_type_full': 'YEAR-END', 'transfers_from_nonfed_levin_period': 0.0, 'total_disbursements_period': 23288066.29, 'total_fed_receipts_ytd': 866728090.39, 'coverage_start_date': '2018-11-27T00:00:00+00:00', 'debts_owed_by_committee': 0.0, 'other_political_committee_contributions_ytd': 0.0, 'receipt_date': '2019-01-31T00:00:00', 'total_contribution_refunds_period': 1499939.03, 'net_operating_expenditures_period': 2303586.43, 'shared_nonfed_operating_expenditures_ytd': 0.0, 'transfers_from_nonfed_account_ytd': 0.0, 'amendment_indicator_full': 'NEW', 'fed_candidate_committee_contributions_ytd': 825429968.6, 'report_year': 2018, 'committee_id': 'C00401224', 'individual_itemized_contributions_ytd': 852422624.73, 'other_fed_operating_expenditures_period': 2474627.76, 'all_loans_received_ytd': 0.0, 'refunded_other_political_committee_contributions_period': 0.0, 'html_url': 'http://docquery.fec.gov/cgi-bin/forms/C00401224/1312107/', 'net_contributions_ytd': 827425373.08, 'means_filed': 'e-file', 'refunded_other_political_committee_contributions_ytd': 0.0, 'shared_nonfed_operating_expenditures_period': 0.0, 'political_party_committee_contributions_ytd': 0.0, 'cash_on_hand_beginning_period': 36243618.4, 'individual_unitemized_contributions_ytd': 0.0, 'shared_fed_activity_ytd': 0.0, 'other_fed_receipts_period': 7930.65, 'total_fed_disbursements_ytd': 862571040.21, 'individual_unitemized_contributions_period': 0.0, 'shared_fed_activity_period': 0.0, 'political_party_committee_contributions_period': 0.0, 'most_recent_file_number': 1312107.0, 'total_individual_contributions_period': 20309277.25, 'committee_name': 'ACTBLUE', 'independent_expenditures_period': 0.0, 'total_contributions_ytd': 852422624.73, 'independent_expenditures_ytd': 0.0, 'other_fed_operating_expenditures_ytd': 11169991.96, 'net_operating_expenditures_ytd': 9102734.11, 'fec_file_id': 'FEC-1312107', 'total_contribution_refunds_ytd': 24997251.65, 'other_political_committee_contributions_period': 0.0, 'offsets_to_operating_expenditures_period': 171041.33, 'amendment_indicator': 'N', 'other_fed_receipts_ytd': 90565.88, 'total_operating_expenditures_period': 2474627.76, 'non_allocated_fed_election_activity_period': 0.0, 'total_fed_operating_expenditures_period': 2474627.76, 'subtotal_summary_page_period': 57653289.82, 'beginning_image_number': '201901319144482536', 'debts_owed_to_committee': 0.0, 'transfers_from_nonfed_levin_ytd': 0.0, 'coordinated_expenditures_by_party_committee_period': 0.0, 'individual_itemized_contributions_period': 20309277.25, 'shared_fed_operating_expenditures_period': 0.0, 'report_form': 'Form 3X', 'calendar_ytd': 2018, 'loan_repayments_received_period': 0.0, 'allocated_federal_election_levin_share_period': 0.0, 'amendment_chain': [1312107.0], 'total_nonfed_transfers_ytd': 0.0, 'loans_made_ytd': 0.0, 'loan_repayments_made_ytd': 0.0, 'non_allocated_fed_election_activity_ytd': 0.0, 'transfers_from_nonfed_account_period': 0.0}, {'nonfed_share_allocated_disbursements_period': 0.0, 'cash_on_hand_end_period': 36243618.4, 'refunded_individual_contributions_period': 4814908.76, 'offsets_to_operating_expenditures_ytd': 1896216.52, 'subtotal_summary_ytd': 875526592.32, 'coverage_end_date': '2018-11-26T00:00:00+00:00', 'net_contributions_period': 139079702.75, 'committee_type': 'W', 'total_disbursements_ytd': 839282973.92, 'is_amended': False, 'total_operating_expenditures_ytd': 8695364.2, 'transfers_to_affilitated_committees_ytd': 0.0, 'total_receipts_period': 146768278.15, 'cash_on_hand_close_ytd': 36243618.4, 'fed_candidate_committee_contributions_period': 138903340.98, 'all_loans_received_period': 0.0, 'report_type': '30G', 'fec_url': 'http://docquery.fec.gov/dcdev/posted/1300352.fec', 'most_recent': True, 'total_fed_election_activity_period': 0.0, 'fed_candidate_committee_contribution_refunds_ytd': 11226219.74, 'loan_repayments_made_period': 0.0, 'refunded_political_party_committee_contributions_ytd': 0.0, 'total_fed_operating_expenditures_ytd': 8695364.2, 'shared_fed_operating_expenditures_ytd': 0.0, 'total_receipts_ytd': 845318418.97, 'document_description': 'POST-GENERAL 2018', 'transfers_from_affiliated_party_ytd': 0.0, 'total_individual_contributions_ytd': 832113347.48, 'csv_url': 'http://docquery.fec.gov/csv/352/1300352.csv', 'cash_on_hand_beginning_calendar_ytd': 30208173.35, 'fed_candidate_contribution_refunds_period': 2654511.06, 'total_fed_disbursements_period': 144775208.37, 'transfers_to_affiliated_committee_period': 0.0, 'coordinated_expenditures_by_party_committee_ytd': 0.0, 'refunded_political_party_committee_contributions_period': 0.0, 'file_number': 1300352, 'total_contributions_period': 143894611.51, 'transfers_from_affiliated_party_period': 0.0, 'loans_made_period': 0.0, 'total_fed_receipts_period': 146768278.15, 'end_image_number': '201812079142252854', 'shared_fed_activity_nonfed_ytd': 0.0, 'total_fed_election_activity_ytd': 0.0, 'other_disbursements_period': 82000.0, 'previous_file_number': 1300352.0, 'other_disbursements_ytd': 906328.0, 'refunded_individual_contributions_ytd': 23497312.62, 'total_nonfed_transfers_period': 0.0, 'pdf_url': 'http://docquery.fec.gov/pdf/504/201812079138821504/201812079138821504.pdf', 'loan_repayments_received_ytd': 0.0, 'cycle': 2018, 'report_type_full': 'POST-GENERAL', 'transfers_from_nonfed_levin_period': 0.0, 'total_disbursements_period': 144775208.37, 'total_fed_receipts_ytd': 845318418.97, 'coverage_start_date': '2018-10-18T00:00:00+00:00', 'debts_owed_by_committee': 0.0, 'other_political_committee_contributions_ytd': 0.0, 'receipt_date': '2018-12-06T00:00:00', 'total_contribution_refunds_period': 4814908.76, 'net_operating_expenditures_period': 763908.04, 'shared_nonfed_operating_expenditures_ytd': 0.0, 'transfers_from_nonfed_account_ytd': 0.0, 'amendment_indicator_full': 'NEW', 'fed_candidate_committee_contributions_ytd': 806183969.1, 'report_year': 2018, 'committee_id': 'C00401224', 'individual_itemized_contributions_ytd': 832113347.48, 'other_fed_operating_expenditures_period': 974958.63, 'all_loans_received_ytd': 0.0, 'refunded_other_political_committee_contributions_period': 0.0, 'html_url': 'http://docquery.fec.gov/cgi-bin/forms/C00401224/1300352/', 'net_contributions_ytd': 808616034.86, 'means_filed': 'e-file', 'refunded_other_political_committee_contributions_ytd': 0.0, 'shared_nonfed_operating_expenditures_period': 0.0, 'political_party_committee_contributions_ytd': 0.0, 'cash_on_hand_beginning_period': 34250548.62, 'individual_unitemized_contributions_ytd': 0.0, 'shared_fed_activity_ytd': 0.0, 'other_fed_receipts_period': 8104.99, 'total_fed_disbursements_ytd': 839282973.92, 'individual_unitemized_contributions_period': 0.0, 'shared_fed_activity_period': 0.0, 'political_party_committee_contributions_period': 0.0, 'most_recent_file_number': 1300352.0, 'total_individual_contributions_period': 143894611.51, 'committee_name': 'ACTBLUE', 'independent_expenditures_period': 0.0, 'total_contributions_ytd': 832113347.48, 'independent_expenditures_ytd': 0.0, 'other_fed_operating_expenditures_ytd': 8695364.2, 'net_operating_expenditures_ytd': 6799147.68, 'fec_file_id': 'FEC-1300352', 'total_contribution_refunds_ytd': 23497312.62, 'other_political_committee_contributions_period': 0.0, 'offsets_to_operating_expenditures_period': 211050.59, 'amendment_indicator': 'N', 'other_fed_receipts_ytd': 82635.23, 'total_operating_expenditures_period': 974958.63, 'non_allocated_fed_election_activity_period': 0.0, 'total_fed_operating_expenditures_period': 974958.63, 'subtotal_summary_page_period': 181018826.77, 'beginning_image_number': '201812079138821504', 'debts_owed_to_committee': 0.0, 'transfers_from_nonfed_levin_ytd': 0.0, 'coordinated_expenditures_by_party_committee_period': 0.0, 'individual_itemized_contributions_period': 143894611.51, 'shared_fed_operating_expenditures_period': 0.0, 'report_form': 'Form 3X', 'calendar_ytd': 2018, 'loan_repayments_received_period': 0.0, 'allocated_federal_election_levin_share_period': 0.0, 'amendment_chain': [1300352.0], 'total_nonfed_transfers_ytd': 0.0, 'loans_made_ytd': 0.0, 'loan_repayments_made_ytd': 0.0, 'non_allocated_fed_election_activity_ytd': 0.0, 'transfers_from_nonfed_account_period': 0.0}, {'nonfed_share_allocated_disbursements_period': 0.0, 'cash_on_hand_end_period': 34250548.62, 'refunded_individual_contributions_period': 2784867.59, 'offsets_to_operating_expenditures_ytd': 1685165.93, 'subtotal_summary_ytd': 728758314.17, 'coverage_end_date': '2018-10-17T00:00:00+00:00', 'net_contributions_period': 114190247.7, 'committee_type': 'W', 'total_disbursements_ytd': 694507765.55, 'is_amended': False, 'total_operating_expenditures_ytd': 7720405.57, 'transfers_to_affilitated_committees_ytd': 0.0, 'total_receipts_period': 118624017.98, 'cash_on_hand_close_ytd': 34250548.62, 'fed_candidate_committee_contributions_period': 112943726.66, 'all_loans_received_period': 0.0, 'report_type': '12G', 'fec_url': 'http://docquery.fec.gov/dcdev/posted/1283013.fec', 'most_recent': True, 'total_fed_election_activity_period': 0.0, 'fed_candidate_committee_contribution_refunds_ytd': 8571708.68, 'loan_repayments_made_period': 0.0, 'refunded_political_party_committee_contributions_ytd': 0.0, 'total_fed_operating_expenditures_ytd': 7720405.57, 'shared_fed_operating_expenditures_ytd': 0.0, 'total_receipts_ytd': 698550140.82, 'document_description': 'PRE-GENERAL 2018', 'transfers_from_affiliated_party_ytd': 0.0, 'total_individual_contributions_ytd': 688218735.97, 'csv_url': 'http://docquery.fec.gov/csv/013/1283013.csv', 'cash_on_hand_beginning_calendar_ytd': 30208173.35, 'fed_candidate_contribution_refunds_period': 1476037.56, 'total_fed_disbursements_period': 116530612.07, 'transfers_to_affiliated_committee_period': 0.0, 'coordinated_expenditures_by_party_committee_ytd': 0.0, 'refunded_political_party_committee_contributions_period': 0.0, 'file_number': 1283013, 'total_contributions_period': 116975115.29, 'transfers_from_affiliated_party_period': 0.0, 'loans_made_period': 0.0, 'total_fed_receipts_period': 118624017.98, 'end_image_number': '201810259133241115', 'shared_fed_activity_nonfed_ytd': 0.0, 'total_fed_election_activity_ytd': 0.0, 'other_disbursements_period': 5000.0, 'previous_file_number': 1283013.0, 'other_disbursements_ytd': 824328.0, 'refunded_individual_contributions_ytd': 18682403.86, 'total_nonfed_transfers_period': 0.0, 'pdf_url': 'http://docquery.fec.gov/pdf/122/201810259131068122/201810259131068122.pdf', 'loan_repayments_received_ytd': 0.0, 'cycle': 2018, 'report_type_full': 'PRE-GENERAL', 'transfers_from_nonfed_levin_period': 0.0, 'total_disbursements_period': 116530612.07, 'total_fed_receipts_ytd': 698550140.82, 'coverage_start_date': '2018-10-01T00:00:00+00:00', 'debts_owed_by_committee': 0.0, 'other_political_committee_contributions_ytd': 0.0, 'receipt_date': '2018-10-25T00:00:00', 'total_contribution_refunds_period': 2784867.59, 'net_operating_expenditures_period': 631915.8, 'shared_nonfed_operating_expenditures_ytd': 0.0, 'transfers_from_nonfed_account_ytd': 0.0, 'amendment_indicator_full': 'NEW', 'fed_candidate_committee_contributions_ytd': 667280628.12, 'report_year': 2018, 'committee_id': 'C00401224', 'individual_itemized_contributions_ytd': 688218735.97, 'other_fed_operating_expenditures_period': 797017.82, 'all_loans_received_ytd': 0.0, 'refunded_other_political_committee_contributions_period': 0.0, 'html_url': 'http://docquery.fec.gov/cgi-bin/forms/C00401224/1283013/', 'net_contributions_ytd': 669536332.11, 'means_filed': 'e-file', 'refunded_other_political_committee_contributions_ytd': 0.0, 'shared_nonfed_operating_expenditures_period': 0.0, 'political_party_committee_contributions_ytd': 0.0, 'cash_on_hand_beginning_period': 32157142.71, 'individual_unitemized_contributions_ytd': 0.0, 'shared_fed_activity_ytd': 0.0, 'other_fed_receipts_period': 7763.11, 'total_fed_disbursements_ytd': 694507765.55, 'individual_unitemized_contributions_period': 0.0, 'shared_fed_activity_period': 0.0, 'political_party_committee_contributions_period': 0.0, 'most_recent_file_number': 1283013.0, 'total_individual_contributions_period': 116975115.29, 'committee_name': 'ACTBLUE', 'independent_expenditures_period': 0.0, 'total_contributions_ytd': 688218735.97, 'independent_expenditures_ytd': 0.0, 'other_fed_operating_expenditures_ytd': 7720405.57, 'net_operating_expenditures_ytd': 6035239.64, 'fec_file_id': 'FEC-1283013', 'total_contribution_refunds_ytd': 18682403.86, 'other_political_committee_contributions_period': 0.0, 'offsets_to_operating_expenditures_period': 165102.02, 'amendment_indicator': 'N', 'other_fed_receipts_ytd': 74530.24, 'total_operating_expenditures_period': 797017.82, 'non_allocated_fed_election_activity_period': 0.0, 'total_fed_operating_expenditures_period': 797017.82, 'subtotal_summary_page_period': 150781160.69, 'beginning_image_number': '201810259131068122', 'debts_owed_to_committee': 0.0, 'transfers_from_nonfed_levin_ytd': 0.0, 'coordinated_expenditures_by_party_committee_period': 0.0, 'individual_itemized_contributions_period': 116975115.29, 'shared_fed_operating_expenditures_period': 0.0, 'report_form': 'Form 3X', 'calendar_ytd': 2018, 'loan_repayments_received_period': 0.0, 'allocated_federal_election_levin_share_period': 0.0, 'amendment_chain': [1283013.0], 'total_nonfed_transfers_ytd': 0.0, 'loans_made_ytd': 0.0, 'loan_repayments_made_ytd': 0.0, 'non_allocated_fed_election_activity_ytd': 0.0, 'transfers_from_nonfed_account_period': 0.0}, {'nonfed_share_allocated_disbursements_period': 0.0, 'cash_on_hand_end_period': 32157142.71, 'refunded_individual_contributions_period': 3288145.79, 'offsets_to_operating_expenditures_ytd': 1520063.91, 'subtotal_summary_ytd': 610134296.19, 'coverage_end_date': '2018-09-30T00:00:00+00:00', 'net_contributions_period': 141048096.51, 'committee_type': 'W', 'total_disbursements_ytd': 577977153.48, 'is_amended': False, 'total_operating_expenditures_ytd': 6923387.75, 'transfers_to_affilitated_committees_ytd': 0.0, 'total_receipts_period': 146097213.33, 'cash_on_hand_close_ytd': 32157142.71, 'fed_candidate_committee_contributions_period': 148486761.38, 'all_loans_received_period': 0.0, 'report_type': 'M10', 'fec_url': 'http://docquery.fec.gov/dcdev/posted/1277598.fec', 'most_recent': True, 'total_fed_election_activity_period': 0.0, 'fed_candidate_committee_contribution_refunds_ytd': 7095671.12, 'loan_repayments_made_period': 0.0, 'refunded_political_party_committee_contributions_ytd': 0.0, 'total_fed_operating_expenditures_ytd': 6923387.75, 'shared_fed_operating_expenditures_ytd': 0.0, 'total_receipts_ytd': 579926122.84, 'document_description': 'OCTOBER MONTHLY 2018', 'transfers_from_affiliated_party_ytd': 0.0, 'total_individual_contributions_ytd': 571243620.68, 'csv_url': 'http://docquery.fec.gov/csv/598/1277598.csv', 'cash_on_hand_beginning_calendar_ytd': 30208173.35, 'fed_candidate_contribution_refunds_period': 1586448.0, 'total_fed_disbursements_period': 152605842.96, 'transfers_to_affiliated_committee_period': 0.0, 'coordinated_expenditures_by_party_committee_ytd': 0.0, 'refunded_political_party_committee_contributions_period': 0.0, 'file_number': 1277598, 'total_contributions_period': 144336242.3, 'transfers_from_affiliated_party_period': 0.0, 'loans_made_period': 0.0, 'total_fed_receipts_period': 146097213.33, 'end_image_number': '201810219130587387', 'shared_fed_activity_nonfed_ytd': 0.0, 'total_fed_election_activity_ytd': 0.0, 'other_disbursements_period': 24000.0, 'previous_file_number': 1277598.0, 'other_disbursements_ytd': 819328.0, 'refunded_individual_contributions_ytd': 15897536.27, 'total_nonfed_transfers_period': 0.0, 'pdf_url': 'http://docquery.fec.gov/pdf/347/201810219128312347/201810219128312347.pdf', 'loan_repayments_received_ytd': 0.0, 'cycle': 2018, 'report_type_full': 'OCTOBER MONTHLY', 'transfers_from_nonfed_levin_period': 0.0, 'total_disbursements_period': 152605842.96, 'total_fed_receipts_ytd': 579926122.84, 'coverage_start_date': '2018-09-01T00:00:00+00:00', 'debts_owed_by_committee': 0.0, 'other_political_committee_contributions_ytd': 0.0, 'receipt_date': '2018-10-20T00:00:00', 'total_contribution_refunds_period': 3288145.79, 'net_operating_expenditures_period': 640299.87, 'shared_nonfed_operating_expenditures_ytd': 0.0, 'transfers_from_nonfed_account_ytd': 0.0, 'amendment_indicator_full': 'NEW', 'fed_candidate_committee_contributions_ytd': 554336901.46, 'report_year': 2018, 'committee_id': 'C00401224', 'individual_itemized_contributions_ytd': 571243620.68, 'other_fed_operating_expenditures_period': 806935.79, 'all_loans_received_ytd': 0.0, 'refunded_other_political_committee_contributions_period': 0.0, 'html_url': 'http://docquery.fec.gov/cgi-bin/forms/C00401224/1277598/', 'net_contributions_ytd': 555346084.41, 'means_filed': 'e-file', 'refunded_other_political_committee_contributions_ytd': 0.0, 'shared_nonfed_operating_expenditures_period': 0.0, 'political_party_committee_contributions_ytd': 0.0, 'cash_on_hand_beginning_period': 38665772.34, 'individual_unitemized_contributions_ytd': 0.0, 'shared_fed_activity_ytd': 0.0, 'other_fed_receipts_period': 7887.11, 'total_fed_disbursements_ytd': 577977153.48, 'individual_unitemized_contributions_period': 0.0, 'shared_fed_activity_period': 0.0, 'political_party_committee_contributions_period': 0.0, 'most_recent_file_number': 1277598.0, 'total_individual_contributions_period': 144336242.3, 'committee_name': 'ACTBLUE', 'independent_expenditures_period': 0.0, 'total_contributions_ytd': 571243620.68, 'independent_expenditures_ytd': 0.0, 'other_fed_operating_expenditures_ytd': 6923387.75, 'net_operating_expenditures_ytd': 5403323.84, 'fec_file_id': 'FEC-1277598', 'total_contribution_refunds_ytd': 15897536.27, 'other_political_committee_contributions_period': 0.0, 'offsets_to_operating_expenditures_period': 166635.92, 'amendment_indicator': 'N', 'other_fed_receipts_ytd': 66767.13, 'total_operating_expenditures_period': 806935.79, 'non_allocated_fed_election_activity_period': 0.0, 'total_fed_operating_expenditures_period': 806935.79, 'subtotal_summary_page_period': 184762985.67, 'beginning_image_number': '201810219128312347', 'debts_owed_to_committee': 0.0, 'transfers_from_nonfed_levin_ytd': 0.0, 'coordinated_expenditures_by_party_committee_period': 0.0, 'individual_itemized_contributions_period': 144336242.3, 'shared_fed_operating_expenditures_period': 0.0, 'report_form': 'Form 3X', 'calendar_ytd': 2018, 'loan_repayments_received_period': 0.0, 'allocated_federal_election_levin_share_period': 0.0, 'amendment_chain': [1277598.0], 'total_nonfed_transfers_ytd': 0.0, 'loans_made_ytd': 0.0, 'loan_repayments_made_ytd': 0.0, 'non_allocated_fed_election_activity_ytd': 0.0, 'transfers_from_nonfed_account_period': 0.0}, {'nonfed_share_allocated_disbursements_period': 0.0, 'cash_on_hand_end_period': 38665772.34, 'refunded_individual_contributions_period': 2471929.66, 'offsets_to_operating_expenditures_ytd': 1353427.99, 'subtotal_summary_ytd': 464037082.86, 'coverage_end_date': '2018-08-31T00:00:00+00:00', 'net_contributions_period': 86247265.01, 'committee_type': 'W', 'total_disbursements_ytd': 425371310.52, 'is_amended': False, 'total_operating_expenditures_ytd': 6116451.96, 'transfers_to_affilitated_committees_ytd': 0.0, 'total_receipts_period': 89946057.86, 'cash_on_hand_close_ytd': 38665772.34, 'fed_candidate_committee_contributions_period': 80915015.22, 'all_loans_received_period': 0.0, 'report_type': 'M9', 'fec_url': 'http://docquery.fec.gov/dcdev/posted/1263179.fec', 'most_recent': True, 'total_fed_election_activity_period': 0.0, 'fed_candidate_committee_contribution_refunds_ytd': 5509223.12, 'loan_repayments_made_period': 0.0, 'refunded_political_party_committee_contributions_ytd': 0.0, 'total_fed_operating_expenditures_ytd': 6116451.96, 'shared_fed_operating_expenditures_ytd': 0.0, 'total_receipts_ytd': 433828909.51, 'document_description': 'SEPTEMBER MONTHLY 2018', 'transfers_from_affiliated_party_ytd': 0.0, 'total_individual_contributions_ytd': 426907378.38, 'csv_url': 'http://docquery.fec.gov/csv/179/1263179.csv', 'cash_on_hand_beginning_calendar_ytd': 30208173.35, 'fed_candidate_contribution_refunds_period': 1068999.22, 'total_fed_disbursements_period': 84246989.51, 'transfers_to_affiliated_committee_period': 0.0, 'coordinated_expenditures_by_party_committee_ytd': 0.0, 'refunded_political_party_committee_contributions_period': 0.0, 'file_number': 1263179, 'total_contributions_period': 88719194.67, 'transfers_from_affiliated_party_period': 0.0, 'loans_made_period': 0.0, 'total_fed_receipts_period': 89946057.86, 'end_image_number': '201809209123915397', 'shared_fed_activity_nonfed_ytd': 0.0, 'total_fed_election_activity_ytd': 0.0, 'other_disbursements_period': 79620.0, 'previous_file_number': 1263179.0, 'other_disbursements_ytd': 795328.0, 'refunded_individual_contributions_ytd': 12609390.48, 'total_nonfed_transfers_period': 0.0, 'pdf_url': 'http://docquery.fec.gov/pdf/556/201809209122102556/201809209122102556.pdf', 'loan_repayments_received_ytd': 0.0, 'cycle': 2018, 'report_type_full': 'SEPTEMBER MONTHLY', 'transfers_from_nonfed_levin_period': 0.0, 'total_disbursements_period': 84246989.51, 'total_fed_receipts_ytd': 433828909.51, 'coverage_start_date': '2018-08-01T00:00:00+00:00', 'debts_owed_by_committee': 0.0, 'other_political_committee_contributions_ytd': 0.0, 'receipt_date': '2018-09-20T00:00:00', 'total_contribution_refunds_period': 2471929.66, 'net_operating_expenditures_period': 630379.91, 'shared_nonfed_operating_expenditures_ytd': 0.0, 'transfers_from_nonfed_account_ytd': 0.0, 'amendment_indicator_full': 'NEW', 'fed_candidate_committee_contributions_ytd': 405850140.08, 'report_year': 2018, 'committee_id': 'C00401224', 'individual_itemized_contributions_ytd': 426907378.38, 'other_fed_operating_expenditures_period': 780424.63, 'all_loans_received_ytd': 0.0, 'refunded_other_political_committee_contributions_period': 0.0, 'html_url': 'http://docquery.fec.gov/cgi-bin/forms/C00401224/1263179/', 'net_contributions_ytd': 414297987.9, 'means_filed': 'e-file', 'refunded_other_political_committee_contributions_ytd': 0.0, 'shared_nonfed_operating_expenditures_period': 0.0, 'political_party_committee_contributions_ytd': 0.0, 'cash_on_hand_beginning_period': 32966703.99, 'individual_unitemized_contributions_ytd': 0.0, 'shared_fed_activity_ytd': 0.0, 'other_fed_receipts_period': 7819.25, 'total_fed_disbursements_ytd': 425371310.52, 'individual_unitemized_contributions_period': 0.0, 'shared_fed_activity_period': 0.0, 'political_party_committee_contributions_period': 0.0, 'most_recent_file_number': 1263179.0, 'total_individual_contributions_period': 88719194.67, 'committee_name': 'ACTBLUE', 'independent_expenditures_period': 0.0, 'total_contributions_ytd': 426907378.38, 'independent_expenditures_ytd': 0.0, 'other_fed_operating_expenditures_ytd': 6116451.96, 'net_operating_expenditures_ytd': 4763023.97, 'fec_file_id': 'FEC-1263179', 'total_contribution_refunds_ytd': 12609390.48, 'other_political_committee_contributions_period': 0.0, 'offsets_to_operating_expenditures_period': 150044.72, 'amendment_indicator': 'N', 'other_fed_receipts_ytd': 58880.02, 'total_operating_expenditures_period': 780424.63, 'non_allocated_fed_election_activity_period': 0.0, 'total_fed_operating_expenditures_period': 780424.63, 'subtotal_summary_page_period': 122912761.85, 'beginning_image_number': '201809209122102556', 'debts_owed_to_committee': 0.0, 'transfers_from_nonfed_levin_ytd': 0.0, 'coordinated_expenditures_by_party_committee_period': 0.0, 'individual_itemized_contributions_period': 88719194.67, 'shared_fed_operating_expenditures_period': 0.0, 'report_form': 'Form 3X', 'calendar_ytd': 2018, 'loan_repayments_received_period': 0.0, 'allocated_federal_election_levin_share_period': 0.0, 'amendment_chain': [1263179.0], 'total_nonfed_transfers_ytd': 0.0, 'loans_made_ytd': 0.0, 'loan_repayments_made_ytd': 0.0, 'non_allocated_fed_election_activity_ytd': 0.0, 'transfers_from_nonfed_account_period': 0.0}, {'nonfed_share_allocated_disbursements_period': 0.0, 'cash_on_hand_end_period': 32966703.99, 'refunded_individual_contributions_period': 1900829.84, 'offsets_to_operating_expenditures_ytd': 1203383.27, 'subtotal_summary_ytd': 374091025.0, 'coverage_end_date': '2018-07-31T00:00:00+00:00', 'net_contributions_period': 59044717.13, 'committee_type': 'W', 'total_disbursements_ytd': 341124321.01, 'is_amended': False, 'total_operating_expenditures_ytd': 5336027.33, 'transfers_to_affilitated_committees_ytd': 0.0, 'total_receipts_period': 61805142.28, 'cash_on_hand_close_ytd': 32966703.99, 'fed_candidate_committee_contributions_period': 55563681.81, 'all_loans_received_period': 0.0, 'report_type': 'M8', 'fec_url': 'http://docquery.fec.gov/dcdev/posted/1258193.fec', 'most_recent': True, 'total_fed_election_activity_period': 0.0, 'fed_candidate_committee_contribution_refunds_ytd': 4440223.9, 'loan_repayments_made_period': 0.0, 'refunded_political_party_committee_contributions_ytd': 0.0, 'total_fed_operating_expenditures_ytd': 5336027.33, 'shared_fed_operating_expenditures_ytd': 0.0, 'total_receipts_ytd': 343882851.65, 'document_description': 'AUGUST MONTHLY 2018', 'transfers_from_affiliated_party_ytd': 0.0, 'total_individual_contributions_ytd': 338188183.71, 'csv_url': 'http://docquery.fec.gov/csv/193/1258193.csv', 'cash_on_hand_beginning_calendar_ytd': 30208173.35, 'fed_candidate_contribution_refunds_period': 706578.39, 'total_fed_disbursements_period': 58261110.2, 'transfers_to_affiliated_committee_period': 0.0, 'coordinated_expenditures_by_party_committee_ytd': 0.0, 'refunded_political_party_committee_contributions_period': 0.0, 'file_number': 1258193, 'total_contributions_period': 60945546.97, 'transfers_from_affiliated_party_period': 0.0, 'loans_made_period': 0.0, 'total_fed_receipts_period': 61805142.28, 'end_image_number': '201808209121381657', 'shared_fed_activity_nonfed_ytd': 0.0, 'total_fed_election_activity_ytd': 0.0, 'other_disbursements_period': 77500.0, 'previous_file_number': 1258193.0, 'other_disbursements_ytd': 715708.0, 'refunded_individual_contributions_ytd': 10137460.82, 'total_nonfed_transfers_period': 0.0, 'pdf_url': 'http://docquery.fec.gov/pdf/935/201808209120038935/201808209120038935.pdf', 'loan_repayments_received_ytd': 0.0, 'cycle': 2018, 'report_type_full': 'AUGUST MONTHLY', 'transfers_from_nonfed_levin_period': 0.0, 'total_disbursements_period': 58261110.2, 'total_fed_receipts_ytd': 343882851.65, 'coverage_start_date': '2018-07-01T00:00:00+00:00', 'debts_owed_by_committee': 0.0, 'other_political_committee_contributions_ytd': 0.0, 'receipt_date': '2018-08-20T00:00:00', 'total_contribution_refunds_period': 1900829.84, 'net_operating_expenditures_period': 573594.11, 'shared_nonfed_operating_expenditures_ytd': 0.0, 'transfers_from_nonfed_account_ytd': 0.0, 'amendment_indicator_full': 'NEW', 'fed_candidate_committee_contributions_ytd': 324935124.86, 'report_year': 2018, 'committee_id': 'C00401224', 'individual_itemized_contributions_ytd': 338188183.71, 'other_fed_operating_expenditures_period': 719098.55, 'all_loans_received_ytd': 0.0, 'refunded_other_political_committee_contributions_period': 0.0, 'html_url': 'http://docquery.fec.gov/cgi-bin/forms/C00401224/1258193/', 'net_contributions_ytd': 328050722.89, 'means_filed': 'e-file', 'refunded_other_political_committee_contributions_ytd': 0.0, 'shared_nonfed_operating_expenditures_period': 0.0, 'political_party_committee_contributions_ytd': 0.0, 'cash_on_hand_beginning_period': 29422671.91, 'individual_unitemized_contributions_ytd': 0.0, 'shared_fed_activity_ytd': 0.0, 'other_fed_receipts_period': 7512.48, 'total_fed_disbursements_ytd': 341124321.01, 'individual_unitemized_contributions_period': 0.0, 'shared_fed_activity_period': 0.0, 'political_party_committee_contributions_period': 0.0, 'most_recent_file_number': 1258193.0, 'total_individual_contributions_period': 60945546.97, 'committee_name': 'ACTBLUE', 'independent_expenditures_period': 0.0, 'total_contributions_ytd': 338188183.71, 'independent_expenditures_ytd': 0.0, 'other_fed_operating_expenditures_ytd': 5336027.33, 'net_operating_expenditures_ytd': 4132644.06, 'fec_file_id': 'FEC-1258193', 'total_contribution_refunds_ytd': 10137460.82, 'other_political_committee_contributions_period': 0.0, 'offsets_to_operating_expenditures_period': 145504.44, 'amendment_indicator': 'N', 'other_fed_receipts_ytd': 51060.77, 'total_operating_expenditures_period': 719098.55, 'non_allocated_fed_election_activity_period': 0.0, 'total_fed_operating_expenditures_period': 719098.55, 'subtotal_summary_page_period': 91227814.19, 'beginning_image_number': '201808209120038935', 'debts_owed_to_committee': 0.0, 'transfers_from_nonfed_levin_ytd': 0.0, 'coordinated_expenditures_by_party_committee_period': 0.0, 'individual_itemized_contributions_period': 60945546.97, 'shared_fed_operating_expenditures_period': 0.0, 'report_form': 'Form 3X', 'calendar_ytd': 2018, 'loan_repayments_received_period': 0.0, 'allocated_federal_election_levin_share_period': 0.0, 'amendment_chain': [1258193.0], 'total_nonfed_transfers_ytd': 0.0, 'loans_made_ytd': 0.0, 'loan_repayments_made_ytd': 0.0, 'non_allocated_fed_election_activity_ytd': 0.0, 'transfers_from_nonfed_account_period': 0.0}, {'nonfed_share_allocated_disbursements_period': 0.0, 'cash_on_hand_end_period': 29422671.91, 'refunded_individual_contributions_period': 1659356.26, 'offsets_to_operating_expenditures_ytd': 1057878.83, 'subtotal_summary_ytd': 312285882.72, 'coverage_end_date': '2018-06-30T00:00:00+00:00', 'net_contributions_period': 61428762.93, 'committee_type': 'W', 'total_disbursements_ytd': 282863210.81, 'is_amended': False, 'total_operating_expenditures_ytd': 4616928.78, 'transfers_to_affilitated_committees_ytd': 0.0, 'total_receipts_period': 63923513.68, 'cash_on_hand_close_ytd': 29422671.91, 'fed_candidate_committee_contributions_period': 65191399.85, 'all_loans_received_period': 0.0, 'report_type': 'M7', 'fec_url': 'http://docquery.fec.gov/dcdev/posted/1251343.fec', 'most_recent': True, 'total_fed_election_activity_period': 0.0, 'fed_candidate_committee_contribution_refunds_ytd': 3733645.51, 'loan_repayments_made_period': 0.0, 'refunded_political_party_committee_contributions_ytd': 0.0, 'total_fed_operating_expenditures_ytd': 4616928.78, 'shared_fed_operating_expenditures_ytd': 0.0, 'total_receipts_ytd': 282077709.37, 'document_description': 'JULY MONTHLY 2018', 'transfers_from_affiliated_party_ytd': 0.0, 'total_individual_contributions_ytd': 277242636.74, 'csv_url': 'http://docquery.fec.gov/csv/343/1251343.csv', 'cash_on_hand_beginning_calendar_ytd': 30208173.35, 'fed_candidate_contribution_refunds_period': 597647.72, 'total_fed_disbursements_period': 67878154.67, 'transfers_to_affiliated_committee_period': 0.0, 'coordinated_expenditures_by_party_committee_ytd': 0.0, 'refunded_political_party_committee_contributions_period': 0.0, 'file_number': 1251343, 'total_contributions_period': 63088119.19, 'transfers_from_affiliated_party_period': 0.0, 'loans_made_period': 0.0, 'total_fed_receipts_period': 63923513.68, 'end_image_number': '201807209117755863', 'shared_fed_activity_nonfed_ytd': 0.0, 'total_fed_election_activity_ytd': 0.0, 'other_disbursements_period': 303500.0, 'previous_file_number': 1251343.0, 'other_disbursements_ytd': 638208.0, 'refunded_individual_contributions_ytd': 8236630.98, 'total_nonfed_transfers_period': 0.0, 'pdf_url': 'http://docquery.fec.gov/pdf/804/201807209116321804/201807209116321804.pdf', 'loan_repayments_received_ytd': 0.0, 'cycle': 2018, 'report_type_full': 'JULY MONTHLY', 'transfers_from_nonfed_levin_period': 0.0, 'total_disbursements_period': 67878154.67, 'total_fed_receipts_ytd': 282077709.37, 'coverage_start_date': '2018-06-01T00:00:00+00:00', 'debts_owed_by_committee': 0.0, 'other_political_committee_contributions_ytd': 0.0, 'receipt_date': '2018-07-20T00:00:00', 'total_contribution_refunds_period': 1659356.26, 'net_operating_expenditures_period': 493804.92, 'shared_nonfed_operating_expenditures_ytd': 0.0, 'transfers_from_nonfed_account_ytd': 0.0, 'amendment_indicator_full': 'NEW', 'fed_candidate_committee_contributions_ytd': 269371443.05, 'report_year': 2018, 'committee_id': 'C00401224', 'individual_itemized_contributions_ytd': 277242636.74, 'other_fed_operating_expenditures_period': 723898.56, 'all_loans_received_ytd': 0.0, 'refunded_other_political_committee_contributions_period': 0.0, 'html_url': 'http://docquery.fec.gov/cgi-bin/forms/C00401224/1251343/', 'net_contributions_ytd': 269006005.76, 'means_filed': 'e-file', 'refunded_other_political_committee_contributions_ytd': 0.0, 'shared_nonfed_operating_expenditures_period': 0.0, 'political_party_committee_contributions_ytd': 0.0, 'cash_on_hand_beginning_period': 33377312.9, 'individual_unitemized_contributions_ytd': 0.0, 'shared_fed_activity_ytd': 0.0, 'other_fed_receipts_period': 7653.13, 'total_fed_disbursements_ytd': 282863210.81, 'individual_unitemized_contributions_period': 0.0, 'shared_fed_activity_period': 0.0, 'political_party_committee_contributions_period': 0.0, 'most_recent_file_number': 1251343.0, 'total_individual_contributions_period': 63088119.19, 'committee_name': 'ACTBLUE', 'independent_expenditures_period': 0.0, 'total_contributions_ytd': 277242636.74, 'independent_expenditures_ytd': 0.0, 'other_fed_operating_expenditures_ytd': 4616928.78, 'net_operating_expenditures_ytd': 3559049.95, 'fec_file_id': 'FEC-1251343', 'total_contribution_refunds_ytd': 8236630.98, 'other_political_committee_contributions_period': 0.0, 'offsets_to_operating_expenditures_period': 230093.64, 'amendment_indicator': 'N', 'other_fed_receipts_ytd': 43548.29, 'total_operating_expenditures_period': 723898.56, 'non_allocated_fed_election_activity_period': 0.0, 'total_fed_operating_expenditures_period': 723898.56, 'subtotal_summary_page_period': 97300826.58, 'beginning_image_number': '201807209116321804', 'debts_owed_to_committee': 0.0, 'transfers_from_nonfed_levin_ytd': 0.0, 'coordinated_expenditures_by_party_committee_period': 0.0, 'individual_itemized_contributions_period': 63088119.19, 'shared_fed_operating_expenditures_period': 0.0, 'report_form': 'Form 3X', 'calendar_ytd': 2018, 'loan_repayments_received_period': 0.0, 'allocated_federal_election_levin_share_period': 0.0, 'amendment_chain': [1251343.0], 'total_nonfed_transfers_ytd': 0.0, 'loans_made_ytd': 0.0, 'loan_repayments_made_ytd': 0.0, 'non_allocated_fed_election_activity_ytd': 0.0, 'transfers_from_nonfed_account_period': 0.0}, {'nonfed_share_allocated_disbursements_period': 0.0, 'cash_on_hand_end_period': 33377312.9, 'refunded_individual_contributions_period': 1382402.61, 'offsets_to_operating_expenditures_ytd': 827785.19, 'subtotal_summary_ytd': 248362369.04, 'coverage_end_date': '2018-05-31T00:00:00+00:00', 'net_contributions_period': 41747830.5, 'committee_type': 'W', 'total_disbursements_ytd': 214985056.14, 'is_amended': False, 'total_operating_expenditures_ytd': 3893030.22, 'transfers_to_affilitated_committees_ytd': 0.0, 'total_receipts_period': 43818720.57, 'cash_on_hand_close_ytd': 33377312.9, 'fed_candidate_committee_contributions_period': 39933687.93, 'all_loans_received_period': 0.0, 'report_type': 'M6', 'fec_url': 'http://docquery.fec.gov/dcdev/posted/1240253.fec', 'most_recent': True, 'total_fed_election_activity_period': 0.0, 'fed_candidate_committee_contribution_refunds_ytd': 3135997.79, 'loan_repayments_made_period': 0.0, 'refunded_political_party_committee_contributions_ytd': 0.0, 'total_fed_operating_expenditures_ytd': 3893030.22, 'shared_fed_operating_expenditures_ytd': 0.0, 'total_receipts_ytd': 218154195.69, 'document_description': 'JUNE MONTHLY 2018', 'transfers_from_affiliated_party_ytd': 0.0, 'total_individual_contributions_ytd': 214154517.55, 'csv_url': 'http://docquery.fec.gov/csv/253/1240253.csv', 'cash_on_hand_beginning_calendar_ytd': 30208173.35, 'fed_candidate_contribution_refunds_period': 564097.94, 'total_fed_disbursements_period': 42397933.59, 'transfers_to_affiliated_committee_period': 0.0, 'coordinated_expenditures_by_party_committee_ytd': 0.0, 'refunded_political_party_committee_contributions_period': 0.0, 'file_number': 1240253, 'total_contributions_period': 43130233.11, 'transfers_from_affiliated_party_period': 0.0, 'loans_made_period': 0.0, 'total_fed_receipts_period': 43818720.57, 'end_image_number': '201806219115160998', 'shared_fed_activity_nonfed_ytd': 0.0, 'total_fed_election_activity_ytd': 0.0, 'other_disbursements_period': 77390.0, 'previous_file_number': 1240253.0, 'other_disbursements_ytd': 334708.0, 'refunded_individual_contributions_ytd': 6577274.72, 'total_nonfed_transfers_period': 0.0, 'pdf_url': 'http://docquery.fec.gov/pdf/614/201806219114169614/201806219114169614.pdf', 'loan_repayments_received_ytd': 0.0, 'cycle': 2018, 'report_type_full': 'JUNE MONTHLY', 'transfers_from_nonfed_levin_period': 0.0, 'total_disbursements_period': 42397933.59, 'total_fed_receipts_ytd': 218154195.69, 'coverage_start_date': '2018-05-01T00:00:00+00:00', 'debts_owed_by_committee': 0.0, 'other_political_committee_contributions_ytd': 0.0, 'receipt_date': '2018-06-20T00:00:00', 'total_contribution_refunds_period': 1382402.61, 'net_operating_expenditures_period': 887403.19, 'shared_nonfed_operating_expenditures_ytd': 0.0, 'transfers_from_nonfed_account_ytd': 0.0, 'amendment_indicator_full': 'NEW', 'fed_candidate_committee_contributions_ytd': 204180043.2, 'report_year': 2018, 'committee_id': 'C00401224', 'individual_itemized_contributions_ytd': 214154517.55, 'other_fed_operating_expenditures_period': 1004453.05, 'all_loans_received_ytd': 0.0, 'refunded_other_political_committee_contributions_period': 0.0, 'html_url': 'http://docquery.fec.gov/cgi-bin/forms/C00401224/1240253/', 'net_contributions_ytd': 207577242.83, 'means_filed': 'e-file', 'refunded_other_political_committee_contributions_ytd': 0.0, 'shared_nonfed_operating_expenditures_period': 0.0, 'political_party_committee_contributions_ytd': 0.0, 'cash_on_hand_beginning_period': 31956525.92, 'individual_unitemized_contributions_ytd': 0.0, 'shared_fed_activity_ytd': 0.0, 'other_fed_receipts_period': 7339.66, 'total_fed_disbursements_ytd': 214985056.14, 'individual_unitemized_contributions_period': 0.0, 'shared_fed_activity_period': 0.0, 'political_party_committee_contributions_period': 0.0, 'most_recent_file_number': 1240253.0, 'total_individual_contributions_period': 43130233.11, 'committee_name': 'ACTBLUE', 'independent_expenditures_period': 0.0, 'total_contributions_ytd': 214154517.55, 'independent_expenditures_ytd': 0.0, 'other_fed_operating_expenditures_ytd': 3893030.22, 'net_operating_expenditures_ytd': 3065245.03, 'fec_file_id': 'FEC-1240253', 'total_contribution_refunds_ytd': 6577274.72, 'other_political_committee_contributions_period': 0.0, 'offsets_to_operating_expenditures_period': 117049.86, 'amendment_indicator': 'N', 'other_fed_receipts_ytd': 35895.16, 'total_operating_expenditures_period': 1004453.05, 'non_allocated_fed_election_activity_period': 0.0, 'total_fed_operating_expenditures_period': 1004453.05, 'subtotal_summary_page_period': 75775246.49, 'beginning_image_number': '201806219114169614', 'debts_owed_to_committee': 0.0, 'transfers_from_nonfed_levin_ytd': 0.0, 'coordinated_expenditures_by_party_committee_period': 0.0, 'individual_itemized_contributions_period': 43130233.11, 'shared_fed_operating_expenditures_period': 0.0, 'report_form': 'Form 3X', 'calendar_ytd': 2018, 'loan_repayments_received_period': 0.0, 'allocated_federal_election_levin_share_period': 0.0, 'amendment_chain': [1240253.0], 'total_nonfed_transfers_ytd': 0.0, 'loans_made_ytd': 0.0, 'loan_repayments_made_ytd': 0.0, 'non_allocated_fed_election_activity_ytd': 0.0, 'transfers_from_nonfed_account_period': 0.0}, {'nonfed_share_allocated_disbursements_period': 0.0, 'cash_on_hand_end_period': 31956525.92, 'refunded_individual_contributions_period': 1272650.9, 'offsets_to_operating_expenditures_ytd': 710735.33, 'subtotal_summary_ytd': 204543648.47, 'coverage_end_date': '2018-04-30T00:00:00+00:00', 'net_contributions_period': 37055995.55, 'committee_type': 'W', 'total_disbursements_ytd': 172587122.55, 'is_amended': False, 'total_operating_expenditures_ytd': 2888577.17, 'transfers_to_affilitated_committees_ytd': 0.0, 'total_receipts_period': 39054169.15, 'cash_on_hand_close_ytd': 31956525.92, 'fed_candidate_committee_contributions_period': 35460988.49, 'all_loans_received_period': 0.0, 'report_type': 'M5', 'fec_url': 'http://docquery.fec.gov/dcdev/posted/1233520.fec', 'most_recent': True, 'total_fed_election_activity_period': 0.0, 'fed_candidate_committee_contribution_refunds_ytd': 2571899.85, 'loan_repayments_made_period': 0.0, 'refunded_political_party_committee_contributions_ytd': 0.0, 'total_fed_operating_expenditures_ytd': 2888577.17, 'shared_fed_operating_expenditures_ytd': 0.0, 'total_receipts_ytd': 174335475.12, 'document_description': 'MAY MONTHLY 2018', 'transfers_from_affiliated_party_ytd': 0.0, 'total_individual_contributions_ytd': 171024284.44, 'csv_url': 'http://docquery.fec.gov/csv/520/1233520.csv', 'cash_on_hand_beginning_calendar_ytd': 30208173.35, 'fed_candidate_contribution_refunds_period': 584312.27, 'total_fed_disbursements_period': 37491892.8, 'transfers_to_affiliated_committee_period': 0.0, 'coordinated_expenditures_by_party_committee_ytd': 0.0, 'refunded_political_party_committee_contributions_period': 0.0, 'file_number': 1233520, 'total_contributions_period': 38328646.45, 'transfers_from_affiliated_party_period': 0.0, 'loans_made_period': 0.0, 'total_fed_receipts_period': 39054169.15, 'end_image_number': '201805219113310036', 'shared_fed_activity_nonfed_ytd': 0.0, 'total_fed_election_activity_ytd': 0.0, 'other_disbursements_period': 142390.0, 'previous_file_number': 1233520.0, 'other_disbursements_ytd': 257318.0, 'refunded_individual_contributions_ytd': 5194872.11, 'total_nonfed_transfers_period': 0.0, 'pdf_url': 'http://docquery.fec.gov/pdf/324/201805219112377324/201805219112377324.pdf', 'loan_repayments_received_ytd': 0.0, 'cycle': 2018, 'report_type_full': 'MAY MONTHLY', 'transfers_from_nonfed_levin_period': 0.0, 'total_disbursements_period': 37491892.8, 'total_fed_receipts_ytd': 174335475.12, 'coverage_start_date': '2018-04-01T00:00:00+00:00', 'debts_owed_by_committee': 0.0, 'other_political_committee_contributions_ytd': 0.0, 'receipt_date': '2018-05-20T00:00:00', 'total_contribution_refunds_period': 1272650.9, 'net_operating_expenditures_period': 482179.37, 'shared_nonfed_operating_expenditures_ytd': 0.0, 'transfers_from_nonfed_account_ytd': 0.0, 'amendment_indicator_full': 'NEW', 'fed_candidate_committee_contributions_ytd': 164246355.27, 'report_year': 2018, 'committee_id': 'C00401224', 'individual_itemized_contributions_ytd': 171024284.44, 'other_fed_operating_expenditures_period': 615863.41, 'all_loans_received_ytd': 0.0, 'refunded_other_political_committee_contributions_period': 0.0, 'html_url': 'http://docquery.fec.gov/cgi-bin/forms/C00401224/1233520/', 'net_contributions_ytd': 165829412.33, 'means_filed': 'e-file', 'refunded_other_political_committee_contributions_ytd': 0.0, 'shared_nonfed_operating_expenditures_period': 0.0, 'political_party_committee_contributions_ytd': 0.0, 'cash_on_hand_beginning_period': 30394249.57, 'individual_unitemized_contributions_ytd': 0.0, 'shared_fed_activity_ytd': 0.0, 'other_fed_receipts_period': 7526.39, 'total_fed_disbursements_ytd': 172587122.55, 'individual_unitemized_contributions_period': 0.0, 'shared_fed_activity_period': 0.0, 'political_party_committee_contributions_period': 0.0, 'most_recent_file_number': 1233520.0, 'total_individual_contributions_period': 38328646.45, 'committee_name': 'ACTBLUE', 'independent_expenditures_period': 0.0, 'total_contributions_ytd': 171024284.44, 'independent_expenditures_ytd': 0.0, 'other_fed_operating_expenditures_ytd': 2888577.17, 'net_operating_expenditures_ytd': 2177841.84, 'fec_file_id': 'FEC-1233520', 'total_contribution_refunds_ytd': 5194872.11, 'other_political_committee_contributions_period': 0.0, 'offsets_to_operating_expenditures_period': 133684.04, 'amendment_indicator': 'N', 'other_fed_receipts_ytd': 28555.5, 'total_operating_expenditures_period': 615863.41, 'non_allocated_fed_election_activity_period': 0.0, 'total_fed_operating_expenditures_period': 615863.41, 'subtotal_summary_page_period': 69448418.72, 'beginning_image_number': '201805219112377324', 'debts_owed_to_committee': 0.0, 'transfers_from_nonfed_levin_ytd': 0.0, 'coordinated_expenditures_by_party_committee_period': 0.0, 'individual_itemized_contributions_period': 38328646.45, 'shared_fed_operating_expenditures_period': 0.0, 'report_form': 'Form 3X', 'calendar_ytd': 2018, 'loan_repayments_received_period': 0.0, 'allocated_federal_election_levin_share_period': 0.0, 'amendment_chain': [1233520.0], 'total_nonfed_transfers_ytd': 0.0, 'loans_made_ytd': 0.0, 'loan_repayments_made_ytd': 0.0, 'non_allocated_fed_election_activity_ytd': 0.0, 'transfers_from_nonfed_account_period': 0.0}, {'nonfed_share_allocated_disbursements_period': 0.0, 'cash_on_hand_end_period': 30394249.57, 'refunded_individual_contributions_period': 1626580.87, 'offsets_to_operating_expenditures_ytd': 577051.29, 'subtotal_summary_ytd': 165489479.32, 'coverage_end_date': '2018-03-31T00:00:00+00:00', 'net_contributions_period': 56198505.15, 'committee_type': 'W', 'total_disbursements_ytd': 135095229.75, 'is_amended': False, 'total_operating_expenditures_ytd': 2272713.76, 'transfers_to_affilitated_committees_ytd': 0.0, 'total_receipts_period': 58692201.95, 'cash_on_hand_close_ytd': 30394249.57, 'fed_candidate_committee_contributions_period': 59577830.78, 'all_loans_received_period': 0.0, 'report_type': 'M4', 'fec_url': 'http://docquery.fec.gov/dcdev/posted/1225971.fec', 'most_recent': True, 'total_fed_election_activity_period': 0.0, 'fed_candidate_committee_contribution_refunds_ytd': 1987587.58, 'loan_repayments_made_period': 0.0, 'refunded_political_party_committee_contributions_ytd': 0.0, 'total_fed_operating_expenditures_ytd': 2272713.76, 'shared_fed_operating_expenditures_ytd': 0.0, 'total_receipts_ytd': 135281305.97, 'document_description': 'APRIL MONTHLY 2018', 'transfers_from_affiliated_party_ytd': 0.0, 'total_individual_contributions_ytd': 132695637.99, 'csv_url': 'http://docquery.fec.gov/csv/971/1225971.csv', 'cash_on_hand_beginning_calendar_ytd': 30208173.35, 'fed_candidate_contribution_refunds_period': 723214.12, 'total_fed_disbursements_period': 61858988.35, 'transfers_to_affiliated_committee_period': 0.0, 'coordinated_expenditures_by_party_committee_ytd': 0.0, 'refunded_political_party_committee_contributions_period': 0.0, 'file_number': 1225971, 'total_contributions_period': 57825086.02, 'transfers_from_affiliated_party_period': 0.0, 'loans_made_period': 0.0, 'total_fed_receipts_period': 58692201.95, 'end_image_number': '201804209111660108', 'shared_fed_activity_nonfed_ytd': 0.0, 'total_fed_election_activity_ytd': 0.0, 'other_disbursements_period': 11569.0, 'previous_file_number': 1225971.0, 'other_disbursements_ytd': 114928.0, 'refunded_individual_contributions_ytd': 3922221.21, 'total_nonfed_transfers_period': 0.0, 'pdf_url': 'http://docquery.fec.gov/pdf/611/201804209110421611/201804209110421611.pdf', 'loan_repayments_received_ytd': 0.0, 'cycle': 2018, 'report_type_full': 'APRIL MONTHLY', 'transfers_from_nonfed_levin_period': 0.0, 'total_disbursements_period': 61858988.35, 'total_fed_receipts_ytd': 135281305.97, 'coverage_start_date': '2018-03-01T00:00:00+00:00', 'debts_owed_by_committee': 0.0, 'other_political_committee_contributions_ytd': 0.0, 'receipt_date': '2018-04-20T00:00:00', 'total_contribution_refunds_period': 1626580.87, 'net_operating_expenditures_period': 505737.12, 'shared_nonfed_operating_expenditures_ytd': 0.0, 'transfers_from_nonfed_account_ytd': 0.0, 'amendment_indicator_full': 'NEW', 'fed_candidate_committee_contributions_ytd': 128785366.78, 'report_year': 2018, 'committee_id': 'C00401224', 'individual_itemized_contributions_ytd': 132695637.99, 'other_fed_operating_expenditures_period': 643007.7, 'all_loans_received_ytd': 0.0, 'refunded_other_political_committee_contributions_period': 0.0, 'html_url': 'http://docquery.fec.gov/cgi-bin/forms/C00401224/1225971/', 'net_contributions_ytd': 128773416.78, 'means_filed': 'e-file', 'refunded_other_political_committee_contributions_ytd': 0.0, 'shared_nonfed_operating_expenditures_period': 0.0, 'political_party_committee_contributions_ytd': 0.0, 'cash_on_hand_beginning_period': 33561035.97, 'individual_unitemized_contributions_ytd': 0.0, 'shared_fed_activity_ytd': 0.0, 'other_fed_receipts_period': 6631.23, 'total_fed_disbursements_ytd': 135095229.75, 'individual_unitemized_contributions_period': 0.0, 'shared_fed_activity_period': 0.0, 'political_party_committee_contributions_period': 0.0, 'most_recent_file_number': 1225971.0, 'total_individual_contributions_period': 57825086.02, 'committee_name': 'ACTBLUE', 'independent_expenditures_period': 0.0, 'total_contributions_ytd': 132695637.99, 'independent_expenditures_ytd': 0.0, 'other_fed_operating_expenditures_ytd': 2272713.76, 'net_operating_expenditures_ytd': 1695662.47, 'fec_file_id': 'FEC-1225971', 'total_contribution_refunds_ytd': 3922221.21, 'other_political_committee_contributions_period': 0.0, 'offsets_to_operating_expenditures_period': 137270.58, 'amendment_indicator': 'N', 'other_fed_receipts_ytd': 21029.11, 'total_operating_expenditures_period': 643007.7, 'non_allocated_fed_election_activity_period': 0.0, 'total_fed_operating_expenditures_period': 643007.7, 'subtotal_summary_page_period': 92253237.92, 'beginning_image_number': '201804209110421611', 'debts_owed_to_committee': 0.0, 'transfers_from_nonfed_levin_ytd': 0.0, 'coordinated_expenditures_by_party_committee_period': 0.0, 'individual_itemized_contributions_period': 57825086.02, 'shared_fed_operating_expenditures_period': 0.0, 'report_form': 'Form 3X', 'calendar_ytd': 2018, 'loan_repayments_received_period': 0.0, 'allocated_federal_election_levin_share_period': 0.0, 'amendment_chain': [1225971.0], 'total_nonfed_transfers_ytd': 0.0, 'loans_made_ytd': 0.0, 'loan_repayments_made_ytd': 0.0, 'non_allocated_fed_election_activity_ytd': 0.0, 'transfers_from_nonfed_account_period': 0.0}, {'nonfed_share_allocated_disbursements_period': 0.0, 'cash_on_hand_end_period': 33561035.97, 'refunded_individual_contributions_period': 1183225.59, 'offsets_to_operating_expenditures_ytd': 439780.71, 'subtotal_summary_ytd': 106797277.37, 'coverage_end_date': '2018-02-28T00:00:00+00:00', 'net_contributions_period': 40749621.71, 'committee_type': 'W', 'total_disbursements_ytd': 73236241.4, 'is_amended': False, 'total_operating_expenditures_ytd': 1629706.06, 'transfers_to_affilitated_committees_ytd': 0.0, 'total_receipts_period': 42898014.77, 'cash_on_hand_close_ytd': 33561035.97, 'fed_candidate_committee_contributions_period': 39639078.91, 'all_loans_received_period': 0.0, 'report_type': 'M3', 'fec_url': 'http://docquery.fec.gov/dcdev/posted/1301107.fec', 'most_recent': True, 'total_fed_election_activity_period': 0.0, 'fed_candidate_committee_contribution_refunds_ytd': 1264373.46, 'loan_repayments_made_period': 0.0, 'refunded_political_party_committee_contributions_ytd': 0.0, 'total_fed_operating_expenditures_ytd': 1629706.06, 'shared_fed_operating_expenditures_ytd': 0.0, 'total_receipts_ytd': 76589104.02, 'document_description': 'MARCH MONTHLY 2018', 'transfers_from_affiliated_party_ytd': 0.0, 'total_individual_contributions_ytd': 74870551.97, 'csv_url': 'http://docquery.fec.gov/csv/107/1301107.csv', 'cash_on_hand_beginning_calendar_ytd': 30208173.35, 'fed_candidate_contribution_refunds_period': 630684.23, 'total_fed_disbursements_period': 41479692.57, 'transfers_to_affiliated_committee_period': 0.0, 'coordinated_expenditures_by_party_committee_ytd': 0.0, 'refunded_political_party_committee_contributions_period': 0.0, 'file_number': 1301107, 'total_contributions_period': 41932847.3, 'transfers_from_affiliated_party_period': 0.0, 'loans_made_period': 0.0, 'total_fed_receipts_period': 42898014.77, 'end_image_number': '201812139143352921', 'shared_fed_activity_nonfed_ytd': 0.0, 'total_fed_election_activity_ytd': 0.0, 'other_disbursements_period': 44859.0, 'previous_file_number': 1215697.0, 'other_disbursements_ytd': 103359.0, 'refunded_individual_contributions_ytd': 2295640.34, 'total_nonfed_transfers_period': 0.0, 'pdf_url': 'http://docquery.fec.gov/pdf/264/201812139142300264/201812139142300264.pdf', 'loan_repayments_received_ytd': 0.0, 'cycle': 2018, 'report_type_full': 'MARCH MONTHLY', 'transfers_from_nonfed_levin_period': 0.0, 'total_disbursements_period': 41479692.57, 'total_fed_receipts_ytd': 76589104.02, 'coverage_start_date': '2018-02-01T00:00:00+00:00', 'debts_owed_by_committee': 0.0, 'other_political_committee_contributions_ytd': 0.0, 'receipt_date': '2018-12-13T00:00:00', 'total_contribution_refunds_period': 1183225.59, 'net_operating_expenditures_period': 285277.09, 'shared_nonfed_operating_expenditures_ytd': 0.0, 'transfers_from_nonfed_account_ytd': 0.0, 'amendment_indicator_full': 'AMENDMENT', 'fed_candidate_committee_contributions_ytd': 69207536.0, 'report_year': 2018, 'committee_id': 'C00401224', 'individual_itemized_contributions_ytd': 74870551.97, 'other_fed_operating_expenditures_period': 612529.07, 'all_loans_received_ytd': 0.0, 'refunded_other_political_committee_contributions_period': 0.0, 'html_url': 'http://docquery.fec.gov/cgi-bin/forms/C00401224/1301107/', 'net_contributions_ytd': 72574911.63, 'means_filed': 'e-file', 'refunded_other_political_committee_contributions_ytd': 0.0, 'shared_nonfed_operating_expenditures_period': 0.0, 'political_party_committee_contributions_ytd': 0.0, 'cash_on_hand_beginning_period': 32787574.08, 'individual_unitemized_contributions_ytd': 0.0, 'shared_fed_activity_ytd': 0.0, 'other_fed_receipts_period': 7231.26, 'total_fed_disbursements_ytd': 73236241.4, 'individual_unitemized_contributions_period': 0.0, 'shared_fed_activity_period': 0.0, 'political_party_committee_contributions_period': 0.0, 'most_recent_file_number': 1301107.0, 'total_individual_contributions_period': 41932847.3, 'committee_name': 'ACTBLUE', 'independent_expenditures_period': 0.0, 'total_contributions_ytd': 74870551.97, 'independent_expenditures_ytd': 0.0, 'other_fed_operating_expenditures_ytd': 1629706.06, 'net_operating_expenditures_ytd': 1189925.35, 'fec_file_id': 'FEC-1301107', 'total_contribution_refunds_ytd': 2295640.34, 'other_political_committee_contributions_period': 0.0, 'offsets_to_operating_expenditures_period': 327251.98, 'amendment_indicator': 'A', 'other_fed_receipts_ytd': 14397.88, 'total_operating_expenditures_period': 612529.07, 'non_allocated_fed_election_activity_period': 0.0, 'total_fed_operating_expenditures_period': 612529.07, 'subtotal_summary_page_period': 75685588.85, 'beginning_image_number': '201812139142300264', 'debts_owed_to_committee': 0.0, 'transfers_from_nonfed_levin_ytd': 0.0, 'coordinated_expenditures_by_party_committee_period': 0.0, 'individual_itemized_contributions_period': 41932847.3, 'shared_fed_operating_expenditures_period': 0.0, 'report_form': 'Form 3X', 'calendar_ytd': 2018, 'loan_repayments_received_period': 0.0, 'allocated_federal_election_levin_share_period': 0.0, 'amendment_chain': [1215697.0, 1301107.0], 'total_nonfed_transfers_ytd': 0.0, 'loans_made_ytd': 0.0, 'loan_repayments_made_ytd': 0.0, 'non_allocated_fed_election_activity_ytd': 0.0, 'transfers_from_nonfed_account_period': 0.0}, {'nonfed_share_allocated_disbursements_period': 0.0, 'cash_on_hand_end_period': 34205896.28, 'refunded_individual_contributions_period': 1183225.59, 'offsets_to_operating_expenditures_ytd': 439780.71, 'subtotal_summary_ytd': 106797277.37, 'coverage_end_date': '2018-02-28T00:00:00+00:00', 'net_contributions_period': 40749621.71, 'committee_type': 'W', 'total_disbursements_ytd': 73236241.4, 'is_amended': True, 'total_operating_expenditures_ytd': 1629706.06, 'transfers_to_affilitated_committees_ytd': 0.0, 'total_receipts_period': 42898014.77, 'cash_on_hand_close_ytd': 33561035.97, 'fed_candidate_committee_contributions_period': 39639078.91, 'all_loans_received_period': 0.0, 'report_type': 'M3', 'fec_url': 'http://docquery.fec.gov/dcdev/posted/1215697.fec', 'most_recent': False, 'total_fed_election_activity_period': 0.0, 'fed_candidate_committee_contribution_refunds_ytd': 1264373.46, 'loan_repayments_made_period': 0.0, 'refunded_political_party_committee_contributions_ytd': 0.0, 'total_fed_operating_expenditures_ytd': 1629706.06, 'shared_fed_operating_expenditures_ytd': 0.0, 'total_receipts_ytd': 76589104.02, 'document_description': 'MARCH MONTHLY 2018', 'transfers_from_affiliated_party_ytd': 0.0, 'total_individual_contributions_ytd': 74870551.97, 'csv_url': 'http://docquery.fec.gov/csv/697/1215697.csv', 'cash_on_hand_beginning_calendar_ytd': 30208173.35, 'fed_candidate_contribution_refunds_period': 630684.23, 'total_fed_disbursements_period': 41479692.57, 'transfers_to_affiliated_committee_period': 0.0, 'coordinated_expenditures_by_party_committee_ytd': 0.0, 'refunded_political_party_committee_contributions_period': 0.0, 'file_number': 1215697, 'total_contributions_period': 41932847.3, 'transfers_from_affiliated_party_period': 0.0, 'loans_made_period': 0.0, 'total_fed_receipts_period': 42898014.77, 'end_image_number': '201803219097924705', 'shared_fed_activity_nonfed_ytd': 0.0, 'total_fed_election_activity_ytd': 0.0, 'other_disbursements_period': 44859.0, 'previous_file_number': 1215697.0, 'other_disbursements_ytd': 103359.0, 'refunded_individual_contributions_ytd': 2295640.34, 'total_nonfed_transfers_period': 0.0, 'pdf_url': 'http://docquery.fec.gov/pdf/048/201803219096872048/201803219096872048.pdf', 'loan_repayments_received_ytd': 0.0, 'cycle': 2018, 'report_type_full': 'MARCH MONTHLY', 'transfers_from_nonfed_levin_period': 0.0, 'total_disbursements_period': 41479692.57, 'total_fed_receipts_ytd': 76589104.02, 'coverage_start_date': '2018-02-01T00:00:00+00:00', 'debts_owed_by_committee': 0.0, 'other_political_committee_contributions_ytd': 0.0, 'receipt_date': '2018-03-21T00:00:00', 'total_contribution_refunds_period': 1183225.59, 'net_operating_expenditures_period': 285277.09, 'shared_nonfed_operating_expenditures_ytd': 0.0, 'transfers_from_nonfed_account_ytd': 0.0, 'amendment_indicator_full': 'NEW', 'fed_candidate_committee_contributions_ytd': 69207536.0, 'report_year': 2018, 'committee_id': 'C00401224', 'individual_itemized_contributions_ytd': 74870551.97, 'other_fed_operating_expenditures_period': 612529.07, 'all_loans_received_ytd': 0.0, 'refunded_other_political_committee_contributions_period': 0.0, 'html_url': 'http://docquery.fec.gov/cgi-bin/forms/C00401224/1215697/', 'net_contributions_ytd': 72574911.63, 'means_filed': 'e-file', 'refunded_other_political_committee_contributions_ytd': 0.0, 'shared_nonfed_operating_expenditures_period': 0.0, 'political_party_committee_contributions_ytd': 0.0, 'cash_on_hand_beginning_period': 32787574.08, 'individual_unitemized_contributions_ytd': 0.0, 'shared_fed_activity_ytd': 0.0, 'other_fed_receipts_period': 7231.26, 'total_fed_disbursements_ytd': 73236241.4, 'individual_unitemized_contributions_period': 0.0, 'shared_fed_activity_period': 0.0, 'political_party_committee_contributions_period': 0.0, 'most_recent_file_number': 1301107.0, 'total_individual_contributions_period': 41932847.3, 'committee_name': 'ACTBLUE', 'independent_expenditures_period': 0.0, 'total_contributions_ytd': 74870551.97, 'independent_expenditures_ytd': 0.0, 'other_fed_operating_expenditures_ytd': 1629706.06, 'net_operating_expenditures_ytd': 1189925.35, 'fec_file_id': 'FEC-1215697', 'total_contribution_refunds_ytd': 2295640.34, 'other_political_committee_contributions_period': 0.0, 'offsets_to_operating_expenditures_period': 327251.98, 'amendment_indicator': 'N', 'other_fed_receipts_ytd': 14397.88, 'total_operating_expenditures_period': 612529.07, 'non_allocated_fed_election_activity_period': 0.0, 'total_fed_operating_expenditures_period': 612529.07, 'subtotal_summary_page_period': 75685588.85, 'beginning_image_number': '201803219096872048', 'debts_owed_to_committee': 0.0, 'transfers_from_nonfed_levin_ytd': 0.0, 'coordinated_expenditures_by_party_committee_period': 0.0, 'individual_itemized_contributions_period': 41932847.3, 'shared_fed_operating_expenditures_period': 0.0, 'report_form': 'Form 3X', 'calendar_ytd': 2018, 'loan_repayments_received_period': 0.0, 'allocated_federal_election_levin_share_period': 0.0, 'amendment_chain': [1215697.0], 'total_nonfed_transfers_ytd': 0.0, 'loans_made_ytd': 0.0, 'loan_repayments_made_ytd': 0.0, 'non_allocated_fed_election_activity_ytd': 0.0, 'transfers_from_nonfed_account_period': 0.0}, {'nonfed_share_allocated_disbursements_period': 0.0, 'cash_on_hand_end_period': 33432434.39, 'refunded_individual_contributions_period': 1112414.75, 'offsets_to_operating_expenditures_ytd': 112528.73, 'subtotal_summary_ytd': 64544122.91, 'coverage_end_date': '2018-01-31T00:00:00+00:00', 'net_contributions_period': 31825289.92, 'committee_type': 'W', 'total_disbursements_ytd': 31111688.52, 'is_amended': True, 'total_operating_expenditures_ytd': 1017176.99, 'transfers_to_affilitated_committees_ytd': 0.0, 'total_receipts_period': 33691089.25, 'cash_on_hand_close_ytd': 33432434.39, 'fed_candidate_committee_contributions_period': 28923596.78, 'all_loans_received_period': 0.0, 'report_type': 'M2', 'fec_url': 'http://docquery.fec.gov/dcdev/posted/1210621.fec', 'most_recent': False, 'total_fed_election_activity_period': 0.0, 'fed_candidate_committee_contribution_refunds_ytd': 633689.23, 'loan_repayments_made_period': 0.0, 'refunded_political_party_committee_contributions_ytd': 0.0, 'total_fed_operating_expenditures_ytd': 1017176.99, 'shared_fed_operating_expenditures_ytd': 0.0, 'total_receipts_ytd': 33691089.25, 'document_description': 'FEBRUARY MONTHLY 2018', 'transfers_from_affiliated_party_ytd': 0.0, 'total_individual_contributions_ytd': 32937704.67, 'csv_url': 'http://docquery.fec.gov/csv/621/1210621.csv', 'cash_on_hand_beginning_calendar_ytd': 30853033.66, 'fed_candidate_contribution_refunds_period': 633689.23, 'total_fed_disbursements_period': 31111688.52, 'transfers_to_affiliated_committee_period': 0.0, 'coordinated_expenditures_by_party_committee_ytd': 0.0, 'refunded_political_party_committee_contributions_period': 0.0, 'file_number': 1210621, 'total_contributions_period': 32937704.67, 'transfers_from_affiliated_party_period': 0.0, 'loans_made_period': 0.0, 'total_fed_receipts_period': 33691089.25, 'end_image_number': '201802219095500723', 'shared_fed_activity_nonfed_ytd': 0.0, 'total_fed_election_activity_ytd': 0.0, 'other_disbursements_period': 58500.0, 'previous_file_number': 1210621.0, 'other_disbursements_ytd': 58500.0, 'refunded_individual_contributions_ytd': 1112414.75, 'total_nonfed_transfers_period': 0.0, 'pdf_url': 'http://docquery.fec.gov/pdf/325/201802219094645325/201802219094645325.pdf', 'loan_repayments_received_ytd': 0.0, 'cycle': 2018, 'report_type_full': 'FEBRUARY MONTHLY', 'transfers_from_nonfed_levin_period': 0.0, 'total_disbursements_period': 31111688.52, 'total_fed_receipts_ytd': 33691089.25, 'coverage_start_date': '2018-01-01T00:00:00+00:00', 'debts_owed_by_committee': 0.0, 'other_political_committee_contributions_ytd': 0.0, 'receipt_date': '2018-02-20T00:00:00', 'total_contribution_refunds_period': 1112414.75, 'net_operating_expenditures_period': 904648.26, 'shared_nonfed_operating_expenditures_ytd': 0.0, 'transfers_from_nonfed_account_ytd': 0.0, 'amendment_indicator_full': 'NEW', 'fed_candidate_committee_contributions_ytd': 28923596.78, 'report_year': 2018, 'committee_id': 'C00401224', 'individual_itemized_contributions_ytd': 32937704.67, 'other_fed_operating_expenditures_period': 1017176.99, 'all_loans_received_ytd': 0.0, 'refunded_other_political_committee_contributions_period': 0.0, 'html_url': 'http://docquery.fec.gov/cgi-bin/forms/C00401224/1210621/', 'net_contributions_ytd': 31825289.92, 'means_filed': 'e-file', 'refunded_other_political_committee_contributions_ytd': 0.0, 'shared_nonfed_operating_expenditures_period': 0.0, 'political_party_committee_contributions_ytd': 0.0, 'cash_on_hand_beginning_period': 30853033.66, 'individual_unitemized_contributions_ytd': 0.0, 'shared_fed_activity_ytd': 0.0, 'other_fed_receipts_period': 7166.62, 'total_fed_disbursements_ytd': 31111688.52, 'individual_unitemized_contributions_period': 0.0, 'shared_fed_activity_period': 0.0, 'political_party_committee_contributions_period': 0.0, 'most_recent_file_number': 1224404.0, 'total_individual_contributions_period': 32937704.67, 'committee_name': 'ACTBLUE', 'independent_expenditures_period': 0.0, 'total_contributions_ytd': 32937704.67, 'independent_expenditures_ytd': 0.0, 'other_fed_operating_expenditures_ytd': 1017176.99, 'net_operating_expenditures_ytd': 904648.26, 'fec_file_id': 'FEC-1210621', 'total_contribution_refunds_ytd': 1112414.75, 'other_political_committee_contributions_period': 0.0, 'offsets_to_operating_expenditures_period': 112528.73, 'amendment_indicator': 'N', 'other_fed_receipts_ytd': 7166.62, 'total_operating_expenditures_period': 1017176.99, 'non_allocated_fed_election_activity_period': 0.0, 'total_fed_operating_expenditures_period': 1017176.99, 'subtotal_summary_page_period': 64544122.91, 'beginning_image_number': '201802219094645325', 'debts_owed_to_committee': 0.0, 'transfers_from_nonfed_levin_ytd': 0.0, 'coordinated_expenditures_by_party_committee_period': 0.0, 'individual_itemized_contributions_period': 32937704.67, 'shared_fed_operating_expenditures_period': 0.0, 'report_form': 'Form 3X', 'calendar_ytd': 2018, 'loan_repayments_received_period': 0.0, 'allocated_federal_election_levin_share_period': 0.0, 'amendment_chain': [1210621.0], 'total_nonfed_transfers_ytd': 0.0, 'loans_made_ytd': 0.0, 'loan_repayments_made_ytd': 0.0, 'non_allocated_fed_election_activity_ytd': 0.0, 'transfers_from_nonfed_account_period': 0.0}, {'nonfed_share_allocated_disbursements_period': 0.0, 'cash_on_hand_end_period': 32787574.08, 'refunded_individual_contributions_period': 1112414.75, 'offsets_to_operating_expenditures_ytd': 112528.73, 'subtotal_summary_ytd': 64544122.91, 'coverage_end_date': '2018-01-31T00:00:00+00:00', 'net_contributions_period': 31825289.92, 'committee_type': 'W', 'total_disbursements_ytd': 31756548.83, 'is_amended': False, 'total_operating_expenditures_ytd': 1017176.99, 'transfers_to_affilitated_committees_ytd': 0.0, 'total_receipts_period': 33691089.25, 'cash_on_hand_close_ytd': 32787574.08, 'fed_candidate_committee_contributions_period': 28923596.78, 'all_loans_received_period': 0.0, 'report_type': 'M2', 'fec_url': 'http://docquery.fec.gov/dcdev/posted/1224404.fec', 'most_recent': True, 'total_fed_election_activity_period': 0.0, 'fed_candidate_committee_contribution_refunds_ytd': 633689.23, 'loan_repayments_made_period': 0.0, 'refunded_political_party_committee_contributions_ytd': 0.0, 'total_fed_operating_expenditures_ytd': 1017176.99, 'shared_fed_operating_expenditures_ytd': 0.0, 'total_receipts_ytd': 33691089.25, 'document_description': 'FEBRUARY MONTHLY 2018', 'transfers_from_affiliated_party_ytd': 0.0, 'total_individual_contributions_ytd': 32937704.67, 'csv_url': 'http://docquery.fec.gov/csv/404/1224404.csv', 'cash_on_hand_beginning_calendar_ytd': 30208173.35, 'fed_candidate_contribution_refunds_period': 633689.23, 'total_fed_disbursements_period': 31111688.52, 'transfers_to_affiliated_committee_period': 0.0, 'coordinated_expenditures_by_party_committee_ytd': 0.0, 'refunded_political_party_committee_contributions_period': 0.0, 'file_number': 1224404, 'total_contributions_period': 32937704.67, 'transfers_from_affiliated_party_period': 0.0, 'loans_made_period': 0.0, 'total_fed_receipts_period': 33691089.25, 'end_image_number': '201804179109128329', 'shared_fed_activity_nonfed_ytd': 0.0, 'total_fed_election_activity_ytd': 0.0, 'other_disbursements_period': 58500.0, 'previous_file_number': 1210621.0, 'other_disbursements_ytd': 58500.0, 'refunded_individual_contributions_ytd': 1112414.75, 'total_nonfed_transfers_period': 0.0, 'pdf_url': 'http://docquery.fec.gov/pdf/931/201804179108272931/201804179108272931.pdf', 'loan_repayments_received_ytd': 0.0, 'cycle': 2018, 'report_type_full': 'FEBRUARY MONTHLY', 'transfers_from_nonfed_levin_period': 0.0, 'total_disbursements_period': 31111688.52, 'total_fed_receipts_ytd': 33691089.25, 'coverage_start_date': '2018-01-01T00:00:00+00:00', 'debts_owed_by_committee': 0.0, 'other_political_committee_contributions_ytd': 0.0, 'receipt_date': '2018-04-17T00:00:00', 'total_contribution_refunds_period': 1112414.75, 'net_operating_expenditures_period': 904648.26, 'shared_nonfed_operating_expenditures_ytd': 0.0, 'transfers_from_nonfed_account_ytd': 0.0, 'amendment_indicator_full': 'AMENDMENT', 'fed_candidate_committee_contributions_ytd': 29568457.09, 'report_year': 2018, 'committee_id': 'C00401224', 'individual_itemized_contributions_ytd': 32937704.67, 'other_fed_operating_expenditures_period': 1017176.99, 'all_loans_received_ytd': 0.0, 'refunded_other_political_committee_contributions_period': 0.0, 'html_url': 'http://docquery.fec.gov/cgi-bin/forms/C00401224/1224404/', 'net_contributions_ytd': 31825289.92, 'means_filed': 'e-file', 'refunded_other_political_committee_contributions_ytd': 0.0, 'shared_nonfed_operating_expenditures_period': 0.0, 'political_party_committee_contributions_ytd': 0.0, 'cash_on_hand_beginning_period': 30208173.35, 'individual_unitemized_contributions_ytd': 0.0, 'shared_fed_activity_ytd': 0.0, 'other_fed_receipts_period': 7166.62, 'total_fed_disbursements_ytd': 31756548.83, 'individual_unitemized_contributions_period': 0.0, 'shared_fed_activity_period': 0.0, 'political_party_committee_contributions_period': 0.0, 'most_recent_file_number': 1224404.0, 'total_individual_contributions_period': 32937704.67, 'committee_name': 'ACTBLUE', 'independent_expenditures_period': 0.0, 'total_contributions_ytd': 32937704.67, 'independent_expenditures_ytd': 0.0, 'other_fed_operating_expenditures_ytd': 1017176.99, 'net_operating_expenditures_ytd': 904648.26, 'fec_file_id': 'FEC-1224404', 'total_contribution_refunds_ytd': 1112414.75, 'other_political_committee_contributions_period': 0.0, 'offsets_to_operating_expenditures_period': 112528.73, 'amendment_indicator': 'A', 'other_fed_receipts_ytd': 7166.62, 'total_operating_expenditures_period': 1017176.99, 'non_allocated_fed_election_activity_period': 0.0, 'total_fed_operating_expenditures_period': 1017176.99, 'subtotal_summary_page_period': 64544122.91, 'beginning_image_number': '201804179108272931', 'debts_owed_to_committee': 0.0, 'transfers_from_nonfed_levin_ytd': 0.0, 'coordinated_expenditures_by_party_committee_period': 0.0, 'individual_itemized_contributions_period': 32937704.67, 'shared_fed_operating_expenditures_period': 0.0, 'report_form': 'Form 3X', 'calendar_ytd': 2018, 'loan_repayments_received_period': 0.0, 'allocated_federal_election_levin_share_period': 0.0, 'amendment_chain': [1210621.0, 1224404.0], 'total_nonfed_transfers_ytd': 0.0, 'loans_made_ytd': 0.0, 'loan_repayments_made_ytd': 0.0, 'non_allocated_fed_election_activity_ytd': 0.0, 'transfers_from_nonfed_account_period': 0.0}, {'nonfed_share_allocated_disbursements_period': 0.0, 'cash_on_hand_end_period': 30208173.35, 'refunded_individual_contributions_period': 1437360.03, 'offsets_to_operating_expenditures_ytd': 1154799.6, 'subtotal_summary_ytd': 419337066.77, 'coverage_end_date': '2017-12-31T00:00:00+00:00', 'net_contributions_period': 49744501.69, 'committee_type': 'W', 'total_disbursements_ytd': 389128893.42, 'is_amended': False, 'total_operating_expenditures_ytd': 6292668.07, 'transfers_to_affilitated_committees_ytd': 0.0, 'total_receipts_period': 54951816.34, 'cash_on_hand_close_ytd': 30208173.35, 'fed_candidate_committee_contributions_period': 52071057.75, 'all_loans_received_period': 0.0, 'report_type': 'YE', 'fec_url': 'http://docquery.fec.gov/dcdev/posted/1224416.fec', 'most_recent': True, 'total_fed_election_activity_period': 0.0, 'fed_candidate_committee_contribution_refunds_ytd': 7193748.62, 'loan_repayments_made_period': 0.0, 'refunded_political_party_committee_contributions_ytd': 673.0, 'total_fed_operating_expenditures_ytd': 6292668.07, 'shared_fed_operating_expenditures_ytd': 0.0, 'total_receipts_ytd': 395265929.54, 'document_description': 'YEAR-END 2017', 'transfers_from_affiliated_party_ytd': 0.0, 'total_individual_contributions_ytd': 383829198.73, 'csv_url': 'http://docquery.fec.gov/csv/416/1224416.csv', 'cash_on_hand_beginning_calendar_ytd': 24071137.23, 'fed_candidate_contribution_refunds_period': 661729.84, 'total_fed_disbursements_period': 54104605.28, 'transfers_to_affiliated_committee_period': 0.0, 'coordinated_expenditures_by_party_committee_ytd': 0.0, 'refunded_political_party_committee_contributions_period': 0.0, 'file_number': 1224416, 'total_contributions_period': 51181861.72, 'transfers_from_affiliated_party_period': 0.0, 'loans_made_period': 0.0, 'total_fed_receipts_period': 54951816.34, 'end_image_number': '201804179110319269', 'shared_fed_activity_nonfed_ytd': 0.0, 'total_fed_election_activity_ytd': 0.0, 'other_disbursements_period': 40000.0, 'previous_file_number': 1205995.0, 'other_disbursements_ytd': 332992.45, 'refunded_individual_contributions_ytd': 13619014.01, 'total_nonfed_transfers_period': 0.0, 'pdf_url': 'http://docquery.fec.gov/pdf/791/201804179109128791/201804179109128791.pdf', 'loan_repayments_received_ytd': 3000000.0, 'cycle': 2018, 'report_type_full': 'YEAR-END', 'transfers_from_nonfed_levin_period': 0.0, 'total_disbursements_period': 54104605.28, 'total_fed_receipts_ytd': 395265929.54, 'coverage_start_date': '2017-12-01T00:00:00+00:00', 'debts_owed_by_committee': 0.0, 'other_political_committee_contributions_ytd': 0.0, 'receipt_date': '2018-04-17T00:00:00', 'total_contribution_refunds_period': 1437360.03, 'net_operating_expenditures_period': 456656.79, 'shared_nonfed_operating_expenditures_ytd': 0.0, 'transfers_from_nonfed_account_ytd': 0.0, 'amendment_indicator_full': 'AMENDMENT', 'fed_candidate_committee_contributions_ytd': 365883545.89, 'report_year': 2017, 'committee_id': 'C00401224', 'individual_itemized_contributions_ytd': 383829198.73, 'other_fed_operating_expenditures_period': 556187.5, 'all_loans_received_ytd': 0.0, 'refunded_other_political_committee_contributions_period': 0.0, 'html_url': 'http://docquery.fec.gov/cgi-bin/forms/C00401224/1224416/', 'net_contributions_ytd': 370209511.72, 'means_filed': 'e-file', 'refunded_other_political_committee_contributions_ytd': 0.0, 'shared_nonfed_operating_expenditures_period': 0.0, 'political_party_committee_contributions_ytd': 0.0, 'cash_on_hand_beginning_period': 29360962.29, 'individual_unitemized_contributions_ytd': 0.0, 'shared_fed_activity_ytd': 0.0, 'other_fed_receipts_period': 8694.07, 'total_fed_disbursements_ytd': 389128893.42, 'individual_unitemized_contributions_period': 0.0, 'shared_fed_activity_period': 0.0, 'political_party_committee_contributions_period': 0.0, 'most_recent_file_number': 1224416.0, 'total_individual_contributions_period': 51181861.72, 'committee_name': 'ACTBLUE', 'independent_expenditures_period': 0.0, 'total_contributions_ytd': 383829198.73, 'independent_expenditures_ytd': 0.0, 'other_fed_operating_expenditures_ytd': 6292668.07, 'net_operating_expenditures_ytd': 5137868.47, 'fec_file_id': 'FEC-1224416', 'total_contribution_refunds_ytd': 13619687.01, 'other_political_committee_contributions_period': 0.0, 'offsets_to_operating_expenditures_period': 99530.71, 'amendment_indicator': 'A', 'other_fed_receipts_ytd': 88182.59, 'total_operating_expenditures_period': 556187.5, 'non_allocated_fed_election_activity_period': 0.0, 'total_fed_operating_expenditures_period': 556187.5, 'subtotal_summary_page_period': 84957638.94, 'beginning_image_number': '201804179109128791', 'debts_owed_to_committee': 0.0, 'transfers_from_nonfed_levin_ytd': 0.0, 'coordinated_expenditures_by_party_committee_period': 0.0, 'individual_itemized_contributions_period': 51181861.72, 'shared_fed_operating_expenditures_period': 0.0, 'report_form': 'Form 3X', 'calendar_ytd': 2017, 'loan_repayments_received_period': 3000000.0, 'allocated_federal_election_levin_share_period': 0.0, 'amendment_chain': [1205995.0, 1224416.0], 'total_nonfed_transfers_ytd': 0.0, 'loans_made_ytd': 3000000.0, 'loan_repayments_made_ytd': 0.0, 'non_allocated_fed_election_activity_ytd': 0.0, 'transfers_from_nonfed_account_period': 0.0}, {'nonfed_share_allocated_disbursements_period': 0.0, 'cash_on_hand_end_period': 30853033.66, 'refunded_individual_contributions_period': 1437360.03, 'offsets_to_operating_expenditures_ytd': 1154799.6, 'subtotal_summary_ytd': 419337066.77, 'coverage_end_date': '2017-12-31T00:00:00+00:00', 'net_contributions_period': 49744501.69, 'committee_type': 'W', 'total_disbursements_ytd': 388484033.11, 'is_amended': True, 'total_operating_expenditures_ytd': 6292668.07, 'transfers_to_affilitated_committees_ytd': 0.0, 'total_receipts_period': 54951816.34, 'cash_on_hand_close_ytd': 30853033.66, 'fed_candidate_committee_contributions_period': 52071057.75, 'all_loans_received_period': 0.0, 'report_type': 'YE', 'fec_url': 'http://docquery.fec.gov/dcdev/posted/1205995.fec', 'most_recent': False, 'total_fed_election_activity_period': 0.0, 'fed_candidate_committee_contribution_refunds_ytd': 7193748.62, 'loan_repayments_made_period': 0.0, 'refunded_political_party_committee_contributions_ytd': 673.0, 'total_fed_operating_expenditures_ytd': 6292668.07, 'shared_fed_operating_expenditures_ytd': 0.0, 'total_receipts_ytd': 395265929.54, 'document_description': 'YEAR-END 2017', 'transfers_from_affiliated_party_ytd': 0.0, 'total_individual_contributions_ytd': 383829198.73, 'csv_url': 'http://docquery.fec.gov/csv/995/1205995.csv', 'cash_on_hand_beginning_calendar_ytd': 24071137.23, 'fed_candidate_contribution_refunds_period': 661729.84, 'total_fed_disbursements_period': 54104605.28, 'transfers_to_affiliated_committee_period': 0.0, 'coordinated_expenditures_by_party_committee_ytd': 0.0, 'refunded_political_party_committee_contributions_period': 0.0, 'file_number': 1205995, 'total_contributions_period': 51181861.72, 'transfers_from_affiliated_party_period': 0.0, 'loans_made_period': 0.0, 'total_fed_receipts_period': 54951816.34, 'end_image_number': '201802019092565833', 'shared_fed_activity_nonfed_ytd': 0.0, 'total_fed_election_activity_ytd': 0.0, 'other_disbursements_period': 40000.0, 'previous_file_number': 1205995.0, 'other_disbursements_ytd': 332992.45, 'refunded_individual_contributions_ytd': 13619014.01, 'total_nonfed_transfers_period': 0.0, 'pdf_url': 'http://docquery.fec.gov/pdf/355/201802019091375355/201802019091375355.pdf', 'loan_repayments_received_ytd': 3000000.0, 'cycle': 2018, 'report_type_full': 'YEAR-END', 'transfers_from_nonfed_levin_period': 0.0, 'total_disbursements_period': 54104605.28, 'total_fed_receipts_ytd': 395265929.54, 'coverage_start_date': '2017-12-01T00:00:00+00:00', 'debts_owed_by_committee': 0.0, 'other_political_committee_contributions_ytd': 0.0, 'receipt_date': '2018-01-31T00:00:00', 'total_contribution_refunds_period': 1437360.03, 'net_operating_expenditures_period': 456656.79, 'shared_nonfed_operating_expenditures_ytd': 0.0, 'transfers_from_nonfed_account_ytd': 0.0, 'amendment_indicator_full': 'NEW', 'fed_candidate_committee_contributions_ytd': 365238685.58, 'report_year': 2017, 'committee_id': 'C00401224', 'individual_itemized_contributions_ytd': 383829198.73, 'other_fed_operating_expenditures_period': 556187.5, 'all_loans_received_ytd': 0.0, 'refunded_other_political_committee_contributions_period': 0.0, 'html_url': 'http://docquery.fec.gov/cgi-bin/forms/C00401224/1205995/', 'net_contributions_ytd': 370209511.72, 'means_filed': 'e-file', 'refunded_other_political_committee_contributions_ytd': 0.0, 'shared_nonfed_operating_expenditures_period': 0.0, 'political_party_committee_contributions_ytd': 0.0, 'cash_on_hand_beginning_period': 30005822.6, 'individual_unitemized_contributions_ytd': 0.0, 'shared_fed_activity_ytd': 0.0, 'other_fed_receipts_period': 8694.07, 'total_fed_disbursements_ytd': 388484033.11, 'individual_unitemized_contributions_period': 0.0, 'shared_fed_activity_period': 0.0, 'political_party_committee_contributions_period': 0.0, 'most_recent_file_number': 1224416.0, 'total_individual_contributions_period': 51181861.72, 'committee_name': 'ACTBLUE', 'independent_expenditures_period': 0.0, 'total_contributions_ytd': 383829198.73, 'independent_expenditures_ytd': 0.0, 'other_fed_operating_expenditures_ytd': 6292668.07, 'net_operating_expenditures_ytd': 5137868.47, 'fec_file_id': 'FEC-1205995', 'total_contribution_refunds_ytd': 13619687.01, 'other_political_committee_contributions_period': 0.0, 'offsets_to_operating_expenditures_period': 99530.71, 'amendment_indicator': 'N', 'other_fed_receipts_ytd': 88182.59, 'total_operating_expenditures_period': 556187.5, 'non_allocated_fed_election_activity_period': 0.0, 'total_fed_operating_expenditures_period': 556187.5, 'subtotal_summary_page_period': 84957638.94, 'beginning_image_number': '201802019091375355', 'debts_owed_to_committee': 0.0, 'transfers_from_nonfed_levin_ytd': 0.0, 'coordinated_expenditures_by_party_committee_period': 0.0, 'individual_itemized_contributions_period': 51181861.72, 'shared_fed_operating_expenditures_period': 0.0, 'report_form': 'Form 3X', 'calendar_ytd': 2017, 'loan_repayments_received_period': 3000000.0, 'allocated_federal_election_levin_share_period': 0.0, 'amendment_chain': [1205995.0], 'total_nonfed_transfers_ytd': 0.0, 'loans_made_ytd': 3000000.0, 'loan_repayments_made_ytd': 0.0, 'non_allocated_fed_election_activity_ytd': 0.0, 'transfers_from_nonfed_account_period': 0.0}, {'nonfed_share_allocated_disbursements_period': 0.0, 'cash_on_hand_end_period': 29360962.29, 'refunded_individual_contributions_period': 1092487.67, 'offsets_to_operating_expenditures_ytd': 1055268.89, 'subtotal_summary_ytd': 364385250.43, 'coverage_end_date': '2017-11-30T00:00:00+00:00', 'net_contributions_period': 35087831.15, 'committee_type': 'W', 'total_disbursements_ytd': 335024288.14, 'is_amended': False, 'total_operating_expenditures_ytd': 5736480.57, 'transfers_to_affilitated_committees_ytd': 0.0, 'total_receipts_period': 36813170.95, 'cash_on_hand_close_ytd': 29360962.29, 'fed_candidate_committee_contributions_period': 33163557.28, 'all_loans_received_period': 0.0, 'report_type': 'M12', 'fec_url': 'http://docquery.fec.gov/dcdev/posted/1219434.fec', 'most_recent': True, 'total_fed_election_activity_period': 0.0, 'fed_candidate_committee_contribution_refunds_ytd': 6532018.78, 'loan_repayments_made_period': 0.0, 'refunded_political_party_committee_contributions_ytd': 673.0, 'total_fed_operating_expenditures_ytd': 5736480.57, 'shared_fed_operating_expenditures_ytd': 0.0, 'total_receipts_ytd': 340314113.2, 'document_description': 'DECEMBER MONTHLY 2017', 'transfers_from_affiliated_party_ytd': 0.0, 'total_individual_contributions_ytd': 332647337.01, 'csv_url': 'http://docquery.fec.gov/csv/434/1219434.csv', 'cash_on_hand_beginning_calendar_ytd': 24071137.23, 'fed_candidate_contribution_refunds_period': 505919.06, 'total_fed_disbursements_period': 34772870.41, 'transfers_to_affiliated_committee_period': 0.0, 'coordinated_expenditures_by_party_committee_ytd': 0.0, 'refunded_political_party_committee_contributions_period': 0.0, 'file_number': 1219434, 'total_contributions_period': 36180318.82, 'transfers_from_affiliated_party_period': 0.0, 'loans_made_period': 0.0, 'total_fed_receipts_period': 36813170.95, 'end_image_number': '201804129107986656', 'shared_fed_activity_nonfed_ytd': 0.0, 'total_fed_election_activity_ytd': 0.0, 'other_disbursements_period': 32500.0, 'previous_file_number': 1195200.0, 'other_disbursements_ytd': 292992.45, 'refunded_individual_contributions_ytd': 12181653.98, 'total_nonfed_transfers_period': 0.0, 'pdf_url': 'http://docquery.fec.gov/pdf/956/201804129107073956/201804129107073956.pdf', 'loan_repayments_received_ytd': 0.0, 'cycle': 2018, 'report_type_full': 'DECEMBER MONTHLY', 'transfers_from_nonfed_levin_period': 0.0, 'total_disbursements_period': 34772870.41, 'total_fed_receipts_ytd': 340314113.2, 'coverage_start_date': '2017-11-01T00:00:00+00:00', 'debts_owed_by_committee': 0.0, 'other_political_committee_contributions_ytd': 0.0, 'receipt_date': '2018-04-12T00:00:00', 'total_contribution_refunds_period': 1092487.67, 'net_operating_expenditures_period': 364546.29, 'shared_nonfed_operating_expenditures_ytd': 0.0, 'transfers_from_nonfed_account_ytd': 0.0, 'amendment_indicator_full': 'AMENDMENT', 'fed_candidate_committee_contributions_ytd': 313812488.14, 'report_year': 2017, 'committee_id': 'C00401224', 'individual_itemized_contributions_ytd': 332647337.01, 'other_fed_operating_expenditures_period': 484325.46, 'all_loans_received_ytd': 0.0, 'refunded_other_political_committee_contributions_period': 0.0, 'html_url': 'http://docquery.fec.gov/cgi-bin/forms/C00401224/1219434/', 'net_contributions_ytd': 320465010.03, 'means_filed': 'e-file', 'refunded_other_political_committee_contributions_ytd': 0.0, 'shared_nonfed_operating_expenditures_period': 0.0, 'political_party_committee_contributions_ytd': 0.0, 'cash_on_hand_beginning_period': 27320661.75, 'individual_unitemized_contributions_ytd': 0.0, 'shared_fed_activity_ytd': 0.0, 'other_fed_receipts_period': 7153.9, 'total_fed_disbursements_ytd': 335024288.14, 'individual_unitemized_contributions_period': 0.0, 'shared_fed_activity_period': 0.0, 'political_party_committee_contributions_period': 0.0, 'most_recent_file_number': 1219434.0, 'total_individual_contributions_period': 36180318.82, 'committee_name': 'ACTBLUE', 'independent_expenditures_period': 0.0, 'total_contributions_ytd': 332647337.01, 'independent_expenditures_ytd': 0.0, 'other_fed_operating_expenditures_ytd': 5736480.57, 'net_operating_expenditures_ytd': 4681211.68, 'fec_file_id': 'FEC-1219434', 'total_contribution_refunds_ytd': 12182326.98, 'other_political_committee_contributions_period': 0.0, 'offsets_to_operating_expenditures_period': 119779.17, 'amendment_indicator': 'A', 'other_fed_receipts_ytd': 79488.52, 'total_operating_expenditures_period': 484325.46, 'non_allocated_fed_election_activity_period': 0.0, 'total_fed_operating_expenditures_period': 484325.46, 'subtotal_summary_page_period': 64778693.01, 'beginning_image_number': '201804129107073956', 'debts_owed_to_committee': 3000000.0, 'transfers_from_nonfed_levin_ytd': 0.0, 'coordinated_expenditures_by_party_committee_period': 0.0, 'individual_itemized_contributions_period': 36180318.82, 'shared_fed_operating_expenditures_period': 0.0, 'report_form': 'Form 3X', 'calendar_ytd': 2017, 'loan_repayments_received_period': 0.0, 'allocated_federal_election_levin_share_period': 0.0, 'amendment_chain': [1195200.0, 1219434.0], 'total_nonfed_transfers_ytd': 0.0, 'loans_made_ytd': 3000000.0, 'loan_repayments_made_ytd': 0.0, 'non_allocated_fed_election_activity_ytd': 0.0, 'transfers_from_nonfed_account_period': 0.0}, {'nonfed_share_allocated_disbursements_period': 0.0, 'cash_on_hand_end_period': 30005822.6, 'refunded_individual_contributions_period': 1092487.67, 'offsets_to_operating_expenditures_ytd': 1055268.89, 'subtotal_summary_ytd': 364385250.43, 'coverage_end_date': '2017-11-30T00:00:00+00:00', 'net_contributions_period': 35087831.15, 'committee_type': 'W', 'total_disbursements_ytd': 334379427.83, 'is_amended': True, 'total_operating_expenditures_ytd': 5736480.57, 'transfers_to_affilitated_committees_ytd': 0.0, 'total_receipts_period': 36813170.95, 'cash_on_hand_close_ytd': 30005822.6, 'fed_candidate_committee_contributions_period': 33163557.28, 'all_loans_received_period': 0.0, 'report_type': 'M12', 'fec_url': 'http://docquery.fec.gov/dcdev/posted/1195200.fec', 'most_recent': False, 'total_fed_election_activity_period': 0.0, 'fed_candidate_committee_contribution_refunds_ytd': 6532018.78, 'loan_repayments_made_period': 0.0, 'refunded_political_party_committee_contributions_ytd': 673.0, 'total_fed_operating_expenditures_ytd': 5736480.57, 'shared_fed_operating_expenditures_ytd': 0.0, 'total_receipts_ytd': 340314113.2, 'document_description': 'DECEMBER MONTHLY 2017', 'transfers_from_affiliated_party_ytd': 0.0, 'total_individual_contributions_ytd': 332647337.01, 'csv_url': 'http://docquery.fec.gov/csv/200/1195200.csv', 'cash_on_hand_beginning_calendar_ytd': 24071137.23, 'fed_candidate_contribution_refunds_period': 505919.06, 'total_fed_disbursements_period': 34772870.41, 'transfers_to_affiliated_committee_period': 0.0, 'coordinated_expenditures_by_party_committee_ytd': 0.0, 'refunded_political_party_committee_contributions_period': 0.0, 'file_number': 1195200, 'total_contributions_period': 36180318.82, 'transfers_from_affiliated_party_period': 0.0, 'loans_made_period': 0.0, 'total_fed_receipts_period': 36813170.95, 'end_image_number': '201712219090329278', 'shared_fed_activity_nonfed_ytd': 0.0, 'total_fed_election_activity_ytd': 0.0, 'other_disbursements_period': 32500.0, 'previous_file_number': 1195200.0, 'other_disbursements_ytd': 292992.45, 'refunded_individual_contributions_ytd': 12181653.98, 'total_nonfed_transfers_period': 0.0, 'pdf_url': 'http://docquery.fec.gov/pdf/578/201712219089416578/201712219089416578.pdf', 'loan_repayments_received_ytd': 0.0, 'cycle': 2018, 'report_type_full': 'DECEMBER MONTHLY', 'transfers_from_nonfed_levin_period': 0.0, 'total_disbursements_period': 34772870.41, 'total_fed_receipts_ytd': 340314113.2, 'coverage_start_date': '2017-11-01T00:00:00+00:00', 'debts_owed_by_committee': 0.0, 'other_political_committee_contributions_ytd': 0.0, 'receipt_date': '2017-12-20T00:00:00', 'total_contribution_refunds_period': 1092487.67, 'net_operating_expenditures_period': 364546.29, 'shared_nonfed_operating_expenditures_ytd': 0.0, 'transfers_from_nonfed_account_ytd': 0.0, 'amendment_indicator_full': 'NEW', 'fed_candidate_committee_contributions_ytd': 313167627.83, 'report_year': 2017, 'committee_id': 'C00401224', 'individual_itemized_contributions_ytd': 332647337.01, 'other_fed_operating_expenditures_period': 484325.46, 'all_loans_received_ytd': 0.0, 'refunded_other_political_committee_contributions_period': 0.0, 'html_url': 'http://docquery.fec.gov/cgi-bin/forms/C00401224/1195200/', 'net_contributions_ytd': 320465010.03, 'means_filed': 'e-file', 'refunded_other_political_committee_contributions_ytd': 0.0, 'shared_nonfed_operating_expenditures_period': 0.0, 'political_party_committee_contributions_ytd': 0.0, 'cash_on_hand_beginning_period': 27965522.06, 'individual_unitemized_contributions_ytd': 0.0, 'shared_fed_activity_ytd': 0.0, 'other_fed_receipts_period': 7153.9, 'total_fed_disbursements_ytd': 334379427.83, 'individual_unitemized_contributions_period': 0.0, 'shared_fed_activity_period': 0.0, 'political_party_committee_contributions_period': 0.0, 'most_recent_file_number': 1219434.0, 'total_individual_contributions_period': 36180318.82, 'committee_name': 'ACTBLUE', 'independent_expenditures_period': 0.0, 'total_contributions_ytd': 332647337.01, 'independent_expenditures_ytd': 0.0, 'other_fed_operating_expenditures_ytd': 5736480.57, 'net_operating_expenditures_ytd': 4681211.68, 'fec_file_id': 'FEC-1195200', 'total_contribution_refunds_ytd': 12182326.98, 'other_political_committee_contributions_period': 0.0, 'offsets_to_operating_expenditures_period': 119779.17, 'amendment_indicator': 'N', 'other_fed_receipts_ytd': 79488.52, 'total_operating_expenditures_period': 484325.46, 'non_allocated_fed_election_activity_period': 0.0, 'total_fed_operating_expenditures_period': 484325.46, 'subtotal_summary_page_period': 64778693.01, 'beginning_image_number': '201712219089416578', 'debts_owed_to_committee': 3000000.0, 'transfers_from_nonfed_levin_ytd': 0.0, 'coordinated_expenditures_by_party_committee_period': 0.0, 'individual_itemized_contributions_period': 36180318.82, 'shared_fed_operating_expenditures_period': 0.0, 'report_form': 'Form 3X', 'calendar_ytd': 2017, 'loan_repayments_received_period': 0.0, 'allocated_federal_election_levin_share_period': 0.0, 'amendment_chain': [1195200.0], 'total_nonfed_transfers_ytd': 0.0, 'loans_made_ytd': 3000000.0, 'loan_repayments_made_ytd': 0.0, 'non_allocated_fed_election_activity_ytd': 0.0, 'transfers_from_nonfed_account_period': 0.0}, {'nonfed_share_allocated_disbursements_period': 0.0, 'cash_on_hand_end_period': 27965522.06, 'refunded_individual_contributions_period': 1095820.96, 'offsets_to_operating_expenditures_ytd': 935489.72, 'subtotal_summary_ytd': 327572079.48, 'coverage_end_date': '2017-10-31T00:00:00+00:00', 'net_contributions_period': 28245480.2, 'committee_type': 'W', 'total_disbursements_ytd': 299606557.42, 'is_amended': True, 'total_operating_expenditures_ytd': 5252155.11, 'transfers_to_affilitated_committees_ytd': 0.0, 'total_receipts_period': 29938034.13, 'cash_on_hand_close_ytd': 27965522.06, 'fed_candidate_committee_contributions_period': 26805659.85, 'all_loans_received_period': 0.0, 'report_type': 'M11', 'fec_url': 'http://docquery.fec.gov/dcdev/posted/1192286.fec', 'most_recent': False, 'total_fed_election_activity_period': 0.0, 'fed_candidate_committee_contribution_refunds_ytd': 6026099.72, 'loan_repayments_made_period': 0.0, 'refunded_political_party_committee_contributions_ytd': 673.0, 'total_fed_operating_expenditures_ytd': 5252155.11, 'shared_fed_operating_expenditures_ytd': 0.0, 'total_receipts_ytd': 303500942.25, 'document_description': 'NOVEMBER MONTHLY 2017', 'transfers_from_affiliated_party_ytd': 0.0, 'total_individual_contributions_ytd': 296467018.19, 'csv_url': 'http://docquery.fec.gov/csv/286/1192286.csv', 'cash_on_hand_beginning_calendar_ytd': 24071137.23, 'fed_candidate_contribution_refunds_period': 491952.11, 'total_fed_disbursements_period': 31563407.88, 'transfers_to_affiliated_committee_period': 0.0, 'coordinated_expenditures_by_party_committee_ytd': 0.0, 'refunded_political_party_committee_contributions_period': 543.0, 'file_number': 1192286, 'total_contributions_period': 29341844.16, 'transfers_from_affiliated_party_period': 0.0, 'loans_made_period': 3000000.0, 'total_fed_receipts_period': 29938034.13, 'end_image_number': '201711219087653919', 'shared_fed_activity_nonfed_ytd': 0.0, 'total_fed_election_activity_ytd': 0.0, 'other_disbursements_period': 13000.0, 'previous_file_number': 1192286.0, 'other_disbursements_ytd': 260492.45, 'refunded_individual_contributions_ytd': 11089166.31, 'total_nonfed_transfers_period': 0.0, 'pdf_url': 'http://docquery.fec.gov/pdf/459/201711219086869459/201711219086869459.pdf', 'loan_repayments_received_ytd': 0.0, 'cycle': 2018, 'report_type_full': 'NOVEMBER MONTHLY', 'transfers_from_nonfed_levin_period': 0.0, 'total_disbursements_period': 31563407.88, 'total_fed_receipts_ytd': 303500942.25, 'coverage_start_date': '2017-10-01T00:00:00+00:00', 'debts_owed_by_committee': 0.0, 'other_political_committee_contributions_ytd': 0.0, 'receipt_date': '2017-11-20T00:00:00', 'total_contribution_refunds_period': 1096363.96, 'net_operating_expenditures_period': 551025.66, 'shared_nonfed_operating_expenditures_ytd': 0.0, 'transfers_from_nonfed_account_ytd': 0.0, 'amendment_indicator_full': 'NEW', 'fed_candidate_committee_contributions_ytd': 280004070.55, 'report_year': 2017, 'committee_id': 'C00401224', 'individual_itemized_contributions_ytd': 296467018.19, 'other_fed_operating_expenditures_period': 648384.07, 'all_loans_received_ytd': 0.0, 'refunded_other_political_committee_contributions_period': 0.0, 'html_url': 'http://docquery.fec.gov/cgi-bin/forms/C00401224/1192286/', 'net_contributions_ytd': 285377178.88, 'means_filed': 'e-file', 'refunded_other_political_committee_contributions_ytd': 0.0, 'shared_nonfed_operating_expenditures_period': 0.0, 'political_party_committee_contributions_ytd': 0.0, 'cash_on_hand_beginning_period': 29590895.81, 'individual_unitemized_contributions_ytd': 0.0, 'shared_fed_activity_ytd': 0.0, 'other_fed_receipts_period': 6879.45, 'total_fed_disbursements_ytd': 299606557.42, 'individual_unitemized_contributions_period': 0.0, 'shared_fed_activity_period': 0.0, 'political_party_committee_contributions_period': 0.0, 'most_recent_file_number': 1219420.0, 'total_individual_contributions_period': 29341844.16, 'committee_name': 'ACTBLUE', 'independent_expenditures_period': 0.0, 'total_contributions_ytd': 296467018.19, 'independent_expenditures_ytd': 0.0, 'other_fed_operating_expenditures_ytd': 5252155.11, 'net_operating_expenditures_ytd': 4316665.39, 'fec_file_id': 'FEC-1192286', 'total_contribution_refunds_ytd': 11089839.31, 'other_political_committee_contributions_period': 0.0, 'offsets_to_operating_expenditures_period': 97358.41, 'amendment_indicator': 'N', 'other_fed_receipts_ytd': 72334.62, 'total_operating_expenditures_period': 648384.07, 'non_allocated_fed_election_activity_period': 0.0, 'total_fed_operating_expenditures_period': 648384.07, 'subtotal_summary_page_period': 59528929.94, 'beginning_image_number': '201711219086869459', 'debts_owed_to_committee': 3000000.0, 'transfers_from_nonfed_levin_ytd': 0.0, 'coordinated_expenditures_by_party_committee_period': 0.0, 'individual_itemized_contributions_period': 29341844.16, 'shared_fed_operating_expenditures_period': 0.0, 'report_form': 'Form 3X', 'calendar_ytd': 2017, 'loan_repayments_received_period': 0.0, 'allocated_federal_election_levin_share_period': 0.0, 'amendment_chain': [1192286.0], 'total_nonfed_transfers_ytd': 0.0, 'loans_made_ytd': 3000000.0, 'loan_repayments_made_ytd': 0.0, 'non_allocated_fed_election_activity_ytd': 0.0, 'transfers_from_nonfed_account_period': 0.0}, {'nonfed_share_allocated_disbursements_period': 0.0, 'cash_on_hand_end_period': 27320661.75, 'refunded_individual_contributions_period': 1095820.96, 'offsets_to_operating_expenditures_ytd': 935489.72, 'subtotal_summary_ytd': 327572079.48, 'coverage_end_date': '2017-10-31T00:00:00+00:00', 'net_contributions_period': 28245480.2, 'committee_type': 'W', 'total_disbursements_ytd': 300251417.73, 'is_amended': False, 'total_operating_expenditures_ytd': 5252155.11, 'transfers_to_affilitated_committees_ytd': 0.0, 'total_receipts_period': 29938034.13, 'cash_on_hand_close_ytd': 27320661.75, 'fed_candidate_committee_contributions_period': 26805659.85, 'all_loans_received_period': 0.0, 'report_type': 'M11', 'fec_url': 'http://docquery.fec.gov/dcdev/posted/1219420.fec', 'most_recent': True, 'total_fed_election_activity_period': 0.0, 'fed_candidate_committee_contribution_refunds_ytd': 6026099.72, 'loan_repayments_made_period': 0.0, 'refunded_political_party_committee_contributions_ytd': 673.0, 'total_fed_operating_expenditures_ytd': 5252155.11, 'shared_fed_operating_expenditures_ytd': 0.0, 'total_receipts_ytd': 303500942.25, 'document_description': 'NOVEMBER MONTHLY 2017', 'transfers_from_affiliated_party_ytd': 0.0, 'total_individual_contributions_ytd': 296467018.19, 'csv_url': 'http://docquery.fec.gov/csv/420/1219420.csv', 'cash_on_hand_beginning_calendar_ytd': 24071137.23, 'fed_candidate_contribution_refunds_period': 491952.11, 'total_fed_disbursements_period': 31563407.88, 'transfers_to_affiliated_committee_period': 0.0, 'coordinated_expenditures_by_party_committee_ytd': 0.0, 'refunded_political_party_committee_contributions_period': 543.0, 'file_number': 1219420, 'total_contributions_period': 29341844.16, 'transfers_from_affiliated_party_period': 0.0, 'loans_made_period': 3000000.0, 'total_fed_receipts_period': 29938034.13, 'end_image_number': '201804129107073300', 'shared_fed_activity_nonfed_ytd': 0.0, 'total_fed_election_activity_ytd': 0.0, 'other_disbursements_period': 13000.0, 'previous_file_number': 1192286.0, 'other_disbursements_ytd': 260492.45, 'refunded_individual_contributions_ytd': 11089166.31, 'total_nonfed_transfers_period': 0.0, 'pdf_url': 'http://docquery.fec.gov/pdf/840/201804129106288840/201804129106288840.pdf', 'loan_repayments_received_ytd': 0.0, 'cycle': 2018, 'report_type_full': 'NOVEMBER MONTHLY', 'transfers_from_nonfed_levin_period': 0.0, 'total_disbursements_period': 31563407.88, 'total_fed_receipts_ytd': 303500942.25, 'coverage_start_date': '2017-10-01T00:00:00+00:00', 'debts_owed_by_committee': 0.0, 'other_political_committee_contributions_ytd': 0.0, 'receipt_date': '2018-04-12T00:00:00', 'total_contribution_refunds_period': 1096363.96, 'net_operating_expenditures_period': 551025.66, 'shared_nonfed_operating_expenditures_ytd': 0.0, 'transfers_from_nonfed_account_ytd': 0.0, 'amendment_indicator_full': 'AMENDMENT', 'fed_candidate_committee_contributions_ytd': 280648930.86, 'report_year': 2017, 'committee_id': 'C00401224', 'individual_itemized_contributions_ytd': 296467018.19, 'other_fed_operating_expenditures_period': 648384.07, 'all_loans_received_ytd': 0.0, 'refunded_other_political_committee_contributions_period': 0.0, 'html_url': 'http://docquery.fec.gov/cgi-bin/forms/C00401224/1219420/', 'net_contributions_ytd': 285377178.88, 'means_filed': 'e-file', 'refunded_other_political_committee_contributions_ytd': 0.0, 'shared_nonfed_operating_expenditures_period': 0.0, 'political_party_committee_contributions_ytd': 0.0, 'cash_on_hand_beginning_period': 28946035.5, 'individual_unitemized_contributions_ytd': 0.0, 'shared_fed_activity_ytd': 0.0, 'other_fed_receipts_period': 6879.45, 'total_fed_disbursements_ytd': 300251417.73, 'individual_unitemized_contributions_period': 0.0, 'shared_fed_activity_period': 0.0, 'political_party_committee_contributions_period': 0.0, 'most_recent_file_number': 1219420.0, 'total_individual_contributions_period': 29341844.16, 'committee_name': 'ACTBLUE', 'independent_expenditures_period': 0.0, 'total_contributions_ytd': 296467018.19, 'independent_expenditures_ytd': 0.0, 'other_fed_operating_expenditures_ytd': 5252155.11, 'net_operating_expenditures_ytd': 4316665.39, 'fec_file_id': 'FEC-1219420', 'total_contribution_refunds_ytd': 11089839.31, 'other_political_committee_contributions_period': 0.0, 'offsets_to_operating_expenditures_period': 97358.41, 'amendment_indicator': 'A', 'other_fed_receipts_ytd': 72334.62, 'total_operating_expenditures_period': 648384.07, 'non_allocated_fed_election_activity_period': 0.0, 'total_fed_operating_expenditures_period': 648384.07, 'subtotal_summary_page_period': 59528929.94, 'beginning_image_number': '201804129106288840', 'debts_owed_to_committee': 3000000.0, 'transfers_from_nonfed_levin_ytd': 0.0, 'coordinated_expenditures_by_party_committee_period': 0.0, 'individual_itemized_contributions_period': 29341844.16, 'shared_fed_operating_expenditures_period': 0.0, 'report_form': 'Form 3X', 'calendar_ytd': 2017, 'loan_repayments_received_period': 0.0, 'allocated_federal_election_levin_share_period': 0.0, 'amendment_chain': [1192286.0, 1219420.0], 'total_nonfed_transfers_ytd': 0.0, 'loans_made_ytd': 3000000.0, 'loan_repayments_made_ytd': 0.0, 'non_allocated_fed_election_activity_ytd': 0.0, 'transfers_from_nonfed_account_period': 0.0}], 'pagination': {'page': 1, 'count': 50, 'per_page': 20, 'pages': 3}}\n"
          ],
          "name": "stdout"
        }
      ]
    },
    {
      "cell_type": "code",
      "metadata": {
        "id": "uIAlsSC5AEhO",
        "colab_type": "code",
        "colab": {}
      },
      "source": [
        "import pandas as pd\n",
        " \n",
        "df = pd.DataFrame({'key1': [], 'date': [], 'money': []})\n",
        "for element in data[\"results\"]:\n",
        "    df = df.append({'date': element[\"coverage_end_date\"], 'money': element[\"total_receipts_period\"]}, ignore_index=True)"
      ],
      "execution_count": 0,
      "outputs": []
    },
    {
      "cell_type": "code",
      "metadata": {
        "id": "MTDSoh6MbqMS",
        "colab_type": "code",
        "colab": {}
      },
      "source": [
        "time = []\n",
        "money = []\n",
        "\n",
        "for element in data[\"results\"]:\n",
        "  time.append(element[\"coverage_end_date\"].split('T')[0])\n",
        "  money.append(int(element[\"total_receipts_period\"]))"
      ],
      "execution_count": 0,
      "outputs": []
    },
    {
      "cell_type": "code",
      "metadata": {
        "id": "CknWWlZhH_jV",
        "colab_type": "code",
        "colab": {}
      },
      "source": [
        "df[\"date\"] = pd.to_datetime(df['date']) \n",
        "df[\"money\"] = pd.to_numeric(df[\"money\"])"
      ],
      "execution_count": 0,
      "outputs": []
    },
    {
      "cell_type": "code",
      "metadata": {
        "id": "zg7-o0Qgfj7B",
        "colab_type": "code",
        "outputId": "d987b6c8-5ab0-4f40-e8ff-ad348e504c21",
        "colab": {
          "base_uri": "https://localhost:8080/",
          "height": 357
        }
      },
      "source": [
        "time"
      ],
      "execution_count": 0,
      "outputs": [
        {
          "output_type": "execute_result",
          "data": {
            "text/plain": [
              "['2018-12-31',\n",
              " '2018-11-26',\n",
              " '2018-10-17',\n",
              " '2018-09-30',\n",
              " '2018-08-31',\n",
              " '2018-07-31',\n",
              " '2018-06-30',\n",
              " '2018-05-31',\n",
              " '2018-04-30',\n",
              " '2018-03-31',\n",
              " '2018-02-28',\n",
              " '2018-02-28',\n",
              " '2018-01-31',\n",
              " '2018-01-31',\n",
              " '2017-12-31',\n",
              " '2017-12-31',\n",
              " '2017-11-30',\n",
              " '2017-11-30',\n",
              " '2017-10-31',\n",
              " '2017-10-31']"
            ]
          },
          "metadata": {
            "tags": []
          },
          "execution_count": 69
        }
      ]
    },
    {
      "cell_type": "code",
      "metadata": {
        "id": "efhYMa6Rc-pi",
        "colab_type": "code",
        "colab": {}
      },
      "source": [
        "import datetime as dt\n",
        "dates_list = [dt.datetime.strptime(ti, \"%Y-%m-%d\").date() for ti in time]\n"
      ],
      "execution_count": 0,
      "outputs": []
    },
    {
      "cell_type": "code",
      "metadata": {
        "id": "am8FWPrWgYHw",
        "colab_type": "code",
        "outputId": "1ed70b9a-028d-4789-9c2e-c028ab1a9ea3",
        "colab": {
          "base_uri": "https://localhost:8080/",
          "height": 357
        }
      },
      "source": [
        "dates_list"
      ],
      "execution_count": 0,
      "outputs": [
        {
          "output_type": "execute_result",
          "data": {
            "text/plain": [
              "[datetime.date(2018, 12, 31),\n",
              " datetime.date(2018, 11, 26),\n",
              " datetime.date(2018, 10, 17),\n",
              " datetime.date(2018, 9, 30),\n",
              " datetime.date(2018, 8, 31),\n",
              " datetime.date(2018, 7, 31),\n",
              " datetime.date(2018, 6, 30),\n",
              " datetime.date(2018, 5, 31),\n",
              " datetime.date(2018, 4, 30),\n",
              " datetime.date(2018, 3, 31),\n",
              " datetime.date(2018, 2, 28),\n",
              " datetime.date(2018, 2, 28),\n",
              " datetime.date(2018, 1, 31),\n",
              " datetime.date(2018, 1, 31),\n",
              " datetime.date(2017, 12, 31),\n",
              " datetime.date(2017, 12, 31),\n",
              " datetime.date(2017, 11, 30),\n",
              " datetime.date(2017, 11, 30),\n",
              " datetime.date(2017, 10, 31),\n",
              " datetime.date(2017, 10, 31)]"
            ]
          },
          "metadata": {
            "tags": []
          },
          "execution_count": 71
        }
      ]
    },
    {
      "cell_type": "code",
      "metadata": {
        "id": "shvcBZ2oI46d",
        "colab_type": "code",
        "outputId": "6a513e10-b7ec-4ce1-c8fe-75f8799ef8a0",
        "colab": {
          "base_uri": "https://localhost:8080/",
          "height": 357
        }
      },
      "source": [
        "time"
      ],
      "execution_count": 0,
      "outputs": [
        {
          "output_type": "execute_result",
          "data": {
            "text/plain": [
              "['2018-12-31T00:00:00+00:00',\n",
              " '2018-11-26T00:00:00+00:00',\n",
              " '2018-10-17T00:00:00+00:00',\n",
              " '2018-09-30T00:00:00+00:00',\n",
              " '2018-08-31T00:00:00+00:00',\n",
              " '2018-07-31T00:00:00+00:00',\n",
              " '2018-06-30T00:00:00+00:00',\n",
              " '2018-05-31T00:00:00+00:00',\n",
              " '2018-04-30T00:00:00+00:00',\n",
              " '2018-03-31T00:00:00+00:00',\n",
              " '2018-02-28T00:00:00+00:00',\n",
              " '2018-02-28T00:00:00+00:00',\n",
              " '2018-01-31T00:00:00+00:00',\n",
              " '2018-01-31T00:00:00+00:00',\n",
              " '2017-12-31T00:00:00+00:00',\n",
              " '2017-12-31T00:00:00+00:00',\n",
              " '2017-11-30T00:00:00+00:00',\n",
              " '2017-11-30T00:00:00+00:00',\n",
              " '2017-10-31T00:00:00+00:00',\n",
              " '2017-10-31T00:00:00+00:00']"
            ]
          },
          "metadata": {
            "tags": []
          },
          "execution_count": 53
        }
      ]
    },
    {
      "cell_type": "markdown",
      "metadata": {
        "id": "uPYJQ8ZNwHoq",
        "colab_type": "text"
      },
      "source": [
        "Let's see how much money BlueAct collected during 2018"
      ]
    },
    {
      "cell_type": "code",
      "metadata": {
        "id": "DpOEMlZLA_Ey",
        "colab_type": "code",
        "outputId": "2326b56b-7757-48d9-d179-23a274a72d8f",
        "colab": {
          "base_uri": "https://localhost:8080/",
          "height": 546
        }
      },
      "source": [
        "from plotly.plotly import iplot, sign_in\n",
        "from plotly.graph_objs import Scatter, Figure\n",
        "\n",
        "# sign into the service (get your own credentials!)\n",
        "sign_in(\"cocteautt\",\"8YLww0QuMPVQ46meAMaq\")\n",
        "\n",
        "# create a plot of a single line tracking tweets over time\n",
        "myplot_parts = [Scatter(x=time,y=money)]\n",
        "\n",
        "# make a figure from this line plot...\n",
        "myfigure = Figure(data=myplot_parts)\n",
        "\n",
        "# ... and plot it (the filename is a convention plotly needs in case you want to use it later)\n",
        "iplot(myfigure,filename=\"test1002\")"
      ],
      "execution_count": 0,
      "outputs": [
        {
          "output_type": "execute_result",
          "data": {
            "text/html": [
              "<iframe id=\"igraph\" scrolling=\"no\" style=\"border:none;\" seamless=\"seamless\" src=\"https://plot.ly/~cocteautt/4702.embed\" height=\"525px\" width=\"100%\"></iframe>"
            ],
            "text/plain": [
              "<plotly.tools.PlotlyDisplay object>"
            ]
          },
          "metadata": {
            "tags": []
          },
          "execution_count": 74
        }
      ]
    },
    {
      "cell_type": "markdown",
      "metadata": {
        "id": "UTZnAjGowOMu",
        "colab_type": "text"
      },
      "source": [
        "A bar graph is better"
      ]
    },
    {
      "cell_type": "code",
      "metadata": {
        "id": "mUzjGF_gg8JC",
        "colab_type": "code",
        "outputId": "afa58d74-7be1-4cca-a632-483f11ff43c4",
        "colab": {
          "base_uri": "https://localhost:8080/",
          "height": 546
        }
      },
      "source": [
        "from plotly.plotly import iplot, sign_in\n",
        "import plotly.graph_objs as go\n",
        "\n",
        "# sign into the service (get your own credentials!)\n",
        "sign_in(\"cocteautt\",\"8YLww0QuMPVQ46meAMaq\")\n",
        "\n",
        "# create a plot of a single line tracking tweets over time\n",
        "myplot_parts = [go.Bar(x=time,y=money)]\n",
        "\n",
        "# make a figure from this line plot...\n",
        "myfigure = Figure(data=myplot_parts)\n",
        "\n",
        "# ... and plot it (the filename is a convention plotly needs in case you want to use it later)\n",
        "iplot(myfigure,filename=\"test1002\")"
      ],
      "execution_count": 0,
      "outputs": [
        {
          "output_type": "execute_result",
          "data": {
            "text/html": [
              "<iframe id=\"igraph\" scrolling=\"no\" style=\"border:none;\" seamless=\"seamless\" src=\"https://plot.ly/~cocteautt/4702.embed\" height=\"525px\" width=\"100%\"></iframe>"
            ],
            "text/plain": [
              "<plotly.tools.PlotlyDisplay object>"
            ]
          },
          "metadata": {
            "tags": []
          },
          "execution_count": 76
        }
      ]
    },
    {
      "cell_type": "code",
      "metadata": {
        "id": "KiUV4gk5AEj1",
        "colab_type": "code",
        "colab": {}
      },
      "source": [
        ""
      ],
      "execution_count": 0,
      "outputs": []
    },
    {
      "cell_type": "code",
      "metadata": {
        "id": "ztdDHMK0AEoZ",
        "colab_type": "code",
        "colab": {}
      },
      "source": [
        ""
      ],
      "execution_count": 0,
      "outputs": []
    },
    {
      "cell_type": "code",
      "metadata": {
        "id": "hoamDgwZAEtO",
        "colab_type": "code",
        "colab": {}
      },
      "source": [
        ""
      ],
      "execution_count": 0,
      "outputs": []
    },
    {
      "cell_type": "code",
      "metadata": {
        "id": "-4rNYf0LAEq_",
        "colab_type": "code",
        "colab": {}
      },
      "source": [
        ""
      ],
      "execution_count": 0,
      "outputs": []
    },
    {
      "cell_type": "markdown",
      "metadata": {
        "id": "pY82uyx1-ppQ",
        "colab_type": "text"
      },
      "source": [
        "Candidates data (Dems and Trump):\n",
        "\n",
        "\n",
        "https://www.fec.gov/data/candidates/president/?election_year=2020&cycle=2020&election_full=true\n",
        "\n",
        "* Who are the big players in individual contributions\n",
        "\n",
        "* How much of the money is from outstate. Where does the money come from?\n",
        "\n",
        "* Any other PACs apart from ActBlue? Super PACs for Trump?\n",
        "\n",
        "* The percentage of \"anonymous\" contributions (= ActBlue) as well as for Trump\n",
        "\n",
        "Committees:\n",
        "\n",
        "2016 - 2018 data, at least for now\n",
        "\n",
        "* Super PACs subsectors\n",
        "\n",
        "* What percentage of contributions are given anonimously v the name attached?\n",
        "\n",
        "* Which contributors gave the most money\n",
        "\n",
        "* **IN-KIND contributions**\n",
        "\n",
        "* Joint contributions: A joint contribution is a contribution that is made by more than one person using a single check or other written instrument. Although each individual has a separate contribution limit, joint contributors may combine their contribution limits by contributing a joint contribution (for example, a check for $5,600 for a candidate’s primary election) as long as both sign the check (or an attached statement).\n",
        "\n",
        "\n",
        "TASKS: \n",
        "\n",
        "Analysis:\n",
        "* List of PACs and Super PACs\n",
        "* List of main committeess for each chandidate\n",
        "    * List of surrounding committees for each candidate\n",
        "* Compare the fundraising rates to previous campaigns\n",
        "    * Bernie2020 v Bernie2016\n",
        "    * Fed election v. Senate election\n",
        "* List of candidates\n",
        "\n",
        "Bot:\n",
        "* List of questions we have and we want to address in the bot\n",
        "\n",
        "\n",
        "Links:\n",
        "https://publicintegrity.org/federal-politics/elections/presidential-fundraising-2020-small-dollar-donors-act-blue/\n",
        "\n",
        "### Questions:\n",
        "Hi there! I'm Ellie the election bot. I'm here to help you understand 2020 a bit more – there are a ton of candidates, tons of money, and plenty to learn about FEC.\n",
        "\n",
        "[FEC what?] [I know a bit about this stuff.]\n",
        "\n",
        "[FEC what?]\n",
        "The Federal Election Commission! They're the government body in charge of all campaign financing, voter fraud – all things electoral.\n",
        "\n",
        "[I know a bit about this stuff.]\n",
        "\n",
        "Gotcha, then we can just get started. What would you like to know about?\n",
        "\n",
        "[Candidates] [Top spenders] [Surprise Me]\n",
        "\n",
        "[Candidates]\n",
        "Sure. Here are some of the candidates running in the 2020 primaries: [CANDIDATES] Who do you want to know more about?\n",
        "\n",
        " [BIDEN] [SANDERS] [WARREN] [OTHER]\n",
        "\n",
        "Ok, you want to learn more about CANDIDATE. [CANDIDATE] Do you want to know more?\n",
        " \n",
        " [BIDEN]\n",
        "Joe Biden (D-DE) is a former vice president who currently leads in the Democratic polls. Biden previously sought the Democratic nomination in 1988 and 2008. \n",
        "\n",
        "[SANDERS]\n",
        "Bernie Sanders' (I-VT) campaigns have historically rode on small-money donors. Sanders lost out on the Democratic nomination for president in 2016 to Hillary Clinton, and is caucusing with the Democrats for the 2020 nomination.\n",
        "\n",
        "[WARREN]\n",
        "Elizabeth Warren (D-MA) is a former Harvard Law professor whose major policy positions include total student loan forgiveness and breaking up big tech. Warren has sworn off big money fundraisers.\n",
        "\n",
        "[TELL ME MORE] [SHOW ME OTHER OPTIONS]\n",
        "\n",
        "[TELL ME MORE - BIDEN]\n",
        "Biden recently joined the presidential campaign, so there isn't much FEC data on him yet. In April, his campaign said that Biden raised 6.3 million dollars in the first 24 hours, which would be more than any other 2020 democratic candidate.\n",
        "\n",
        "[TELL ME MORE - SANDERS]\n",
        "So far, Bernie has raised 18.2 million dollars from individual contributors, the most of any candidate in the 2020 race.\n",
        "\n",
        "\n",
        "[TELL ME MORE - WARREN]\n",
        "10.4 million dolalrs of Warren's 2020 war chest has been transferred from leftover funds from her senate race. Legally, only federal election cash can be transferred, giving former congresspeople and senators leverage over governors and mayors.\n",
        "\n",
        "[OTHER]\n",
        "[HARRIS] [O'ROURKE] [BUTTIGIEG] [GILLIBRAND] [BOOKER] [KLOBUCHAR] [YANG] [CASTRO] [HICKENLOOPER] [GABBARD] [DELANEY] [INSLEE] [BENNET] [MESSAM] [MOULTON] [RYAN] [SWALWELL] [WILLIAMSON] [TRUMP] [WELD]\n",
        "  \n",
        "  [Yes] [No]\n",
        " \n",
        " [NOT CANDIDATE]\n",
        " Hey, stop playing with me. These are the candidates running in the 2020 primaries: [CANDIDATES]. Who do you want to know more about?\n",
        "\n",
        "[Top spenders]\n",
        "\n",
        "So far, the candidates who have spent the most of what they've raised are Donald Trump (8.8 million), Elizabeth Warren (5.3 million), and Bernie Sanders (5 million).\n",
        "\n",
        "[SURPRISE ME]\n",
        "\n",
        "Ok, check this out. Donors can also give \"in-kind\" donations, which are non-monetary donations. Elizabeth Warren gave nearly $6000 to her own campaign, in the form of two unique book contributions.\n",
        " \n",
        "TELL ME MORE]\n",
        " \n",
        "Another surprise."
      ]
    },
    {
      "cell_type": "code",
      "metadata": {
        "id": "le1S58aR_qIt",
        "colab_type": "code",
        "colab": {}
      },
      "source": [
        ""
      ],
      "execution_count": 0,
      "outputs": []
    },
    {
      "cell_type": "markdown",
      "metadata": {
        "id": "DoP70J9UsNEx",
        "colab_type": "text"
      },
      "source": [
        "**Why Ellie?**\n",
        "\n",
        "We named the bot Ellie for a simple reason. The bot is dealing with campaign finance, specifically with the 2020 presidential election in mind. \"Ellie\" felt like a pretty intuitive abbreviation for election.\n",
        "\n",
        "\n",
        "**Why a bot?**\n",
        "\n",
        "Not many people have the time to thoroughly peruse the fillngs on the FEC website. However, many people are interested in campaign finances – where candidate money is coming from, either from small money donors or political action committees, and what that says about the candidates themselves.\n",
        "\n",
        "A bot is an expedient way for voters to educate themselves on issues of campaign finance, without having to query expansive, jargon-filled databases themselves. Ellie is outfitted to help both novices and experienced individuals when it comes to campaign finance, which can be a nebulous and dense topic.\n",
        "\n",
        "Ellie also makes the exploration of 2020 candidates' campaign finance an interactive experience. The goal of the bot is to demystify campaign finance and make understanding 2020 money flow easier and (hopefully) a fun thing to do.\n",
        "\n",
        "**FEC Data**\n",
        "\n",
        "The Federal Election Commission (FEC) is the regulatory body that administers and polices federal campaign finance law. This makes the FEC the uniquely comprehensive dataset for understanding the money that flows in and out of campaigns, year after year, as well as the citizens and groups that fund different campaigns and causes. Small dollar donations are becoming an increasingly popular means of campaign fundraising, which makes the dataset all the more interesting to query.\n",
        "\n",
        "* Process\n",
        "\n",
        "    * To analyze the data, we checked the work done by other reporters.\n",
        "    \n",
        "    * Some of the code repos we used as documentation are:\n",
        "    \n",
        "        * \n",
        "    \n",
        "    * Finally, we read the FEC API documentation. It was not a very comprehensive data source so we have to take advantage of its sandbox to understand how to deal with FEC data.\n",
        "    \n",
        "* Challenges\n",
        "    * The FEC API documentation is extensive but hard to follow, with over 80 possible endpoints, each one consisting of similar phrasing with technical variations in the information they each pulled. We had to figure out the best endpoint to use for Ellie's purpose, eventually settling on the committee endpoint.\n",
        "    * Despite FEC quarterly filings being due in mid-April and FEC employees assurance that all data would be processed and accessible via the API within 10 days of the filing deadline, some data is still not fetchable. For this reason, we've had to substitute some queries of 2020 data with queries of previous candidate elections; e.g., Bernie 2016. \n",
        "\n",
        "\n",
        "\n",
        "[Narrative Science](https://narrativescience.com/)\n",
        "\n",
        "\n",
        "### Ellie the Bot\n",
        "\n",
        "\n",
        "Looking for inspiration, we discovered the following bots that were really useful for our project:\n",
        "\n",
        "* ProPublica's [Election DataBot](https://projects.propublica.org/electionbot/).\n",
        "* The New York Times's [Campaign Finance Bot](https://github.com/newsdev/nyt-campfinbot).\n",
        "\n",
        "\n",
        "These bots was very useful in designing our own.\n",
        "\n",
        "### Data Sources\n",
        "\n",
        "* OpenSecrets https://www.opensecrets.org/\n",
        "* Top recipients https://www.opensecrets.org/political-action-committees-pacs/top-recipients\n",
        "* 2020 Presidential race: https://www.opensecrets.org/2020-presidential-race\n",
        "\n",
        "* Follow The Money https://www.followthemoney.org/\n",
        "\n",
        "* FEC Search: https://www.fec.gov/data/search/\n",
        "\n",
        "* FEC API: https://api.open.fec.gov/developers/\n",
        "\n",
        "\n",
        "\n",
        "Also, during this process, we were able to experiment with other languages to build bots.\n",
        "\n",
        "* First, we learned the basics of Rivescript. RiveScript is a simple scripting language for chatbots with a friendly, easy to learn syntax. It was a useful resource to develop a basic chatbot.\n",
        "\n",
        "* Then, we moved to Rundexter. Rundexter is a platform that makes easier to run bots in different platforms. For the scope of the class, we designed \n",
        "\n",
        "\n",
        "Finally, we made some fireworks art in HTML and CSS to design the website that hosts the project.\n",
        "\n",
        "TODOS:\n",
        "\n",
        "* Make Ellie more chatty.\n",
        "* Update her skills\n",
        "\n",
        "\n",
        "\n",
        "\n",
        "\n",
        "\n",
        "\n",
        "\n"
      ]
    },
    {
      "cell_type": "code",
      "metadata": {
        "id": "3UFbLFr0dKYg",
        "colab_type": "code",
        "colab": {}
      },
      "source": [
        ""
      ],
      "execution_count": 0,
      "outputs": []
    }
  ]
}